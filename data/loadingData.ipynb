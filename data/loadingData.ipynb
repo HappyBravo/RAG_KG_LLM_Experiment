{
 "cells": [
  {
   "cell_type": "code",
   "execution_count": 1,
   "metadata": {},
   "outputs": [],
   "source": [
    "import os, csv, json\n",
    "import pandas as pd"
   ]
  },
  {
   "cell_type": "markdown",
   "metadata": {},
   "source": [
    "# FNC1\n"
   ]
  },
  {
   "cell_type": "code",
   "execution_count": 21,
   "metadata": {},
   "outputs": [],
   "source": [
    "fnc1_dataset_path = \"../../DataSets/fnc-1/\""
   ]
  },
  {
   "cell_type": "code",
   "execution_count": 29,
   "metadata": {},
   "outputs": [],
   "source": [
    "fnc1_train_body = fnc1_dataset_path + \"train_bodies.csv\"\n",
    "fnc1_train_stance = fnc1_dataset_path + \"train_stances.csv\"\n",
    "\n",
    "fnc1_test_body = fnc1_dataset_path + \"test_bodies.csv\"\n",
    "fnc1_test_stance = fnc1_dataset_path + \"test_stances_unlabeled.csv\"\n",
    "\n",
    "assert all(map(os.path.exists, [fnc1_train_body, fnc1_train_stance,\n",
    "                                fnc1_test_body, fnc1_test_stance]))"
   ]
  },
  {
   "cell_type": "code",
   "execution_count": 46,
   "metadata": {},
   "outputs": [
    {
     "data": {
      "text/html": [
       "<div>\n",
       "<style scoped>\n",
       "    .dataframe tbody tr th:only-of-type {\n",
       "        vertical-align: middle;\n",
       "    }\n",
       "\n",
       "    .dataframe tbody tr th {\n",
       "        vertical-align: top;\n",
       "    }\n",
       "\n",
       "    .dataframe thead th {\n",
       "        text-align: right;\n",
       "    }\n",
       "</style>\n",
       "<table border=\"1\" class=\"dataframe\">\n",
       "  <thead>\n",
       "    <tr style=\"text-align: right;\">\n",
       "      <th></th>\n",
       "      <th>Body ID</th>\n",
       "      <th>articleBody</th>\n",
       "    </tr>\n",
       "  </thead>\n",
       "  <tbody>\n",
       "    <tr>\n",
       "      <th>0</th>\n",
       "      <td>0</td>\n",
       "      <td>A small meteorite crashed into a wooded area i...</td>\n",
       "    </tr>\n",
       "    <tr>\n",
       "      <th>1</th>\n",
       "      <td>4</td>\n",
       "      <td>Last week we hinted at what was to come as Ebo...</td>\n",
       "    </tr>\n",
       "    <tr>\n",
       "      <th>2</th>\n",
       "      <td>5</td>\n",
       "      <td>(NEWSER) – Wonder how long a Quarter Pounder w...</td>\n",
       "    </tr>\n",
       "    <tr>\n",
       "      <th>3</th>\n",
       "      <td>6</td>\n",
       "      <td>Posting photos of a gun-toting child online, I...</td>\n",
       "    </tr>\n",
       "    <tr>\n",
       "      <th>4</th>\n",
       "      <td>7</td>\n",
       "      <td>At least 25 suspected Boko Haram insurgents we...</td>\n",
       "    </tr>\n",
       "    <tr>\n",
       "      <th>...</th>\n",
       "      <td>...</td>\n",
       "      <td>...</td>\n",
       "    </tr>\n",
       "    <tr>\n",
       "      <th>1678</th>\n",
       "      <td>2528</td>\n",
       "      <td>Intelligence agencies hunting for identity of ...</td>\n",
       "    </tr>\n",
       "    <tr>\n",
       "      <th>1679</th>\n",
       "      <td>2529</td>\n",
       "      <td>While Daleks \"know no fear\" and \"must not fear...</td>\n",
       "    </tr>\n",
       "    <tr>\n",
       "      <th>1680</th>\n",
       "      <td>2530</td>\n",
       "      <td>More than 200 schoolgirls were kidnapped in Ap...</td>\n",
       "    </tr>\n",
       "    <tr>\n",
       "      <th>1681</th>\n",
       "      <td>2531</td>\n",
       "      <td>A Guantanamo Bay prisoner released last year a...</td>\n",
       "    </tr>\n",
       "    <tr>\n",
       "      <th>1682</th>\n",
       "      <td>2532</td>\n",
       "      <td>ANN ARBOR, Mich. – A pizza delivery man in Mic...</td>\n",
       "    </tr>\n",
       "  </tbody>\n",
       "</table>\n",
       "<p>1683 rows × 2 columns</p>\n",
       "</div>"
      ],
      "text/plain": [
       "      Body ID                                        articleBody\n",
       "0           0  A small meteorite crashed into a wooded area i...\n",
       "1           4  Last week we hinted at what was to come as Ebo...\n",
       "2           5  (NEWSER) – Wonder how long a Quarter Pounder w...\n",
       "3           6  Posting photos of a gun-toting child online, I...\n",
       "4           7  At least 25 suspected Boko Haram insurgents we...\n",
       "...       ...                                                ...\n",
       "1678     2528  Intelligence agencies hunting for identity of ...\n",
       "1679     2529  While Daleks \"know no fear\" and \"must not fear...\n",
       "1680     2530  More than 200 schoolgirls were kidnapped in Ap...\n",
       "1681     2531  A Guantanamo Bay prisoner released last year a...\n",
       "1682     2532  ANN ARBOR, Mich. – A pizza delivery man in Mic...\n",
       "\n",
       "[1683 rows x 2 columns]"
      ]
     },
     "execution_count": 46,
     "metadata": {},
     "output_type": "execute_result"
    }
   ],
   "source": [
    "pd.read_csv(fnc1_train_body)\n"
   ]
  },
  {
   "cell_type": "code",
   "execution_count": 47,
   "metadata": {},
   "outputs": [
    {
     "data": {
      "text/html": [
       "<div>\n",
       "<style scoped>\n",
       "    .dataframe tbody tr th:only-of-type {\n",
       "        vertical-align: middle;\n",
       "    }\n",
       "\n",
       "    .dataframe tbody tr th {\n",
       "        vertical-align: top;\n",
       "    }\n",
       "\n",
       "    .dataframe thead th {\n",
       "        text-align: right;\n",
       "    }\n",
       "</style>\n",
       "<table border=\"1\" class=\"dataframe\">\n",
       "  <thead>\n",
       "    <tr style=\"text-align: right;\">\n",
       "      <th></th>\n",
       "      <th>Headline</th>\n",
       "      <th>Body ID</th>\n",
       "      <th>Stance</th>\n",
       "    </tr>\n",
       "  </thead>\n",
       "  <tbody>\n",
       "    <tr>\n",
       "      <th>0</th>\n",
       "      <td>Police find mass graves with at least '15 bodi...</td>\n",
       "      <td>712</td>\n",
       "      <td>unrelated</td>\n",
       "    </tr>\n",
       "    <tr>\n",
       "      <th>1</th>\n",
       "      <td>Hundreds of Palestinians flee floods in Gaza a...</td>\n",
       "      <td>158</td>\n",
       "      <td>agree</td>\n",
       "    </tr>\n",
       "    <tr>\n",
       "      <th>2</th>\n",
       "      <td>Christian Bale passes on role of Steve Jobs, a...</td>\n",
       "      <td>137</td>\n",
       "      <td>unrelated</td>\n",
       "    </tr>\n",
       "    <tr>\n",
       "      <th>3</th>\n",
       "      <td>HBO and Apple in Talks for $15/Month Apple TV ...</td>\n",
       "      <td>1034</td>\n",
       "      <td>unrelated</td>\n",
       "    </tr>\n",
       "    <tr>\n",
       "      <th>4</th>\n",
       "      <td>Spider burrowed through tourist's stomach and ...</td>\n",
       "      <td>1923</td>\n",
       "      <td>disagree</td>\n",
       "    </tr>\n",
       "    <tr>\n",
       "      <th>...</th>\n",
       "      <td>...</td>\n",
       "      <td>...</td>\n",
       "      <td>...</td>\n",
       "    </tr>\n",
       "    <tr>\n",
       "      <th>49967</th>\n",
       "      <td>Urgent: The Leader of ISIL 'Abu Bakr al-Baghda...</td>\n",
       "      <td>1681</td>\n",
       "      <td>unrelated</td>\n",
       "    </tr>\n",
       "    <tr>\n",
       "      <th>49968</th>\n",
       "      <td>Brian Williams slams social media for speculat...</td>\n",
       "      <td>2419</td>\n",
       "      <td>unrelated</td>\n",
       "    </tr>\n",
       "    <tr>\n",
       "      <th>49969</th>\n",
       "      <td>Mexico Says Missing Students Not Found In Firs...</td>\n",
       "      <td>1156</td>\n",
       "      <td>agree</td>\n",
       "    </tr>\n",
       "    <tr>\n",
       "      <th>49970</th>\n",
       "      <td>US Lawmaker: Ten ISIS Fighters Have Been Appre...</td>\n",
       "      <td>1012</td>\n",
       "      <td>discuss</td>\n",
       "    </tr>\n",
       "    <tr>\n",
       "      <th>49971</th>\n",
       "      <td>Shots Heard In Alleged Brown Shooting Recordin...</td>\n",
       "      <td>2044</td>\n",
       "      <td>unrelated</td>\n",
       "    </tr>\n",
       "  </tbody>\n",
       "</table>\n",
       "<p>49972 rows × 3 columns</p>\n",
       "</div>"
      ],
      "text/plain": [
       "                                                Headline  Body ID     Stance\n",
       "0      Police find mass graves with at least '15 bodi...      712  unrelated\n",
       "1      Hundreds of Palestinians flee floods in Gaza a...      158      agree\n",
       "2      Christian Bale passes on role of Steve Jobs, a...      137  unrelated\n",
       "3      HBO and Apple in Talks for $15/Month Apple TV ...     1034  unrelated\n",
       "4      Spider burrowed through tourist's stomach and ...     1923   disagree\n",
       "...                                                  ...      ...        ...\n",
       "49967  Urgent: The Leader of ISIL 'Abu Bakr al-Baghda...     1681  unrelated\n",
       "49968  Brian Williams slams social media for speculat...     2419  unrelated\n",
       "49969  Mexico Says Missing Students Not Found In Firs...     1156      agree\n",
       "49970  US Lawmaker: Ten ISIS Fighters Have Been Appre...     1012    discuss\n",
       "49971  Shots Heard In Alleged Brown Shooting Recordin...     2044  unrelated\n",
       "\n",
       "[49972 rows x 3 columns]"
      ]
     },
     "execution_count": 47,
     "metadata": {},
     "output_type": "execute_result"
    }
   ],
   "source": [
    "pd.read_csv(fnc1_train_stance)\n"
   ]
  },
  {
   "cell_type": "code",
   "execution_count": 48,
   "metadata": {},
   "outputs": [],
   "source": [
    "train_stance = pd.read_csv(fnc1_train_stance)\n"
   ]
  },
  {
   "cell_type": "code",
   "execution_count": 49,
   "metadata": {},
   "outputs": [
    {
     "data": {
      "text/plain": [
       "Stance\n",
       "unrelated    36545\n",
       "discuss       8909\n",
       "agree         3678\n",
       "disagree       840\n",
       "Name: count, dtype: int64"
      ]
     },
     "execution_count": 49,
     "metadata": {},
     "output_type": "execute_result"
    }
   ],
   "source": [
    "train_stance[\"Stance\"].value_counts()\n"
   ]
  },
  {
   "cell_type": "code",
   "execution_count": null,
   "metadata": {},
   "outputs": [],
   "source": []
  },
  {
   "cell_type": "code",
   "execution_count": null,
   "metadata": {},
   "outputs": [],
   "source": []
  },
  {
   "cell_type": "code",
   "execution_count": null,
   "metadata": {},
   "outputs": [],
   "source": []
  },
  {
   "cell_type": "code",
   "execution_count": 4,
   "metadata": {},
   "outputs": [],
   "source": [
    "train_data_paths = [\"./fnc-1/deep_learning_model/train.csv\", \n",
    "                    \"./fnc-1/tree_model/train_bodies_processed.csv\"] \n",
    "train_body_data_paths = [\"./fnc-1/deep_learning_model/test_bodies.csv\",\n",
    "                         \"./fnc-1/tree_model/train_bodies_processed.csv\"]"
   ]
  },
  {
   "cell_type": "code",
   "execution_count": 44,
   "metadata": {},
   "outputs": [
    {
     "data": {
      "text/html": [
       "<div>\n",
       "<style scoped>\n",
       "    .dataframe tbody tr th:only-of-type {\n",
       "        vertical-align: middle;\n",
       "    }\n",
       "\n",
       "    .dataframe tbody tr th {\n",
       "        vertical-align: top;\n",
       "    }\n",
       "\n",
       "    .dataframe thead th {\n",
       "        text-align: right;\n",
       "    }\n",
       "</style>\n",
       "<table border=\"1\" class=\"dataframe\">\n",
       "  <thead>\n",
       "    <tr style=\"text-align: right;\">\n",
       "      <th></th>\n",
       "      <th>Body ID</th>\n",
       "      <th>articleBody</th>\n",
       "    </tr>\n",
       "  </thead>\n",
       "  <tbody>\n",
       "    <tr>\n",
       "      <th>0</th>\n",
       "      <td>1</td>\n",
       "      <td>Al-Sisi has denied Israeli reports stating tha...</td>\n",
       "    </tr>\n",
       "    <tr>\n",
       "      <th>1</th>\n",
       "      <td>2</td>\n",
       "      <td>A bereaved Afghan mother took revenge on the T...</td>\n",
       "    </tr>\n",
       "    <tr>\n",
       "      <th>2</th>\n",
       "      <td>3</td>\n",
       "      <td>CNBC is reporting Tesla has chosen Nevada as t...</td>\n",
       "    </tr>\n",
       "    <tr>\n",
       "      <th>3</th>\n",
       "      <td>12</td>\n",
       "      <td>A 4-inch version of the iPhone 6 is said to be...</td>\n",
       "    </tr>\n",
       "    <tr>\n",
       "      <th>4</th>\n",
       "      <td>19</td>\n",
       "      <td>GR editorâs Note\\n\\nThere are no reports in ...</td>\n",
       "    </tr>\n",
       "    <tr>\n",
       "      <th>...</th>\n",
       "      <td>...</td>\n",
       "      <td>...</td>\n",
       "    </tr>\n",
       "    <tr>\n",
       "      <th>899</th>\n",
       "      <td>2582</td>\n",
       "      <td>Congressional Republicans, evidently hoping th...</td>\n",
       "    </tr>\n",
       "    <tr>\n",
       "      <th>900</th>\n",
       "      <td>2583</td>\n",
       "      <td>Did Obamacare work?\\n\\nIts worth reflecting u...</td>\n",
       "    </tr>\n",
       "    <tr>\n",
       "      <th>901</th>\n",
       "      <td>2584</td>\n",
       "      <td>Millions may lose coverage next year if Congre...</td>\n",
       "    </tr>\n",
       "    <tr>\n",
       "      <th>902</th>\n",
       "      <td>2585</td>\n",
       "      <td>Come November, the grim trudge across the incr...</td>\n",
       "    </tr>\n",
       "    <tr>\n",
       "      <th>903</th>\n",
       "      <td>2586</td>\n",
       "      <td>Remember how much Republicans wanted to repeal...</td>\n",
       "    </tr>\n",
       "  </tbody>\n",
       "</table>\n",
       "<p>904 rows × 2 columns</p>\n",
       "</div>"
      ],
      "text/plain": [
       "     Body ID                                        articleBody\n",
       "0          1  Al-Sisi has denied Israeli reports stating tha...\n",
       "1          2  A bereaved Afghan mother took revenge on the T...\n",
       "2          3  CNBC is reporting Tesla has chosen Nevada as t...\n",
       "3         12  A 4-inch version of the iPhone 6 is said to be...\n",
       "4         19  GR editorâs Note\\n\\nThere are no reports in ...\n",
       "..       ...                                                ...\n",
       "899     2582  Congressional Republicans, evidently hoping th...\n",
       "900     2583  Did Obamacare work?\\n\\nIts worth reflecting u...\n",
       "901     2584  Millions may lose coverage next year if Congre...\n",
       "902     2585  Come November, the grim trudge across the incr...\n",
       "903     2586  Remember how much Republicans wanted to repeal...\n",
       "\n",
       "[904 rows x 2 columns]"
      ]
     },
     "execution_count": 44,
     "metadata": {},
     "output_type": "execute_result"
    }
   ],
   "source": [
    "pd.read_csv(train_body_data_paths[0], encoding='unicode_escape')\n"
   ]
  },
  {
   "cell_type": "code",
   "execution_count": 43,
   "metadata": {},
   "outputs": [
    {
     "data": {
      "text/html": [
       "<div>\n",
       "<style scoped>\n",
       "    .dataframe tbody tr th:only-of-type {\n",
       "        vertical-align: middle;\n",
       "    }\n",
       "\n",
       "    .dataframe tbody tr th {\n",
       "        vertical-align: top;\n",
       "    }\n",
       "\n",
       "    .dataframe thead th {\n",
       "        text-align: right;\n",
       "    }\n",
       "</style>\n",
       "<table border=\"1\" class=\"dataframe\">\n",
       "  <thead>\n",
       "    <tr style=\"text-align: right;\">\n",
       "      <th></th>\n",
       "      <th>Body ID</th>\n",
       "      <th>articleBody</th>\n",
       "    </tr>\n",
       "  </thead>\n",
       "  <tbody>\n",
       "    <tr>\n",
       "      <th>0</th>\n",
       "      <td>0</td>\n",
       "      <td>A small meteorite crashed into a wooded area i...</td>\n",
       "    </tr>\n",
       "    <tr>\n",
       "      <th>1</th>\n",
       "      <td>4</td>\n",
       "      <td>Last week we hinted at what was to come as Ebo...</td>\n",
       "    </tr>\n",
       "    <tr>\n",
       "      <th>2</th>\n",
       "      <td>5</td>\n",
       "      <td>(NEWSER) â Wonder how long a Quarter Pounder...</td>\n",
       "    </tr>\n",
       "    <tr>\n",
       "      <th>3</th>\n",
       "      <td>6</td>\n",
       "      <td>Posting photos of a gun-toting child online, I...</td>\n",
       "    </tr>\n",
       "    <tr>\n",
       "      <th>4</th>\n",
       "      <td>7</td>\n",
       "      <td>At least 25 suspected Boko Haram insurgents we...</td>\n",
       "    </tr>\n",
       "    <tr>\n",
       "      <th>...</th>\n",
       "      <td>...</td>\n",
       "      <td>...</td>\n",
       "    </tr>\n",
       "    <tr>\n",
       "      <th>1678</th>\n",
       "      <td>2528</td>\n",
       "      <td>Intelligence agencies hunting for identity of ...</td>\n",
       "    </tr>\n",
       "    <tr>\n",
       "      <th>1679</th>\n",
       "      <td>2529</td>\n",
       "      <td>While Daleks \"know no fear\" and \"must not fear...</td>\n",
       "    </tr>\n",
       "    <tr>\n",
       "      <th>1680</th>\n",
       "      <td>2530</td>\n",
       "      <td>More than 200 schoolgirls were kidnapped in Ap...</td>\n",
       "    </tr>\n",
       "    <tr>\n",
       "      <th>1681</th>\n",
       "      <td>2531</td>\n",
       "      <td>A Guantanamo Bay prisoner released last year a...</td>\n",
       "    </tr>\n",
       "    <tr>\n",
       "      <th>1682</th>\n",
       "      <td>2532</td>\n",
       "      <td>ANN ARBOR, Mich. â A pizza delivery man in M...</td>\n",
       "    </tr>\n",
       "  </tbody>\n",
       "</table>\n",
       "<p>1683 rows × 2 columns</p>\n",
       "</div>"
      ],
      "text/plain": [
       "      Body ID                                        articleBody\n",
       "0           0  A small meteorite crashed into a wooded area i...\n",
       "1           4  Last week we hinted at what was to come as Ebo...\n",
       "2           5  (NEWSER) â Wonder how long a Quarter Pounder...\n",
       "3           6  Posting photos of a gun-toting child online, I...\n",
       "4           7  At least 25 suspected Boko Haram insurgents we...\n",
       "...       ...                                                ...\n",
       "1678     2528  Intelligence agencies hunting for identity of ...\n",
       "1679     2529  While Daleks \"know no fear\" and \"must not fear...\n",
       "1680     2530  More than 200 schoolgirls were kidnapped in Ap...\n",
       "1681     2531  A Guantanamo Bay prisoner released last year a...\n",
       "1682     2532  ANN ARBOR, Mich. â A pizza delivery man in M...\n",
       "\n",
       "[1683 rows x 2 columns]"
      ]
     },
     "execution_count": 43,
     "metadata": {},
     "output_type": "execute_result"
    }
   ],
   "source": [
    "pd.read_csv(train_body_data_paths[1], encoding='unicode_escape')"
   ]
  },
  {
   "cell_type": "code",
   "execution_count": null,
   "metadata": {},
   "outputs": [],
   "source": []
  },
  {
   "cell_type": "code",
   "execution_count": 40,
   "metadata": {},
   "outputs": [],
   "source": [
    "results_csv = \"./fnc-1/tree_model/results/averaged_2models_cor4.csv\""
   ]
  },
  {
   "cell_type": "code",
   "execution_count": 42,
   "metadata": {},
   "outputs": [
    {
     "data": {
      "text/html": [
       "<div>\n",
       "<style scoped>\n",
       "    .dataframe tbody tr th:only-of-type {\n",
       "        vertical-align: middle;\n",
       "    }\n",
       "\n",
       "    .dataframe tbody tr th {\n",
       "        vertical-align: top;\n",
       "    }\n",
       "\n",
       "    .dataframe thead th {\n",
       "        text-align: right;\n",
       "    }\n",
       "</style>\n",
       "<table border=\"1\" class=\"dataframe\">\n",
       "  <thead>\n",
       "    <tr style=\"text-align: right;\">\n",
       "      <th></th>\n",
       "      <th>Headline</th>\n",
       "      <th>Body ID</th>\n",
       "      <th>Stance</th>\n",
       "    </tr>\n",
       "  </thead>\n",
       "  <tbody>\n",
       "    <tr>\n",
       "      <th>0</th>\n",
       "      <td>Ferguson riots: Pregnant woman loses eye after...</td>\n",
       "      <td>2008</td>\n",
       "      <td>unrelated</td>\n",
       "    </tr>\n",
       "    <tr>\n",
       "      <th>1</th>\n",
       "      <td>Crazy Conservatives Are Sure a Gitmo Detainee ...</td>\n",
       "      <td>1550</td>\n",
       "      <td>unrelated</td>\n",
       "    </tr>\n",
       "    <tr>\n",
       "      <th>2</th>\n",
       "      <td>A Russian Guy Says His Justin Bieber Ringtone ...</td>\n",
       "      <td>2</td>\n",
       "      <td>unrelated</td>\n",
       "    </tr>\n",
       "    <tr>\n",
       "      <th>3</th>\n",
       "      <td>Zombie Cat: Buried Kitty Believed Dead, Meows ...</td>\n",
       "      <td>1793</td>\n",
       "      <td>unrelated</td>\n",
       "    </tr>\n",
       "    <tr>\n",
       "      <th>4</th>\n",
       "      <td>Argentina's President Adopts Boy to End Werewo...</td>\n",
       "      <td>37</td>\n",
       "      <td>unrelated</td>\n",
       "    </tr>\n",
       "    <tr>\n",
       "      <th>...</th>\n",
       "      <td>...</td>\n",
       "      <td>...</td>\n",
       "      <td>...</td>\n",
       "    </tr>\n",
       "    <tr>\n",
       "      <th>25408</th>\n",
       "      <td>The success of the Affordable Care Act is a hu...</td>\n",
       "      <td>2582</td>\n",
       "      <td>agree</td>\n",
       "    </tr>\n",
       "    <tr>\n",
       "      <th>25409</th>\n",
       "      <td>The success of the Affordable Care Act is a hu...</td>\n",
       "      <td>2583</td>\n",
       "      <td>agree</td>\n",
       "    </tr>\n",
       "    <tr>\n",
       "      <th>25410</th>\n",
       "      <td>The success of the Affordable Care Act is a hu...</td>\n",
       "      <td>2584</td>\n",
       "      <td>unrelated</td>\n",
       "    </tr>\n",
       "    <tr>\n",
       "      <th>25411</th>\n",
       "      <td>The success of the Affordable Care Act is a hu...</td>\n",
       "      <td>2585</td>\n",
       "      <td>agree</td>\n",
       "    </tr>\n",
       "    <tr>\n",
       "      <th>25412</th>\n",
       "      <td>The success of the Affordable Care Act is a hu...</td>\n",
       "      <td>2586</td>\n",
       "      <td>agree</td>\n",
       "    </tr>\n",
       "  </tbody>\n",
       "</table>\n",
       "<p>25413 rows × 3 columns</p>\n",
       "</div>"
      ],
      "text/plain": [
       "                                                Headline  Body ID     Stance\n",
       "0      Ferguson riots: Pregnant woman loses eye after...     2008  unrelated\n",
       "1      Crazy Conservatives Are Sure a Gitmo Detainee ...     1550  unrelated\n",
       "2      A Russian Guy Says His Justin Bieber Ringtone ...        2  unrelated\n",
       "3      Zombie Cat: Buried Kitty Believed Dead, Meows ...     1793  unrelated\n",
       "4      Argentina's President Adopts Boy to End Werewo...       37  unrelated\n",
       "...                                                  ...      ...        ...\n",
       "25408  The success of the Affordable Care Act is a hu...     2582      agree\n",
       "25409  The success of the Affordable Care Act is a hu...     2583      agree\n",
       "25410  The success of the Affordable Care Act is a hu...     2584  unrelated\n",
       "25411  The success of the Affordable Care Act is a hu...     2585      agree\n",
       "25412  The success of the Affordable Care Act is a hu...     2586      agree\n",
       "\n",
       "[25413 rows x 3 columns]"
      ]
     },
     "execution_count": 42,
     "metadata": {},
     "output_type": "execute_result"
    }
   ],
   "source": [
    "pd.read_csv(results_csv)"
   ]
  },
  {
   "cell_type": "code",
   "execution_count": 52,
   "metadata": {},
   "outputs": [],
   "source": [
    "result_data = pd.read_csv(results_csv)"
   ]
  },
  {
   "cell_type": "code",
   "execution_count": 62,
   "metadata": {},
   "outputs": [],
   "source": [
    "merged = pd.merge(train_stance, result_data, on=\"Body ID\", how=\"left\").head()"
   ]
  },
  {
   "cell_type": "code",
   "execution_count": 63,
   "metadata": {},
   "outputs": [
    {
     "data": {
      "text/plain": [
       "array([[\"Police find mass graves with at least '15 bodies' near Mexico town where 43 students disappeared after police clash\",\n",
       "        712, 'unrelated', nan, nan],\n",
       "       ['Hundreds of Palestinians flee floods in Gaza as Israel opens dams',\n",
       "        158, 'agree', nan, nan],\n",
       "       [\"Christian Bale passes on role of Steve Jobs, actor reportedly felt he wasn't right for part\",\n",
       "        137, 'unrelated', nan, nan],\n",
       "       ['HBO and Apple in Talks for $15/Month Apple TV Streaming Service Launching in April',\n",
       "        1034, 'unrelated', nan, nan],\n",
       "       [\"Spider burrowed through tourist's stomach and up into his chest\",\n",
       "        1923, 'disagree', nan, nan]], dtype=object)"
      ]
     },
     "execution_count": 63,
     "metadata": {},
     "output_type": "execute_result"
    }
   ],
   "source": [
    "merged.values"
   ]
  },
  {
   "cell_type": "code",
   "execution_count": null,
   "metadata": {},
   "outputs": [],
   "source": []
  },
  {
   "cell_type": "markdown",
   "metadata": {},
   "source": [
    "# HELPFUL FUNCTIONS"
   ]
  },
  {
   "cell_type": "code",
   "execution_count": null,
   "metadata": {},
   "outputs": [],
   "source": [
    "def loadJSON(filepathh):\n",
    "    _dataa = {} \n",
    "    if os.path.exists(filepathh):\n",
    "        with open(filepathh, \"r\", encoding=\"utf-8\") as _f:\n",
    "            _dataa = json.load(_f)\n",
    "    else:\n",
    "        print(f\"{filepathh} does not exists...\\n\") \n",
    "    return _dataa \n",
    "\n",
    "def loadTXT(filepathh):\n",
    "    _dataa = \"\"\n",
    "    if os.path.exists(filepathh):\n",
    "        with open(filepathh, \"r\", encoding=\"utf-8\") as _f:\n",
    "            _dataa = _f.read()\n",
    "    else:\n",
    "        print(f\"{filepathh} does not exists...\\n\") \n",
    "    return _dataa \n",
    "\n",
    "def loadFILE(filepathh = \"\"):\n",
    "    if os.path.exists(filepathh):\n",
    "        if filepathh.endswith(\".txt\"):\n",
    "            return loadTXT(filepathh)\n",
    "        elif filepathh.endswith(\".json\"):\n",
    "            return loadJSON(filepathh)\n",
    "        else:\n",
    "            print(\"\\n- Invalid File format 😐 !!!\\n\")\n",
    "            return None\n",
    "    else:\n",
    "        print(f\"{filepathh} does not exists...\\n\") \n",
    "\n",
    "\n",
    "def save_csv(df_obj, file_pathh = \"./out.csv\"):\n",
    "    try :\n",
    "        df_obj.to_csv(file_pathh, index = False)\n",
    "        print(f\"Dataframe saved to path - '{file_pathh}'\")\n",
    "        return 1\n",
    "    except Exception as e:\n",
    "        print(f\"Error saving dataframe!!!\\nError - {e}\")\n",
    "        return 0"
   ]
  },
  {
   "cell_type": "markdown",
   "metadata": {},
   "source": [
    "# PolitiFact and Snopes"
   ]
  },
  {
   "cell_type": "code",
   "execution_count": 3,
   "metadata": {},
   "outputs": [],
   "source": [
    "polti_pathh = \"../../DataSets/EMNLP2020/formatted_data/Politifact/\"\n",
    "snope_pathh = \"../../DataSets/EMNLP2020/formatted_data/Snopes/\"\n",
    "\n",
    "data_folder_paths = [polti_pathh, snope_pathh]"
   ]
  },
  {
   "cell_type": "code",
   "execution_count": 4,
   "metadata": {},
   "outputs": [],
   "source": [
    "content_file_name = \"articles_content.json\""
   ]
  },
  {
   "cell_type": "code",
   "execution_count": 5,
   "metadata": {},
   "outputs": [],
   "source": [
    "req_files = [data_folder_path+content_file_name for data_folder_path in data_folder_paths]\n",
    "assert all(map(os.path.exists, req_files))"
   ]
  },
  {
   "cell_type": "code",
   "execution_count": 6,
   "metadata": {},
   "outputs": [],
   "source": [
    "file_data = [loadFILE(file) for file in req_files]"
   ]
  },
  {
   "cell_type": "code",
   "execution_count": 7,
   "metadata": {},
   "outputs": [
    {
     "data": {
      "text/plain": [
       "{'body-image': [],\n",
       " 'body-text': ['Donald Trump continues to attack Hillary Clinton on everything from campaign spending to ISIS.',\n",
       "  'At a rally in Phoenix, he accused her of taking money from countries that have a poor rapport with women and gay people.',\n",
       "  '\"She\\'s been given tens of millions of dollars by countries that treat women horribly,\" Trump said June 18. \"And countries that kill gays, they kill gays, they push them off of buildings.\"',\n",
       "  'Trump, whose campaign did not return a request for comment, seems to be referencing donations given to the Clinton Foundation. Trump has referenced her foundation ties in the past, saying she needs to \"return the $25 million\" Saudi Arabia gave the foundation.',\n",
       "  'The William J. Clinton Foundation was incorporated in 1997. The foundation agreed to disclose its donors when Hillary Clinton became secretary of state in 2009.',\n",
       "  \"We wondered whether the Clintons' donor list holds up to Trump's claim.\",\n",
       "  'But first, it is important to note that political candidates cannot take money from foreign entities.',\n",
       "  '\"The prohibition in the Federal Election Campaign Act is against candidates or political committees soliciting, accepting or receiving contributions from foreign nationals, not only governments,\" said Michael Malbin, a political science professor at the University at Albany.',\n",
       "  'Hillary Clinton spokesman Josh Schwerin also noted that the former first lady played no role in the foundation while she was secretary of state.',\n",
       "  '\"Further, she did not blink before standing up to countries that oppressed their people and denied them of their rights, from LGBT rights to women\\'s rights,\" Schwerin said.',\n",
       "  \"Nonetheless. looking at the Clinton Foundation's donor list, Saudi Arabia gave between $10 million and $25 million. But the foundation reported the Saudi money in December 2008, and the amount hasn't changed since. Clinton Foundation spokesman Brian Cookstra pointed out that Saudi Arabia did not give to the foundation while Secretary Clinton was at the State Department.\",\n",
       "  \"The foundation has also taken between $1 million and $5 million each from United Arab Emirates, Qatar and Oman. As The Wall Street Journal reported, several of these donations came in 2014, after Clinton's tenure at the State Department.\",\n",
       "  'We\\'ve fact-checked a similar claim before when Republican National Committee chairman Reince Priebus said in April 2015 that Clinton took money from the kings of \"Saudi Arabia, Morocco and Oman and Yemen.\" Every country except Yemen has contributed to the Clinton Foundation, but Preibus\\' claim made it seem like Clinton herself took the money. We rated it Half True.',\n",
       "  \"Women's rights\",\n",
       "  'Human Rights Watch tracks how women are treated in each of these countries.',\n",
       "  'In Saudi Arabia, a woman needs \"male guardian\" approval on everything from obtaining a passport to seeking higher education. They also have no divorce rights.',\n",
       "  'The same male approval is needed for marriage in United Arab Emirates, plus laws there also allow a husband to assault his wife and children.',\n",
       "  'In Qatar, marital rape is permitted. Women need a male guardian to approve a marriage contract, and one law specifies that a wife must obey her husband.',\n",
       "  'And in Oman, Human Rights Watch notes that while there is a nondiscrimination law, women still face discrimination when it comes to domestic issues such as child custody and divorce.',\n",
       "  'Gay rights',\n",
       "  'According to the International Lesbian, Gay, Bisexual, Trans and Intersex Association, all sex outside of marriage, including same-sex intercourse, in Saudi Arabia is punishable by death.',\n",
       "  'For a married man, the penalty is death by stoning. An unmarried man faces 100 blows of a whip.',\n",
       "  'In Qatar, any sexual act outside of marriage is punishable by death.',\n",
       "  'The United Arab Emirates also bans sex outside of marriage, and the death penalty could apply to consensual \"same-sex relations.\"',\n",
       "  'As for Oman, the country punishes same-sex acts by up to three years in prison.',\n",
       "  'As for Trump\\'s claim that these countries are throwing gay people \"off of buildings,\" he may be referring to the Islamic State. There is evidence that ISIS has engaged in these acts, but in Syria.',\n",
       "  'Executions in Saudi Arabia specifically have increased recently, but specific convictions, and whether are they related to homosexuality, are hard to measure.',\n",
       "  'Not Clinton directly',\n",
       "  'Experts we spoke with questioned whether the donations to the foundation are directly attributable to Hillary Clinton.',\n",
       "  \"Indiana University public affairs professor emeritus Leslie Lenkowsky said Trump's claim is hyperbolic.\",\n",
       "  '\"These were not donations to Secretary Clinton as such, but to an organization with which she was closely involved (when not in office or seeking it), including serving as a director,\" Lenkowsky said.',\n",
       "  \"According to Brian Mittendorf, an accounting professor at Ohio State University, nonprofits often have to consider donors' actions when they give money. The stakes are usually higher when the nonprofit involves a political figure.\",\n",
       "  '\"These are gifts not to Clinton herself but to the foundation that shares her name,\" he said.',\n",
       "  'The United States remains allies with some of these countries, such as Saudi Arabia, United Arab Emirates and Qatar, despite their poor record with human rights.',\n",
       "  'Our ruling',\n",
       "  'Trump said that Hillary Clinton has \"been given tens of millions of dollars by countries that treat women horribly...and countries that kill gays.\"',\n",
       "  \"Trump's comment oversimplifies donations to the Clinton Foundation to make a quick attack against his Democratic rival. He makes it sound as if Clinton personally received money from foreign governments with poor records on human rights. But political candidates cannot accept donations from foreign governments.\",\n",
       "  'However, several countries with harsh rules for women and that kill gays have contributed to the Clinton Foundation both before and after her tenure at the State Department.',\n",
       "  \"We rate Trump's claim Half True.\"],\n",
       " 'claim': 'Says Hillary Clinton has been given tens of millions of dollars by countries that \"treat women horribly ... and countries that kill gays.\"',\n",
       " 'headerImage': [['https://static.politifact.com/politifact/mugs/NYT_TRUMP_CAMPAIGN_5.jpg',\n",
       "   'Politifact_images/354.png',\n",
       "   '']],\n",
       " 'headerTitle': 'Did Hillary Clinton take money from countries that treat women, gays poorly?',\n",
       " 'publish_date': '',\n",
       " 'rating': [['https://static.politifact.com/rulings/tom-halftrue.png',\n",
       "   'Politifact_images/752.png',\n",
       "   'TRUE POLI ACT TRUTH - - METERM']]}"
      ]
     },
     "execution_count": 7,
     "metadata": {},
     "output_type": "execute_result"
    }
   ],
   "source": [
    "file_data[0][list(file_data[0].keys())[0]]"
   ]
  },
  {
   "cell_type": "code",
   "execution_count": 47,
   "metadata": {},
   "outputs": [
    {
     "data": {
      "text/plain": [
       "{'body-image': [['https://www.snopes.com/tachyon/images/photos/medical/graphics/real12fetus.jpg',\n",
       "   'Snopes_images/789.png',\n",
       "   ''],\n",
       "  ['https://www.snopes.com/tachyon/images/photos/medical/graphics/fetus.jpg',\n",
       "   'Snopes_images/2473.png',\n",
       "   '']],\n",
       " 'body-text': ['This picture is floating around Facebook with this caption:',\n",
       "  '\"12 weeks gestation legal to kill in all 50 states is this a blob of cells to you?\"',\n",
       "  'I wanted to know if this is really a 12 week gestational fetus.',\n",
       "  '',\n",
       "  \"The image displayed above, purportedly showing a 12-week gestational fetus resting in the palm of an adult's hand, has been widely circulated via social media as a demonstration of how closely a 12-week-old fetus resembles a full-term child (even though the former may legally be terminated through elective abortion).\",\n",
       "  \"However, this image isn't a photograph of a real fetus. It's a picture of a hand-painted resin doll crafted by artist Donna Lee and sold through the One Tiny Life organization for the stated purpose of using them in schools and pregnancy centers to educate prospective mothers:\",\n",
       "  'I am not here to judge nor debate whether or not a woman should have a abortion, but to educate so she knows what a 12 week old fetus looks like. As for the medical accuracy of the 12 week clay fetus, I am an artist & did my best to portray accurate details out of a lump of clay. I have included in the model all the features that a 12 week old from conception has at this stage (neck, eyelids, ears, mouth, arms, legs, fingers & toes). As for the translucency of the skin, that is a hard thing to capture. I hand-paint each one of these in multiple layers, but the transparent very thin skin of a 12 week old is difficult to portray in resin. I have begun to try to perfect my hand-painting of each model in order to show more deeper undertones and to give a more transparent skinlike appearance.',\n",
       "  \"These dolls have been criticized as inaccurate depictions that misleadingly humanize' a 12-week fetus beyond its actual appearance, with critics pointing out that at the 12-week stage of development a fetus is smaller, exhibits much less well-defined features, and has translucent skin:\",\n",
       "  '',\n",
       "  'These dolls were the subject of some controversy in October 2011 when they were handed out to Halloween trick-or-treaters in Georgia by a pro-life group.'],\n",
       " 'claim': 'A photograph shows a 12-week-old fetus.',\n",
       " 'headerImage': [['https://www.snopes.com/tachyon/2017/08/premature_baby_fb.jpg',\n",
       "   'Snopes_images/1055.png']],\n",
       " 'headerTitle': 'Is This a Photograph of a 12-Week Fetus?',\n",
       " 'publish_date': '10 November 2013',\n",
       " 'rating': ['https://www.snopes.com/tachyon/2018/03/rating-miscaptioned.png',\n",
       "  'Snopes_images/3449.png']}"
      ]
     },
     "execution_count": 47,
     "metadata": {},
     "output_type": "execute_result"
    }
   ],
   "source": [
    "file_data[1][list(file_data[1].keys())[0]]"
   ]
  },
  {
   "cell_type": "code",
   "execution_count": 8,
   "metadata": {},
   "outputs": [],
   "source": [
    "polti_dataa = file_data[0]\n",
    "snope_dataa = file_data[1]"
   ]
  },
  {
   "cell_type": "markdown",
   "metadata": {},
   "source": [
    "### POLTI"
   ]
  },
  {
   "cell_type": "code",
   "execution_count": 9,
   "metadata": {},
   "outputs": [
    {
     "name": "stdout",
     "output_type": "stream",
     "text": [
      "https://www.politifact.com/arizona/statements/2016/jul/11/donald-trump/did-hillary-clinton-take-money-countries-treat-wom/\n",
      "{'body-image': [], 'body-text': ['Donald Trump continues to attack Hillary Clinton on everything from campaign spending to ISIS.', 'At a rally in Phoenix, he accused her of taking money from countries that have a poor rapport with women and gay people.', '\"She\\'s been given tens of millions of dollars by countries that treat women horribly,\" Trump said June 18. \"And countries that kill gays, they kill gays, they push them off of buildings.\"', 'Trump, whose campaign did not return a request for comment, seems to be referencing donations given to the Clinton Foundation. Trump has referenced her foundation ties in the past, saying she needs to \"return the $25 million\" Saudi Arabia gave the foundation.', 'The William J. Clinton Foundation was incorporated in 1997. The foundation agreed to disclose its donors when Hillary Clinton became secretary of state in 2009.', \"We wondered whether the Clintons' donor list holds up to Trump's claim.\", 'But first, it is important to note that political candidates cannot take money from foreign entities.', '\"The prohibition in the Federal Election Campaign Act is against candidates or political committees soliciting, accepting or receiving contributions from foreign nationals, not only governments,\" said Michael Malbin, a political science professor at the University at Albany.', 'Hillary Clinton spokesman Josh Schwerin also noted that the former first lady played no role in the foundation while she was secretary of state.', '\"Further, she did not blink before standing up to countries that oppressed their people and denied them of their rights, from LGBT rights to women\\'s rights,\" Schwerin said.', \"Nonetheless. looking at the Clinton Foundation's donor list, Saudi Arabia gave between $10 million and $25 million. But the foundation reported the Saudi money in December 2008, and the amount hasn't changed since. Clinton Foundation spokesman Brian Cookstra pointed out that Saudi Arabia did not give to the foundation while Secretary Clinton was at the State Department.\", \"The foundation has also taken between $1 million and $5 million each from United Arab Emirates, Qatar and Oman. As The Wall Street Journal reported, several of these donations came in 2014, after Clinton's tenure at the State Department.\", 'We\\'ve fact-checked a similar claim before when Republican National Committee chairman Reince Priebus said in April 2015 that Clinton took money from the kings of \"Saudi Arabia, Morocco and Oman and Yemen.\" Every country except Yemen has contributed to the Clinton Foundation, but Preibus\\' claim made it seem like Clinton herself took the money. We rated it Half True.', \"Women's rights\", 'Human Rights Watch tracks how women are treated in each of these countries.', 'In Saudi Arabia, a woman needs \"male guardian\" approval on everything from obtaining a passport to seeking higher education. They also have no divorce rights.', 'The same male approval is needed for marriage in United Arab Emirates, plus laws there also allow a husband to assault his wife and children.', 'In Qatar, marital rape is permitted. Women need a male guardian to approve a marriage contract, and one law specifies that a wife must obey her husband.', 'And in Oman, Human Rights Watch notes that while there is a nondiscrimination law, women still face discrimination when it comes to domestic issues such as child custody and divorce.', 'Gay rights', 'According to the International Lesbian, Gay, Bisexual, Trans and Intersex Association, all sex outside of marriage, including same-sex intercourse, in Saudi Arabia is punishable by death.', 'For a married man, the penalty is death by stoning. An unmarried man faces 100 blows of a whip.', 'In Qatar, any sexual act outside of marriage is punishable by death.', 'The United Arab Emirates also bans sex outside of marriage, and the death penalty could apply to consensual \"same-sex relations.\"', 'As for Oman, the country punishes same-sex acts by up to three years in prison.', 'As for Trump\\'s claim that these countries are throwing gay people \"off of buildings,\" he may be referring to the Islamic State. There is evidence that ISIS has engaged in these acts, but in Syria.', 'Executions in Saudi Arabia specifically have increased recently, but specific convictions, and whether are they related to homosexuality, are hard to measure.', 'Not Clinton directly', 'Experts we spoke with questioned whether the donations to the foundation are directly attributable to Hillary Clinton.', \"Indiana University public affairs professor emeritus Leslie Lenkowsky said Trump's claim is hyperbolic.\", '\"These were not donations to Secretary Clinton as such, but to an organization with which she was closely involved (when not in office or seeking it), including serving as a director,\" Lenkowsky said.', \"According to Brian Mittendorf, an accounting professor at Ohio State University, nonprofits often have to consider donors' actions when they give money. The stakes are usually higher when the nonprofit involves a political figure.\", '\"These are gifts not to Clinton herself but to the foundation that shares her name,\" he said.', 'The United States remains allies with some of these countries, such as Saudi Arabia, United Arab Emirates and Qatar, despite their poor record with human rights.', 'Our ruling', 'Trump said that Hillary Clinton has \"been given tens of millions of dollars by countries that treat women horribly...and countries that kill gays.\"', \"Trump's comment oversimplifies donations to the Clinton Foundation to make a quick attack against his Democratic rival. He makes it sound as if Clinton personally received money from foreign governments with poor records on human rights. But political candidates cannot accept donations from foreign governments.\", 'However, several countries with harsh rules for women and that kill gays have contributed to the Clinton Foundation both before and after her tenure at the State Department.', \"We rate Trump's claim Half True.\"], 'claim': 'Says Hillary Clinton has been given tens of millions of dollars by countries that \"treat women horribly ... and countries that kill gays.\"', 'headerImage': [['https://static.politifact.com/politifact/mugs/NYT_TRUMP_CAMPAIGN_5.jpg', 'Politifact_images/354.png', '']], 'headerTitle': 'Did Hillary Clinton take money from countries that treat women, gays poorly?', 'publish_date': '', 'rating': [['https://static.politifact.com/rulings/tom-halftrue.png', 'Politifact_images/752.png', 'TRUE POLI ACT TRUTH - - METERM']]}\n",
      "https://www.politifact.com/arizona/statements/2016/oct/06/campaign-regulate-marijuana-alcohol/has-colorado-teen-pot-use-not-increased-legalizati/\n",
      "{'body-image': [], 'body-text': ['Colorado has been the measuring stick for both supporters and opponents of an initiative to legalize recreational marijuana in Arizona this November.', 'A recent ad from the Campaign to Regulate Marijuana Like Alcohol, a pro-marijuana group, attempts to show the positive effects of marijuana regulation in Colorado, highlighting millions of dollars going toward public education and the lack of an increase in pot use among teens.', '\"According to the Colorado state government, marijuana use among high school students has not increased since legalization,\" the ad, which started airing Sept. 27, claims. We should also note that the anti-pot camp has used Colorado teen pot statistics in their ads.', 'Colorado legalized recreational marijuana in 2012. The first retail store opened in January 2014.', 'We have seen multiple numbers on teen pot use, so we wondered if this claim held up.', 'Barrett Marson, a spokesman with the pro-marijuana campaign, pointed us to the 2015 Healthy Kids Colorado Survey.', 'The ad cites a June 2016 Denver Post article, which references the survey.', 'This survey, which takes place every two years, is done by the Colorado Department of Health and Environment. The 2015 version surveys about 17,000 middle and high school students at random.', 'According to the results, 38 percent of high school students surveyed said they used marijuana at least once their life. In 2013, that number was 36.9 percent.', 'The 2015 survey also noted that 21.2 percent of high-schoolers used marijuana in the last 30 days. That number was 19.7 percent in 2013.', 'However, the stats are not significant, according to multiple experts we spoke with. This means the data has wiggle room.', '\"There was not a statistically significant increase in 30-day or lifetime marijuana use among high school students between 2013 and 2015,\" said Mark Salley, a spokesman with Colorado\\'s health department.', \"The state's top health official, Dr. Larry Wolk, said the same thing in December 2015 when looking at federal data -- from the National Survey on Drug Use and Health -- on the topic.\", 'The national survey notes that 11.16 percent of Colorado 12- to 17-year-olds in the 2012-13 cycle used marijuana in the last 30 days . That number was 12.56 percent in the 2013-14 cycle.', '\"This is not a statistically significant increase at the 5 percent level of significance,\" said Brad Stone, a spokesman with the Substance Abuse and Mental Health Services Administration.', \"Jonathan Caulkins, a public policy professor at Carnegie Mellon University, said the clock hasn't even really started on the full effects of legalizing recreational marijuana.\", '\"We\\'re not going to see the full effects of legalization until something like 25 years after national legalization,\" Caulkins said. \"It takes time for the industry to adapt to new opportunities, go through the usual shake-out period.\"', 'Our rating', 'The ad claimed, \"according to the Colorado state government, marijuana use among high school students has not increased since legalization.\"', \"Based on the numbers cited, there does appear to have been a slight increase in marijuana use among Colorado's high school students. However, multiple experts we spoke with said that increase is not statistically significant. They also said it was too early to draw conclusions about marijuana use, and that more years of study will be needed.\", \"We rate the ad's claim Half True.\", 'https://www.sharethefacts.co/share/1b3ae305-61f4-4506-a9c8-c0a27f4d2c2e'], 'claim': 'Says marijuana use among Colorado high school students \"has not increased since legalization.\"', 'headerImage': [['https://static.politifact.com/politifact/mugs/regulate-marijuana-like-alcohol-arizona-2016_80x80.jpg', 'Politifact_images/620.png', '']], 'headerTitle': 'Has Colorado teen pot use not increased since legalization?', 'publish_date': '', 'rating': [['https://static.politifact.com/rulings/tom-halftrue.png', 'Politifact_images/752.png', 'TRUE POLI ACT TRUTH - - METERM']]}\n",
      "https://www.politifact.com/california/statements/2016/dec/02/gavin-newsom/pences-support-conversion-therapy-not-settled-matt/\n",
      "{'body-image': [['https://static.politifact.com/politifact/photos/PenceTight.jpg', 'Politifact_images/539.png', '']], 'body-text': ['EDITOR\\'S NOTE: On July 28, 2016, PolitiFact California rated as True a statement by Democratic Lt. Gov. Gavin Newsom that Republican Indiana Governor and now Vice President-Elect Mike Pence \"advocated diverting taxpayer dollars to so-called conversion therapy.\" We based that ruling on a statement Pence made in 2000 on his congressional campaign website, in which Pence says \"Resources should be directed toward those institutions which provide assistance to those seeking to change their sexual behavior.\" Subsequently, our readers and other fact-checking websites examined the claim and made some points that led us to reconsider the fact check. Readers pointed out that Pence never explicitly advocated for conversion therapy in his statement and that he may have been pushing for safer sex practices. Pence\\'s words are open to other interpretations: Gay and lesbian leaders, for example, say his statement continues to give the impression that he supported the controversial practice of conversion therapy when his words are viewed in context with his long opposition to LGBT rights. Taking all of this into account, we are changing our rating to Half True and providing this new analysis.', \"PolitiFact California's practice is to consider new evidence and perspectives related to our fact checks, and to revise our ratings when warranted.\", \"California Lt. Gov. Gavin Newsom joined in the chorus of attacks on Donald Trump's choice for running mate during a speech at the Democratic National Convention in late July.\", 'Newsom, a prominent LGBT rights supporter, said Republican Indiana Gov. and now Vice-President Elect Mike Pence \"advocated for diverting taxpayer dollars to so-called conversion therapy.\"', \"Conversion therapy is a controversial practice that seeks to change a person's sexual orientation from gay to straight. It's banned in five states including California, Oregon, Illinois, Vermont and New Jersey.\", 'Our research', \"When asked about the claim in late July, Newsom's campaign spokesman pointed to Pence's own words. During his first successful run for Congress in 2000, Pence wrote on his campaign website, under a section called Strengthening the American Family:\", '\"Congress should support the reauthorization of the Ryan White Care Act only after completion of an audit to ensure that federal dollars were no longer being given to organizations that celebrate and encourage the types of behaviors that facilitate the spreading of the HIV virus. Resources should be directed toward those institutions which provide assistance to those seeking to change their sexual behavior.\"', 'Many, including Newsom and other LGBT advocates, have interpreted the last portion of Pence\\'s statement, about \"assistance to those seeking to change their sexual behavior,\" as evidence he supported conversion therapy.', \"The statement, however, does not explicitly mention conversion therapy. And Pence has said little, if anything, specific on the topic. We heard from a number of readers who said Pence's words could be interpreted as supporting groups that aim to not necessarily change one's sexual orientation, but instead as supporting groups that advocate for curbing sexual behaviors that lead to the spread of HIV/AIDS. Pence has, for example, advocated for abstinence as a way to prevent sexual diseases.\", '\"Indeed, promoting safer sexual behaviour is a common intervention strategy in the fight against HIV/AIDS,\" reader Justin Goddard of Ontario, Canada, said in an email.', \"Other fact-checking websites, such as Snopes.com, have examined the claim Pence supported conversion therapy and concluded it's not a settled case.\", \"LGBT rights advocates say given Pence's extensive record of opposing gays and lesbians, his words are indeed confirmation that he supported conversion therapy.\", '\"That is very specific language some might call it a dog whistle that has been used for decades to very thinly cloak deeply homophobic beliefs,\" Rea Carey, executive director of the National L.G.B.T.Q. Task Force told the New York Times in late November. \"Particularly the phrase seeking to change their sexual behavior,\\' to me, is code for conversion therapy.\"', '\"It\\'s the most likely reading\" of Pence\\'s words, Rick Zbur, executive director of Equality California, an LGBT civil rights group, told PolitiFact California. \"We view this in the context of the whole record. You can\\'t think of someone who is more hostile to LGBT people and people with AIDS than Mike Pence.\"', 'Also on the 2000 website, Pence wrote: \"Congress should oppose any effort to put gay and lesbian relationships on an equal legal status with heterosexual marriage.\" And \"Congress should oppose any effort to recognize homosexual\\'s [sic] as a \\'discreet [sic] and insular minority\\' entitled to the protection of anti-discrimination laws similar to those extended to women and ethnic minorities.\"', 'Statement mischaracterized?', \"In an email exchange with PolitiFact California in late July, Pence's spokesman Marc Lotter did not directly answer whether Pence supported conversion therapy.\", 'Four months later, Lotter told the New York Times, however, that it was \"patently false\" that Mr. Pence \"supported or advocated\" the practice of conversion therapy.', 'Lotter added that Pence had been calling for federal funds to \"be directed to groups that promoted safe sexual practices\" during his 2000 congressional campaign, and he said it was a \"mischaracterization\" to interpret the statement as a reference to conversion therapy.', \"Newsom's campaign spokesman said in November he did not have any additional information pointing to Pence's stance on conversion therapy.\", 'As reported by McClatchy DC in July, Pence continues to be at the center of gay rights controversy: \"Pence angered gay rights groups (in 2015) when he signed a religious freedom bill that opponents said would allow businesses to discriminate against customers based on their sexual orientation. Pence later backtracked, when state lawmakers changed the law to say that no discrimination would be allowed.\"', 'At the Republican National Convention this summer, the McClatchy news service noted: \"Delegates voted to approve a platform that backs the right of parents to determine the proper medical treatment and therapy for their minor children. The platform makes no specific mention of gay conversion therapy, but critics say that passage is aimed at accepting the notion that one\\'s sexual orientation can be changed.\"', 'GOP Party Chairman Reince Priebus, who President-Elect Donald Trump has selected as chief of staff for the incoming administration, has denied that passage encourages conversion therapy.', 'Our ruling', 'California Lt. Gov. Gavin Newsom said Indiana Governor and now Vice President-Elect Mike Pence \"advocated for diverting taxpayer dollars to so-called conversion therapy.\"', 'Pence\\'s own words on his campaign website from 2000, specifically a passage that calls for funding groups that give \"assistance to those seeking to change their sexual behavior,\" have been interpreted by LGBT advocates as supporting the controversial practice.', \"Pence's statement, however, does not explicitly mention conversion therapy. Readers and other fact-checking outlets have said Pence may have been calling for safer sexual sexual practices rather than pushing for efforts to change one's sexual orientation.\", 'When asked about the statement in July, Pence\\'s spokesman Marc Lotter did not directly answer whether the Indiana governor supports the practice. Months later, Lotter strongly denied that Pence supports conversion therapy and said Pence was calling for funds to \"be directed to groups that promoted safe sexual practices\"', 'Given Pence\\'s strong and extensive opposition to LGBT rights, his words in 2000 have been widely interpreted as supporting the controversial practice. Rea Carey, executive director of the National L.G.B.T.Q. Task Force, has called them \"a dog whistle\" for like-minded supporters of conversion therapy.', \"Newsom's definitive claim, however, that Pence advocated for conversion therapy is not fully supported.\", 'We rate it Half True.', 'HALF TRUE The statement is partially accurate but leaves out important details or takes things out of context.', 'Click here for more on the six PolitiFact ratings and how we select facts to check.', 'https://www.sharethefacts.co/share/62f4ea40-225a-4933-a430-aa0a942a7509'], 'claim': 'Says Indiana Gov. Mike Pence \"advocated diverting taxpayer dollars to so-called conversion therapy.\"', 'headerImage': [['https://static.politifact.com/politifact/mugs/0506-gavin-newsome-p_1.jpg', 'Politifact_images/826.png', '']], 'headerTitle': \"Pence's support for conversion therapy not a settled matter\", 'publish_date': '', 'rating': [['https://static.politifact.com/rulings/tom-halftrue.png', 'Politifact_images/752.png', 'TRUE POLI ACT TRUTH - - METERM']]}\n",
      "https://www.politifact.com/california/statements/2016/dec/19/jerry-brown/are-jobs-california-growing-hell-lot-faster-texas/\n",
      "{'body-image': [['https://static.politifact.com/politifact/photos/JerryBrown_072716P.jpg', 'Politifact_images/57.png', '']], 'body-text': ['Stoking their long-running feud, California Gov. Jerry Brown recently jabbed at former Texas Gov. Rick Perry, saying Golden State is \"growing a hell of a lot faster than Texas.\"', 'Brown made this claim in the middle of an impassioned defense of climate change science at the American Geophysical Union conference on Dec. 14, 2016 in San Francisco.', '\"We\\'ve proved in California that the economy grows. And it grows in part because of the climate rules that we\\'ve adopted,\" Brown said.', 'Perry, a climate change skeptic, was recently selected U.S. energy secretary by President-elect Trump. While Texas governor, he repeatedly visited California in an attempt to lure jobs to the Lone Star State, with the promise of less regulation and lower costs.', \"In his speech, Brown said Perry's critiques about California's job-killing red tape don't hold up.\", '\"Now remember our new secretary of energy, he was coming to California to say: Come to Texas because we have all the jobs in Texas.\"', '\"Well, Rick: I got some news for you, California is growing a hell of a lot faster than Texas, and we have more sun than you have oil!\"', '', 'Gov. Jerry Brown makes his claim about California \"growing a hell of a lot faster than Texas\" at about the 13:00 minute mark in the video above.', 'With Brown\\'s reference of Perry, we took his \"faster than Texas\" claim to mean faster economic growth with a focus on jobs. We decided to zero-in on job growth rates in California and Texas, while also weighing GDP and unemployment trends in the states.', \"We'll leave the fun comparison of sunshine to oil for Brown and Perry to wrestle with another day.\", 'Our research', 'We concede there\\'s no definition for what \"a hell of a lot faster\" growth looks like. Still, we\\'ll do our best to sort out the governor\\'s claim.', \"Brown's spokeswoman pointed us to several news articles detailing California's recent economic improvements.\", \"Looking solely at 2015 job growth rates, Brown's claim appears to hold up.\", \"In that year, California added 483,000 jobs, posting a jobs growth rate of 3 percent, based on data we crunched from the U.S. Bureau of Labor Statistics. That pace was twice as fast as Texas' 1.5 percent job growth rate.\", 'California\\'s rapid employment gains have slowed somewhat to about 2 percent this year through November. That may not qualify as \"a hell of a lot faster,\" but it\\'s still greater than Texas\\' roughly 1.6 percent job growth rate so far this year.', 'The business website Kiplinger.com forecast California would rank 10th in the nation among states for fastest job growth in 2016. It noted that Texas was not on its Top 10 list.', \"It wasn't long ago, however, that Texas outpaced California.\", \"In 2014, Texas recorded a 3.7 percent job growth rate, ahead of California's 2.9 percent pace.\", \"Looking to the future, California's job gains may slow. The closely watched UCLA Anderson Forecast predicts jobs to grow by only 1.5 percent in the state during 2017 and just 0.8 percent in 2018.\", 'Because Brown used the phrase \"is growing,\" we\\'ll judge him on the most recent figures, not future forecasts.', 'Overall economy', \"While the pace of job growth is important, it's not the only measurement of a state's economic health. And Brown's claim could be interpreted as California's overall economy, not just jobs, is growing much faster than the economy in Texas.\", 'In August, PolitiFact Texas took a deep look at the economies of both California and Texas to evaluate a June claim by Juli n Castro, the U.S. secretary of Housing and Urban Development, that \"Today, California is kicking our butt, creating more jobs and more economic growth than Texas.\"', 'It rated the claim True, citing greater jobs, per capita income and GDP growth rates in California. It noted Texas had a lower jobless rate.', 'Building on that fact check, we looked at the most recent economic figures for both states to see if the assessment still holds.', \"We found that California's GDP grew faster than Texas' in the first two quarters of this year, at rates of 2 percent and most recently 2.2 percent compared with Texas' 1.3 percent and its most recent quarter, a negative 0.8 percent, according to a news release in December by the U.S. Bureau of Economic Analysis.\", \"It was a different story in 2015 when Texas' GDP expanded by 4.8 percent (a figure that was recently revised upward) compared with California's 3.8 percent GDP expansion.\", 'Comparing unemployment rates, Texas, at 4.6 percent in November, has consistently fared better than California, where the rate was 5.3 percent in November, and has hovered well above 5 percent this year.', 'California had one more economic bright spot in 2015: Per capita personal income grew at twice the rate as in Texas, 5.4 percent to 2.6 percent, according to federal data.', 'Our ruling', 'Gov. Jerry Brown recently claimed \"California is growing a hell of a lot faster than Texas.\"', \"We took this to mean economic growth with a focus on the pace of job creation. California's 3 percent job growth rate in 2015, which doubled Texas' pace, definitely fits into Brown's colorful claim.\", \"But California's rate has slowed to about 2 percent so far this year, closer to Texas' 1.6 job growth rate.\", \"Other economic metrics show California faring better than Texas in several, though not all, categories: California's GDP expanded faster than Texas' GDP in the first two quarters of this year, though Texas had a faster GDP growth rate in 2015. Also, per capita income grew twice as fast in California as Texas in 2015, also backing Brown's statement.\", 'Texas, however, has consistently held a lower jobless rate than California in recent years.', 'Brown, like the state\\'s economy in recent years, is on the right track. And while California has expanded jobs and its economy faster than Texas in many cases, there are a few cases where that growth has been strong but not necessarily \"a hell of a lot faster.\"', \"We rate Brown's statement Mostly True.\", 'MOSTLY TRUE The statement is accurate but needs clarification or additional information.', 'https://www.sharethefacts.co/share/158c502a-4b3e-463d-906f-529da13e2451'], 'claim': '\"California is growing a hell of a lot faster than Texas.\"', 'headerImage': [['https://static.politifact.com/politifact/mugs/jerry-brown_3.jpg', 'Politifact_images/659.png', '']], 'headerTitle': \"Is California's economy 'growing a hell of a lot faster' than Texas?\", 'publish_date': '', 'rating': [['https://static.politifact.com/rulings/tom-mostlytrue.png', 'Politifact_images/476.png', \"POLITIF TRUTH-O - TER'M\"]]}\n"
     ]
    },
    {
     "ename": "KeyboardInterrupt",
     "evalue": "Interrupted by user",
     "output_type": "error",
     "traceback": [
      "\u001b[1;31m---------------------------------------------------------------------------\u001b[0m",
      "\u001b[1;31mKeyboardInterrupt\u001b[0m                         Traceback (most recent call last)",
      "\u001b[1;32me:\\Downloads\\WeLearn\\9th Sem\\Fake News Detection\\RAG_KG\\benchmark\\loadingData.ipynb Cell 30\u001b[0m line \u001b[0;36m4\n\u001b[0;32m      <a href='vscode-notebook-cell:/e%3A/Downloads/WeLearn/9th%20Sem/Fake%20News%20Detection/RAG_KG/benchmark/loadingData.ipynb#X51sZmlsZQ%3D%3D?line=1'>2</a>\u001b[0m \u001b[39mprint\u001b[39m(i)\n\u001b[0;32m      <a href='vscode-notebook-cell:/e%3A/Downloads/WeLearn/9th%20Sem/Fake%20News%20Detection/RAG_KG/benchmark/loadingData.ipynb#X51sZmlsZQ%3D%3D?line=2'>3</a>\u001b[0m \u001b[39mprint\u001b[39m(val)\n\u001b[1;32m----> <a href='vscode-notebook-cell:/e%3A/Downloads/WeLearn/9th%20Sem/Fake%20News%20Detection/RAG_KG/benchmark/loadingData.ipynb#X51sZmlsZQ%3D%3D?line=3'>4</a>\u001b[0m \u001b[39minput\u001b[39;49m()\n",
      "File \u001b[1;32me:\\Downloads\\WeLearn\\9th Sem\\nineSemEnv\\Lib\\site-packages\\ipykernel\\kernelbase.py:1251\u001b[0m, in \u001b[0;36mKernel.raw_input\u001b[1;34m(self, prompt)\u001b[0m\n\u001b[0;32m   1249\u001b[0m     msg \u001b[39m=\u001b[39m \u001b[39m\"\u001b[39m\u001b[39mraw_input was called, but this frontend does not support input requests.\u001b[39m\u001b[39m\"\u001b[39m\n\u001b[0;32m   1250\u001b[0m     \u001b[39mraise\u001b[39;00m StdinNotImplementedError(msg)\n\u001b[1;32m-> 1251\u001b[0m \u001b[39mreturn\u001b[39;00m \u001b[39mself\u001b[39;49m\u001b[39m.\u001b[39;49m_input_request(\n\u001b[0;32m   1252\u001b[0m     \u001b[39mstr\u001b[39;49m(prompt),\n\u001b[0;32m   1253\u001b[0m     \u001b[39mself\u001b[39;49m\u001b[39m.\u001b[39;49m_parent_ident[\u001b[39m\"\u001b[39;49m\u001b[39mshell\u001b[39;49m\u001b[39m\"\u001b[39;49m],\n\u001b[0;32m   1254\u001b[0m     \u001b[39mself\u001b[39;49m\u001b[39m.\u001b[39;49mget_parent(\u001b[39m\"\u001b[39;49m\u001b[39mshell\u001b[39;49m\u001b[39m\"\u001b[39;49m),\n\u001b[0;32m   1255\u001b[0m     password\u001b[39m=\u001b[39;49m\u001b[39mFalse\u001b[39;49;00m,\n\u001b[0;32m   1256\u001b[0m )\n",
      "File \u001b[1;32me:\\Downloads\\WeLearn\\9th Sem\\nineSemEnv\\Lib\\site-packages\\ipykernel\\kernelbase.py:1295\u001b[0m, in \u001b[0;36mKernel._input_request\u001b[1;34m(self, prompt, ident, parent, password)\u001b[0m\n\u001b[0;32m   1292\u001b[0m \u001b[39mexcept\u001b[39;00m \u001b[39mKeyboardInterrupt\u001b[39;00m:\n\u001b[0;32m   1293\u001b[0m     \u001b[39m# re-raise KeyboardInterrupt, to truncate traceback\u001b[39;00m\n\u001b[0;32m   1294\u001b[0m     msg \u001b[39m=\u001b[39m \u001b[39m\"\u001b[39m\u001b[39mInterrupted by user\u001b[39m\u001b[39m\"\u001b[39m\n\u001b[1;32m-> 1295\u001b[0m     \u001b[39mraise\u001b[39;00m \u001b[39mKeyboardInterrupt\u001b[39;00m(msg) \u001b[39mfrom\u001b[39;00m \u001b[39mNone\u001b[39;00m\n\u001b[0;32m   1296\u001b[0m \u001b[39mexcept\u001b[39;00m \u001b[39mException\u001b[39;00m:\n\u001b[0;32m   1297\u001b[0m     \u001b[39mself\u001b[39m\u001b[39m.\u001b[39mlog\u001b[39m.\u001b[39mwarning(\u001b[39m\"\u001b[39m\u001b[39mInvalid Message:\u001b[39m\u001b[39m\"\u001b[39m, exc_info\u001b[39m=\u001b[39m\u001b[39mTrue\u001b[39;00m)\n",
      "\u001b[1;31mKeyboardInterrupt\u001b[0m: Interrupted by user"
     ]
    }
   ],
   "source": [
    "for i, val in polti_dataa.items():\n",
    "    print(i)\n",
    "    print(val)\n",
    "    input()"
   ]
  },
  {
   "cell_type": "code",
   "execution_count": 15,
   "metadata": {},
   "outputs": [],
   "source": [
    "# Extract required information\n",
    "extracted_data = []\n",
    "for article, info in polti_dataa.items():\n",
    "    # print(info['rating'])\n",
    "    if info['rating'] and info['rating'][0][2]:\n",
    "        extracted_data.append([article, info['claim'], info['rating'][0][2]])\n",
    "    else:\n",
    "        print(article, info)\n",
    "        input()"
   ]
  },
  {
   "cell_type": "code",
   "execution_count": 33,
   "metadata": {},
   "outputs": [],
   "source": [
    "# Create DataFrame\n",
    "df = pd.DataFrame(extracted_data, columns=['Article', 'Claim', 'Label'])"
   ]
  },
  {
   "cell_type": "code",
   "execution_count": 24,
   "metadata": {},
   "outputs": [
    {
     "data": {
      "text/plain": [
       "{'FALSE POLITIFACT TRUTH-O-METER \\' \"',\n",
       " \"LITIFACT TRUT - O-METER'M\",\n",
       " 'PANTS ON FIRE /',\n",
       " \"POLITIF TRUTH-O - TER'M\",\n",
       " 'TRUE POLI ACT TRUTH - - METERM',\n",
       " \"TRUE POLITIFACT TRUTH-O-METER'M\",\n",
       " 'muuaw-o-dlld dou'}"
      ]
     },
     "execution_count": 24,
     "metadata": {},
     "output_type": "execute_result"
    }
   ],
   "source": [
    "set([i[2] for i in extracted_data])"
   ]
  },
  {
   "cell_type": "markdown",
   "metadata": {},
   "source": [
    "\n",
    "| Label in Datafile | Label |\n",
    "| --- | --- |\n",
    "|'FALSE POLITIFACT TRUTH-O-METER \\' \"' | False |\n",
    "|\"LITIFACT TRUT - O-METER'M\" | Mostly False |\n",
    "|'PANTS ON FIRE /' | Pants on fire  |\n",
    "|\"POLITIF TRUTH-O - TER'M\" | Mostly True |\n",
    "|'TRUE POLI ACT TRUTH - - METERM' | Half True |\n",
    "|\"TRUE POLITIFACT TRUTH-O-METER'M\" | True|\n",
    "|'muuaw-o-dlld dou' | False| \n",
    "\n",
    "'FALSE POLITIFACT TRUTH-O-METER \\' \"', \"LITIFACT TRUT - O-METER'M\", 'PANTS ON FIRE /', 'muuaw-o-dlld dou' - False \\\n",
    "\"POLITIF TRUTH-O - TER'M\", 'TRUE POLI ACT TRUTH - - METERM', \"TRUE POLITIFACT TRUTH-O-METER'M\" - True"
   ]
  },
  {
   "cell_type": "code",
   "execution_count": 25,
   "metadata": {},
   "outputs": [
    {
     "data": {
      "text/plain": [
       "[['https://www.politifact.com/california/statements/2016/jul/12/firearms-policy-coalition/will-ca-gun-control-measure-criminalize-sharing-bu/',\n",
       "  'California\\'s Proposition 63 would \"CRIMINALIZE the sharing of ammunition between friends who may be hunting or shooting together.\"',\n",
       "  \"LITIFACT TRUT - O-METER'M\"],\n",
       " ['https://www.politifact.com/california/statements/2017/aug/22/john-moorlach/has-crime-been-getting-worse-jerry-brown-was-elect/',\n",
       "  '\"Crime has been getting worse since Jerry Brown was elected governor.\"',\n",
       "  \"LITIFACT TRUT - O-METER'M\"],\n",
       " ['https://www.politifact.com/california/statements/2017/feb/03/tom-mcclintock/americas-refugee-vetting-already-robust-not-haphaz/',\n",
       "  'Refugee \"vetting was very haphazard,\" under the Obama Administration. \"In many cases, we simply accepted the word of applicants.\"',\n",
       "  \"LITIFACT TRUT - O-METER'M\"],\n",
       " ['https://www.politifact.com/california/statements/2017/feb/16/travis-allen/examining-claim-about-oroville-dam-spillway/',\n",
       "  '\"The Oroville dam failure was entirely avoidable: California passed a $7.5 Billion water bond in 2014 but Jerry Brown didn\\'t spend $1 on new water storage or improvements to existing infrastructure like Oroville.\"',\n",
       "  \"LITIFACT TRUT - O-METER'M\"],\n",
       " ['https://www.politifact.com/california/statements/2017/may/09/judy-chu/rape-pre-existing-condition-under-gop-bill-calif-c/',\n",
       "  'The GOP health bill \"would once again allow being a rape or domestic violence victim to be a pre-existing condition.\"',\n",
       "  \"LITIFACT TRUT - O-METER'M\"],\n",
       " ['https://www.politifact.com/florida/statements/2016/aug/12/carlos-beruff/fbi-admitted-it-cannot-properly-vet-middle-eastern/',\n",
       "  '\"The director of the FBI said that we cannot properly vet people coming from the Middle East.\"',\n",
       "  \"LITIFACT TRUT - O-METER'M\"],\n",
       " ['https://www.politifact.com/florida/statements/2017/feb/07/donald-trump/trump-overstates-credit-700-million-savings-f-35s/',\n",
       "  '\"I have already saved more than $700 million when I got involved in the negotiation on the F-35.\"',\n",
       "  \"LITIFACT TRUT - O-METER'M\"],\n",
       " ['https://www.politifact.com/florida/statements/2017/jul/19/national-republican-senatorial-committee/republicans-mislead-ad-linking-bill-nelson-elizabe/',\n",
       "  '\"Elizabeth Warren doesn\\'t think Obamacare goes far enough: The next step is single payer.\\' Does Sen. Nelson agree? He has in the past ... Sen. Nelson votes with Warren 90 percent of the time.\"',\n",
       "  \"LITIFACT TRUT - O-METER'M\"],\n",
       " ['https://www.politifact.com/florida/statements/2017/may/01/donald-trump/does-new-version-ahca-still-cover-pre-existing-con/',\n",
       "  'Says of the GOP health care proposal, \"pre-existing conditions are in the bill.\"',\n",
       "  \"LITIFACT TRUT - O-METER'M\"],\n",
       " ['https://www.politifact.com/florida/statements/2017/may/08/tom-price/tom-price-misleads-obamacare-tax-penalty/',\n",
       "  '\"We have got 20 million folks out there across this land who have told the federal government, Phooey, nonsense, I\\'m not going to participate in your program, because it doesn\\'t do what I need done.\\' \"',\n",
       "  \"LITIFACT TRUT - O-METER'M\"],\n",
       " ['https://www.politifact.com/georgia/statements/2017/may/04/sonny-perdue/ag-sec-perdue-changes-school-lunch-rules-says-stan/',\n",
       "  'Easing school lunch regulations \"is not reducing the nutritional standards whatsoever.\"',\n",
       "  \"LITIFACT TRUT - O-METER'M\"],\n",
       " ['https://www.politifact.com/georgia/statements/2017/may/09/barry-loudermilk/would-gop-bill-expand-womens-health-care-curbing-p/',\n",
       "  'In the House Republican health care bill, \"we\\'re expanding women\\'s access to health services by redirecting Planned Parenthood dollars to community health centers, which vastly outnumber Planned Parenthood clinics.\"',\n",
       "  \"LITIFACT TRUT - O-METER'M\"],\n",
       " ['https://www.politifact.com/illinois/statements/2016/sep/01/bruce-rauner/bruce-rauner-resurrects-school-funding-cut-charge-/',\n",
       "  'Democrats \"are cutting our school funding. Four times in the last 10 years before we came into office.\"',\n",
       "  \"LITIFACT TRUT - O-METER'M\"],\n",
       " ['https://www.politifact.com/new-hampshire/statements/2016/nov/05/maggie-hassan/maggie-hassan-says-kelly-ayotte-voted-cut-90-billi/',\n",
       "  'Kelly Ayotte \"voted for a budget that had $90 billion of cuts to Pell Grants.\"',\n",
       "  \"LITIFACT TRUT - O-METER'M\"],\n",
       " ['https://www.politifact.com/new-jersey/statements/2012/may/04/chain-email/obama-has-added-more-national-debt-previous-43-pre/',\n",
       "  'Says President Barack Obama \"added\" $6.5 trillion to the national debt in his first term, more than the $6.3 trillion added by the previous 43 presidents combined.',\n",
       "  \"LITIFACT TRUT - O-METER'M\"],\n",
       " ['https://www.politifact.com/north-carolina/statements/2017/may/04/robert-pittenger/does-new-version-ahca-protect-coverage-pre-existin/',\n",
       "  'Says the Republican plan to replace Obamacare, \"absolutely does not eliminate protections for pre-existing conditions.\"',\n",
       "  \"LITIFACT TRUT - O-METER'M\"],\n",
       " ['https://www.politifact.com/punditfact/statements/2014/jan/06/facebook-posts/facebook-group-no-2-owner-fox-news-prince-alwaleed/',\n",
       "  'The No. 2 owner of Fox News is Prince Alwaleed bin Talal, who said, \"A strong American Government is not good for us.\"',\n",
       "  \"LITIFACT TRUT - O-METER'M\"],\n",
       " ['https://www.politifact.com/punditfact/statements/2015/apr/29/rush-limbaugh/rush-limbaugh-says-clinton-foundation-spends-just-/',\n",
       "  '\"Eighty-five percent of every dollar donated to the Clinton Foundation ended up either with the Clintons or with their staff to pay for travel, salaries, and benefits. Fifteen cents of every dollar actually went to some charitable beneficiary.\"',\n",
       "  \"LITIFACT TRUT - O-METER'M\"],\n",
       " ['https://www.politifact.com/punditfact/statements/2015/may/21/sean-hannity/sean-hannity-senator-hillary-clinton-paid-female-s/',\n",
       "  'As a senator, Hillary Clinton \"actually paid female staffers a lot less than men.\"',\n",
       "  \"LITIFACT TRUT - O-METER'M\"],\n",
       " ['https://www.politifact.com/punditfact/statements/2015/oct/01/viral-image/viral-image-wrongly-accuses-clinton-stealing/',\n",
       "  'Says after leaving the White House, Hillary Clinton \"was forced to return an estimated $200,000 in White House china, furniture and artwork that she had stolen.\"',\n",
       "  \"LITIFACT TRUT - O-METER'M\"],\n",
       " ['https://www.politifact.com/punditfact/statements/2016/aug/08/anthony-weiner/anthony-weiner-lacks-collateral-claim-about-donald/',\n",
       "  '\"We know this now. The banks no longer loan (Donald Trump) money because he\\'s a terrible risk. So he goes to these (Russian) oligarchs and borrows money.\"',\n",
       "  \"LITIFACT TRUT - O-METER'M\"],\n",
       " ['https://www.politifact.com/punditfact/statements/2017/aug/20/alex-castellanos/death-rates-white-men-20-percent-gop-strategist-sa/',\n",
       "  '\"(For) white working-class America, death rates among white men are up 20 percent.\"',\n",
       "  \"LITIFACT TRUT - O-METER'M\"],\n",
       " ['https://www.politifact.com/punditfact/statements/2017/aug/23/david-frum/are-trumps-travels-imposing-historic-costs-taxpaye/',\n",
       "  '\"No president in history has imposed larger personal lifestyle costs on the taxpayer than Donald Trump.\"',\n",
       "  \"LITIFACT TRUT - O-METER'M\"],\n",
       " ['https://www.politifact.com/punditfact/statements/2017/jul/12/eric-bolling/collusion-not-illegal-fox-news-host-eric-bolling-s/',\n",
       "  '\"Collusion is not illegal.\"',\n",
       "  \"LITIFACT TRUT - O-METER'M\"],\n",
       " ['https://www.politifact.com/punditfact/statements/2017/jun/25/kellyanne-conway/house-health-care-bill-allows-some-stay-medicaid-n/',\n",
       "  '\"If you became a Medicaid recipient through the Obamacare expansion, you are grandfathered in.\"',\n",
       "  \"LITIFACT TRUT - O-METER'M\"],\n",
       " ['https://www.politifact.com/punditfact/statements/2018/mar/21/jack-posopiec/trump-campaign-used-cambridge-analytica-final-mont/',\n",
       "  'Says Donald \"Trump decided to *not* work with Cambridge Analytica during the election.\"',\n",
       "  \"LITIFACT TRUT - O-METER'M\"],\n",
       " ['https://www.politifact.com/texas/statements/2016/aug/25/lamar-smith/mostly-false-lamar-smith-claim-one-third-federal-i/',\n",
       "  '\"One third of all federal prisoners today are illegal immigrants.\"',\n",
       "  \"LITIFACT TRUT - O-METER'M\"],\n",
       " ['https://www.politifact.com/texas/statements/2017/sep/21/new-york-post/mostly-false-ted-cruz-same-senator-who-once-suppor/',\n",
       "  'Says Ted Cruz is the \"same senator who once supported a ban on sex toys.\"',\n",
       "  \"LITIFACT TRUT - O-METER'M\"],\n",
       " ['https://www.politifact.com/texas/statements/2018/mar/02/jason-isaac/jason-isaac-makes-mostly-false-claim-abortion-lead/',\n",
       "  'Says abortion is \"the leading cause of death for black Americans and kills as many as 1,000 black children every day.\"',\n",
       "  \"LITIFACT TRUT - O-METER'M\"],\n",
       " ['https://www.politifact.com/truth-o-meter/statements/2012/jun/21/barack-obama/barack-obama-ad-says-women-are-paid-77-cents-dolla/',\n",
       "  '\"Women (are) paid 77 cents on the dollar for doing the same work as men.\"',\n",
       "  \"LITIFACT TRUT - O-METER'M\"],\n",
       " ['https://www.politifact.com/truth-o-meter/statements/2013/jul/30/blog-posting/are-90-million-americans-not-working-or-looking-wo/',\n",
       "  \"Ninety million Americans either aren't working or aren't looking for work.\",\n",
       "  \"LITIFACT TRUT - O-METER'M\"],\n",
       " ['https://www.politifact.com/truth-o-meter/statements/2014/jun/10/hillary-clinton/hillary-clinton-says-she-and-bill-were-dead-broke/',\n",
       "  '\"We came out of the White House not only dead broke, but in debt.\"',\n",
       "  \"LITIFACT TRUT - O-METER'M\"],\n",
       " ['https://www.politifact.com/truth-o-meter/statements/2015/dec/15/ted-cruz/ted-cruzs-claim-head-fbi-told-congress-they-cannot/',\n",
       "  '\"The head of the FBI has told Congress they cannot vet those (Syrian) refugees.\"',\n",
       "  \"LITIFACT TRUT - O-METER'M\"],\n",
       " ['https://www.politifact.com/truth-o-meter/statements/2015/feb/10/ted-cruz/ted-cruz-says-92-million-americans-arent-working/',\n",
       "  '\"92 million Americans aren\\'t working.\"',\n",
       "  \"LITIFACT TRUT - O-METER'M\"],\n",
       " ['https://www.politifact.com/truth-o-meter/statements/2015/jun/17/hillary-clinton/hillary-clinton-change-position-same-sex-marriage/',\n",
       "  'On same-sex marriage.',\n",
       "  'muuaw-o-dlld dou'],\n",
       " ['https://www.politifact.com/truth-o-meter/statements/2015/mar/16/tom-cotton/tom-cotton-says-susan-rice-conceded-under-nuclear-/',\n",
       "  'Says that \"Susan Rice, the president\\'s national security adviser, has already conceded that Iran will have a robust uranium enrichment capability.\"',\n",
       "  \"LITIFACT TRUT - O-METER'M\"],\n",
       " ['https://www.politifact.com/truth-o-meter/statements/2015/oct/08/hillary-clinton/hillary-clinton-now-opposes-trans-pacific-partners/',\n",
       "  'On the Trans-Pacific Partnership.',\n",
       "  'muuaw-o-dlld dou'],\n",
       " ['https://www.politifact.com/truth-o-meter/statements/2016/apr/04/bernie-s/bernie-sanders-says-wall-street-tax-would-pay-his-/',\n",
       "  'Says his free public university tuition program \"is paid for by a tax on Wall Street\\'s speculation.\"',\n",
       "  \"LITIFACT TRUT - O-METER'M\"],\n",
       " ['https://www.politifact.com/truth-o-meter/statements/2016/apr/14/hillary-clinton/hillary-clinton-bernie-sanders-has-been-largely-ve/',\n",
       "  'Says Bernie Sanders \"has been largely a very reliable supporter of the NRA.\"',\n",
       "  \"LITIFACT TRUT - O-METER'M\"],\n",
       " ['https://www.politifact.com/truth-o-meter/statements/2016/aug/24/donald-trump/donald-trump-calls-400-million-payment-iran-ransom/',\n",
       "  'The Obama administration gave Iran \"$400 million in ransom payment cash.\"',\n",
       "  \"LITIFACT TRUT - O-METER'M\"],\n",
       " ['https://www.politifact.com/truth-o-meter/statements/2016/jan/14/chelsea-clinton/chelsea-clinton-mischaracterizes-bernie-sanders-he/',\n",
       "  'Says Bernie Sanders\\' health care plan would \"empower Republican governors to take away Medicaid, to take away health insurance for low-income and middle-income working Americans.\"',\n",
       "  \"LITIFACT TRUT - O-METER'M\"],\n",
       " ['https://www.politifact.com/truth-o-meter/statements/2016/jul/14/barack-obama/barack-obama-offers-flawed-comparison-between-teen/',\n",
       "  '\"We flood communities with so many guns that it is easier for a teenager to buy a Glock than get his hands on a computer or even a book.\"',\n",
       "  \"LITIFACT TRUT - O-METER'M\"],\n",
       " ['https://www.politifact.com/truth-o-meter/statements/2016/jul/21/mike-pence/mike-pences-false-claim-about-clintons-role-and-re/',\n",
       "  '\"It was Hillary Clinton who left Americans in harm\\'s way in Benghazi and after four Americans fell said, \\'What difference at this point does it make?\\' \"',\n",
       "  \"LITIFACT TRUT - O-METER'M\"],\n",
       " ['https://www.politifact.com/truth-o-meter/statements/2016/jul/28/donald-trump/donald-trump-gets-full-flop-stance-minimum-wage/',\n",
       "  'On whether the federal government should set a minimum wage',\n",
       "  'muuaw-o-dlld dou'],\n",
       " ['https://www.politifact.com/truth-o-meter/statements/2016/jun/30/donald-trump/donald-trump-inaccurately-suggests-clinton-got-pai/',\n",
       "  'Says Hillary Clinton\\'s State Department \"approved the transfer of 20 percent of America\\'s uranium holdings to Russia, while nine investors in the deal funneled $145 million to the Clinton Foundation.\"',\n",
       "  \"LITIFACT TRUT - O-METER'M\"],\n",
       " ['https://www.politifact.com/truth-o-meter/statements/2016/mar/07/bernie-s/sanders-overshoots-nafta-job-losses/',\n",
       "  '\"NAFTA, supported by the Secretary (Clinton), cost us 800,000 jobs nationwide.\"',\n",
       "  \"LITIFACT TRUT - O-METER'M\"],\n",
       " ['https://www.politifact.com/truth-o-meter/statements/2016/mar/09/hillary-clinton/hillary-clinton-said-my-predecessors-did-same-thin/',\n",
       "  'Regarding her State Department email practices, \"my predecessors did the same thing.\"',\n",
       "  \"LITIFACT TRUT - O-METER'M\"],\n",
       " ['https://www.politifact.com/truth-o-meter/statements/2016/may/11/donald-trump/donald-trump-says-germany-now-riddled-crime-thanks/',\n",
       "  'Germany \"is crime-riddled right now\" because of migration to Europe.',\n",
       "  \"LITIFACT TRUT - O-METER'M\"],\n",
       " ['https://www.politifact.com/truth-o-meter/statements/2016/oct/09/donald-trump/trump-clinton-wont-use-term-radical-islamist-terro/',\n",
       "  '\"These are radical Islamic terrorists, and (Hillary Clinton) won\\'t even mention the word.\"',\n",
       "  \"LITIFACT TRUT - O-METER'M\"],\n",
       " ['https://www.politifact.com/truth-o-meter/statements/2016/oct/10/donald-trump/donald-trump-says-hillary-clinton-viciously-attack/',\n",
       "  'Says Hillary Clinton \"viciously\" attacked women abused by Bill Clinton.',\n",
       "  \"LITIFACT TRUT - O-METER'M\"],\n",
       " ['https://www.politifact.com/truth-o-meter/statements/2016/oct/10/donald-trump/trump-says-ice-endorsed-him/',\n",
       "  '\"ICE just endorsed me.\"',\n",
       "  \"LITIFACT TRUT - O-METER'M\"],\n",
       " ['https://www.politifact.com/truth-o-meter/statements/2016/oct/11/donald-trump/trump-mangles-facts-clinton-and-haiti-jobs-project/',\n",
       "  'Says \"Hillary Clinton set aside environmental and labor rules to help a South Korean company with a record of violating workers\\' rights set up what amounts to a sweatshop in Haiti.\"',\n",
       "  \"LITIFACT TRUT - O-METER'M\"],\n",
       " ['https://www.politifact.com/truth-o-meter/statements/2016/oct/12/donald-trump/trump-ive-been-proven-right-about-clinton-wanting-/',\n",
       "  'Says \"I\\'ve been proven right\" about \"Hillary Clinton\\'s radical call for open borders, meaning anyone in the world can enter the United States without any limit at all.\"',\n",
       "  \"LITIFACT TRUT - O-METER'M\"],\n",
       " ['https://www.politifact.com/truth-o-meter/statements/2016/oct/14/donald-trump/donald-trump-wildly-exaggerates-amb-christopher-st/',\n",
       "  'Says Libya \"Ambassador (Christopher) Stevens sent 600 requests for help\" in Benghazi.',\n",
       "  \"LITIFACT TRUT - O-METER'M\"],\n",
       " ['https://www.politifact.com/truth-o-meter/statements/2016/sep/26/donald-trump/donald-trump-denies-saying-global-warming-chinese-/',\n",
       "  '\"I did not I did not I do not say that. I do not say that\" climate change is a hoax perpetrated by the Chinese.',\n",
       "  \"LITIFACT TRUT - O-METER'M\"],\n",
       " ['https://www.politifact.com/truth-o-meter/statements/2017/aug/30/ted-cruz/ted-cruzs-mostly-false-claim-two-thirds-sandy-reli/',\n",
       "  '\"Two-thirds of the (Hurricane Sandy relief) bill had nothing to do with Sandy.\"',\n",
       "  \"LITIFACT TRUT - O-METER'M\"],\n",
       " ['https://www.politifact.com/truth-o-meter/statements/2017/dec/06/doug-jones/jones-ad-wrongly-attacks-moore-sex-crime-case/',\n",
       "  '\"In a 2014 case involving a man convicted of abusing two underage girls, Judge Roy Moore disagreed and wrote the dissenting opinion.\"',\n",
       "  \"LITIFACT TRUT - O-METER'M\"],\n",
       " ['https://www.politifact.com/truth-o-meter/statements/2017/feb/07/donald-trump/donald-trump-wrong-say-kuwait-followed-his-lead-vi/',\n",
       "  '\"Smart! \\'Kuwait issues its own Trump-esque visa ban for five Muslim-majority countries.\\' \"',\n",
       "  \"LITIFACT TRUT - O-METER'M\"],\n",
       " ['https://www.politifact.com/truth-o-meter/statements/2017/feb/16/donald-trump/trumps-flip-flop-leaks-and-release-secret-informat/',\n",
       "  'On leaks and the release of secret information.',\n",
       "  'muuaw-o-dlld dou'],\n",
       " ['https://www.politifact.com/truth-o-meter/statements/2017/feb/25/donald-trump/why-donald-trumps-tweet-about-decline-national-deb/',\n",
       "  '\"The National Debt in my first month went down by $12 billion.\"',\n",
       "  \"LITIFACT TRUT - O-METER'M\"],\n",
       " ['https://www.politifact.com/truth-o-meter/statements/2017/jan/12/other-98/meme-exaggerates-gop-senators-bill-embassy-move/',\n",
       "  '\"The same 3 senators who have spent the last 3 years s------- themselves over Benghazi!\\' just introduced a bill to reduce embassy security by 50 percent.\"',\n",
       "  \"LITIFACT TRUT - O-METER'M\"],\n",
       " ['https://www.politifact.com/truth-o-meter/statements/2017/jan/15/donald-trump/trumps-john-lewis-crime-invested-atlanta/',\n",
       "  'Says Georgia\\'s 5th congressional district, represented by John Lewis, is \"in horrible shape and falling apart (not to mention crime infested).\"',\n",
       "  \"LITIFACT TRUT - O-METER'M\"],\n",
       " ['https://www.politifact.com/truth-o-meter/statements/2017/jan/18/other-98/viral-image-about-democratic-senators-and-big-phar/',\n",
       "  'Thirteen Democratic senators \"voted against cheaper medicines\" and took millions from \"big pharma since 2011.\"',\n",
       "  \"LITIFACT TRUT - O-METER'M\"],\n",
       " ['https://www.politifact.com/truth-o-meter/statements/2017/jan/30/donald-trump/why-comparing-trumps-and-obamas-immigration-restri/',\n",
       "  '\"My policy is similar to what President Obama did in 2011 when he banned visas for refugees from Iraq for six months.\"',\n",
       "  \"LITIFACT TRUT - O-METER'M\"],\n",
       " ['https://www.politifact.com/truth-o-meter/statements/2017/jul/10/donald-trump/donald-trump-says-barack-obama-did-nothing-about-r/',\n",
       "  'Says Barack Obama found out about Russia \"in August. Now, the election was in November. That\\'s a lot of time. He did nothing about it.\"',\n",
       "  \"LITIFACT TRUT - O-METER'M\"],\n",
       " ['https://www.politifact.com/truth-o-meter/statements/2017/jul/18/donald-trump/trump-claims-he-got-rid-johnson-amendment-true/',\n",
       "  '\"I\\'ve gotten rid of the Johnson Amendment I signed an executive order so that now ... ministers and and preachers and rabbis and whoever it may be, they can speak. You know, you couldn\\'t speak politically before, now you can.\"',\n",
       "  \"LITIFACT TRUT - O-METER'M\"],\n",
       " ['https://www.politifact.com/truth-o-meter/statements/2017/jul/23/kellyanne-conway/does-russia-take-75-percent-media-coverage/',\n",
       "  'Just 6 percent of Americans say Russia is the country\\'s most important issue, yet the story receives \"75 percent of the coverage\" in the media.',\n",
       "  \"LITIFACT TRUT - O-METER'M\"],\n",
       " ['https://www.politifact.com/truth-o-meter/statements/2017/jun/05/scott-pruitt/are-coal-mining-jobs-50000-last-year-not-exactly/',\n",
       "  '\"Since the fourth quarter of last year until most recently, we\\'ve added almost 50,000 jobs in the coal sector. In the month of May alone, almost 7,000 jobs.\"',\n",
       "  \"LITIFACT TRUT - O-METER'M\"],\n",
       " ['https://www.politifact.com/truth-o-meter/statements/2017/jun/19/donald-trump/donald-trump-tweet-50-approval-cherry-picks-pollin/',\n",
       "  '\"The new Rasmussen Poll, one of the most accurate in the 2016 Election, just out with a Trump 50% Approval Rating. That\\'s higher than O\\'s #\\'s!\"',\n",
       "  \"LITIFACT TRUT - O-METER'M\"],\n",
       " ['https://www.politifact.com/truth-o-meter/statements/2017/jun/21/donald-trump/white-house-tweet-wrongly-says-obamacare-led-fewer/',\n",
       "  'Obamacare has led to fewer health insurance options for millions of Americans.',\n",
       "  \"LITIFACT TRUT - O-METER'M\"],\n",
       " ['https://www.politifact.com/truth-o-meter/statements/2017/jun/26/donald-trump/trump-wrongly-calls-muellers-special-counsel-clint/',\n",
       "  '\"I can say that the people that have been hired (for the independent Russia investigation) are all Hillary Clinton supporters, some of them worked for Hillary Clinton.\"',\n",
       "  \"LITIFACT TRUT - O-METER'M\"],\n",
       " ['https://www.politifact.com/truth-o-meter/statements/2017/jun/26/kellyanne-conway/does-senate-health-care-bill-cut-medicaid/',\n",
       "  'There \"are not cuts to Medicaid\" in the GOP health care proposals.',\n",
       "  \"LITIFACT TRUT - O-METER'M\"],\n",
       " ['https://www.politifact.com/truth-o-meter/statements/2017/mar/07/donald-trump/donald-trump-wrongly-blames-barack-obama-former-gu/',\n",
       "  '\"122 vicious prisoners, released by the Obama Administration from Gitmo, have returned to the battlefield.\"',\n",
       "  \"LITIFACT TRUT - O-METER'M\"],\n",
       " ['https://www.politifact.com/truth-o-meter/statements/2017/may/05/blog-posting/headlines-say-gop-bill-makes-sexual-assault-pre-ex/',\n",
       "  'Under the House Republican health plan, sexual assault is a pre-existing condition.',\n",
       "  \"LITIFACT TRUT - O-METER'M\"],\n",
       " ['https://www.politifact.com/truth-o-meter/statements/2018/apr/02/donald-trump/donald-trump-base-comparison-us-mexico-border-laws/',\n",
       "  'Mexico has \"very strong border laws -- ours are pathetic.\"',\n",
       "  \"LITIFACT TRUT - O-METER'M\"],\n",
       " ['https://www.politifact.com/truth-o-meter/statements/2018/feb/01/donald-trump/trump-state-union-ratings-not-highest-history/',\n",
       "  '\"45.6 million people watched (the State of the Union), the highest number in history. @FoxNews beat every other Network, for the first time ever, with 11.7 million people tuning in.\"',\n",
       "  \"LITIFACT TRUT - O-METER'M\"],\n",
       " ['https://www.politifact.com/truth-o-meter/statements/2018/feb/20/donald-trump/has-donald-trump-been-much-tougher-russia-barack-o/',\n",
       "  '\"I have been much tougher on Russia than Obama, just look at the facts. Total Fake News!\"',\n",
       "  \"LITIFACT TRUT - O-METER'M\"],\n",
       " ['https://www.politifact.com/truth-o-meter/statements/2018/feb/22/viral-image/fact-checking-meme-id-requirements-buying-guns-vot/',\n",
       "  'In most states, you can buy an assault rifle with no proof of ID, but in every state, you need proof of ID to vote.',\n",
       "  \"LITIFACT TRUT - O-METER'M\"],\n",
       " ['https://www.politifact.com/truth-o-meter/statements/2018/jan/17/donald-trump/would-military-shut-down-if-federal-government-doe/',\n",
       "  'In a government shutdown, \"what they are really doing is shutting down our military.\"',\n",
       "  \"LITIFACT TRUT - O-METER'M\"],\n",
       " ['https://www.politifact.com/truth-o-meter/statements/2018/mar/28/donald-trump/did-us-have-500-billion-deficit-china-2017/',\n",
       "  '\"Last year we lost $500 billion on trade with China.\"',\n",
       "  \"LITIFACT TRUT - O-METER'M\"],\n",
       " ['https://www.politifact.com/virginia/statements/2016/oct/31/levar-stoney/levar-stoney-weakly-claims-jack-berry-voted-cut-23/',\n",
       "  '\"Jack Berry voted for a plan to cut $23.8 million from our schools.\"',\n",
       "  \"LITIFACT TRUT - O-METER'M\"],\n",
       " ['https://www.politifact.com/wisconsin/statements/2015/may/27/ron-johnson/russ-feingold-cast-deciding-vote-pave-way-obamacar/',\n",
       "  'Says Democratic challenger Russ Feingold \"was the deciding vote on Obamacare.\"',\n",
       "  \"LITIFACT TRUT - O-METER'M\"],\n",
       " ['https://www.politifact.com/wisconsin/statements/2016/jul/29/reince-priebus/iran-nuclear-deal-was-hillary-clintons-and-it-line/',\n",
       "  'Says Hillary Clinton\\'s Iran nuclear deal \"lined the pockets of the world\\'s number one state sponsor of terrorism with your money.\"',\n",
       "  \"LITIFACT TRUT - O-METER'M\"],\n",
       " ['https://www.politifact.com/wisconsin/statements/2016/sep/30/donald-trump/nuclear-claim-donald-trump-says-hillary-clinton-ga/',\n",
       "  'Says Hillary Clinton \"gave up 20 percent of America\\'s uranium supply to Russia.\"',\n",
       "  \"LITIFACT TRUT - O-METER'M\"],\n",
       " ['https://www.politifact.com/wisconsin/statements/2017/aug/23/scott-walker/testing-scott-walkers-top-10-business-ranking-clai/',\n",
       "  '\"We took Wisconsin from the Bottom 10 for business to the Top 10.\"',\n",
       "  \"LITIFACT TRUT - O-METER'M\"],\n",
       " ['https://www.politifact.com/wisconsin/statements/2017/feb/01/paul-ryan/paul-ryans-damning-claim-affordable-care-act-obama/',\n",
       "  '\"Obamacare has failed.\"',\n",
       "  \"LITIFACT TRUT - O-METER'M\"],\n",
       " ['https://www.politifact.com/wisconsin/statements/2017/may/17/scott-walker/testing-scott-walker-claim-record-education-findin/',\n",
       "  '\"We are investing more money into education than ever before in the history of Wisconsin.\"',\n",
       "  \"LITIFACT TRUT - O-METER'M\"],\n",
       " ['https://www.politifact.com/wisconsin/statements/2017/oct/13/paul-ryan/gop-tax-reform-framework-aimed-giving-break-middle/',\n",
       "  'The Republican tax reform proposal is focused on tax breaks for the middle class \"and not about people who are really high-income earners getting a tax break.\"',\n",
       "  \"LITIFACT TRUT - O-METER'M\"],\n",
       " ['https://www.politifact.com/wisconsin/statements/2018/feb/15/jeff-greenfield/mostly-false-18-us-school-shootings-so-far-2018-an/',\n",
       "  '\"In the rest of the world, there have been 18 school shootings in the last twenty years. In the U.S., there have been 18 school shootings since January 1.\"',\n",
       "  \"LITIFACT TRUT - O-METER'M\"]]"
      ]
     },
     "execution_count": 25,
     "metadata": {},
     "output_type": "execute_result"
    }
   ],
   "source": [
    "[i for i in extracted_data if i[2] in [\"LITIFACT TRUT - O-METER'M\", \n",
    "                                           'muuaw-o-dlld dou']]"
   ]
  },
  {
   "cell_type": "code",
   "execution_count": 28,
   "metadata": {},
   "outputs": [
    {
     "data": {
      "text/plain": [
       "[['https://www.politifact.com/california/statements/2016/nov/28/donald-trump/pants-fire-trumps-claim-about-california-voter-fra/',\n",
       "  'There was \"serious voter fraud\" in California.',\n",
       "  'PANTS ON FIRE /'],\n",
       " ['https://www.politifact.com/california/statements/2017/jan/04/travis-allen/lawmakers-claim-about-california-legalizing-child-/',\n",
       "  '\"Beginning on Jan. 1, prostitution by minors will be legal in California.\"',\n",
       "  'PANTS ON FIRE /'],\n",
       " ['https://www.politifact.com/california/statements/2018/jan/24/worldnetdaily/no-california-didnt-pass-law-allowing-undocumented/',\n",
       "  '\"California To Register Illegal Aliens To Vote Automatically.\"',\n",
       "  'PANTS ON FIRE /'],\n",
       " ['https://www.politifact.com/florida/statements/2013/jul/09/chain-email/illegal-immigrants-are-covered-under-health-care-l/',\n",
       "  'Obamacare \"will provide insurance to all non-U.S. residents, even if they are here illegally.\"',\n",
       "  'PANTS ON FIRE /'],\n",
       " ['https://www.politifact.com/florida/statements/2016/aug/09/viral-image/viral-image-about-voter-fraud-completely-baseless/',\n",
       "  'In the 2012 election, there were more votes cast than registered voters in St. Lucie County, and Palm Beach County had 141 percent turnout.',\n",
       "  'PANTS ON FIRE /'],\n",
       " ['https://www.politifact.com/florida/statements/2016/oct/31/roger-stone/no-roger-stone-hillary-clinton-did-not-meet-browar/',\n",
       "  'Says Hillary Clinton \"shows up in Broward County\" and had a private meeting with elections supervisor Brenda Snipes.',\n",
       "  'PANTS ON FIRE /'],\n",
       " ['https://www.politifact.com/florida/statements/2018/mar/26/viral-image/doctored-image-shows-parkland-school-shooting-surv/',\n",
       "  'Says Emma Gonzalez, a survivor of the Parkland school shooting, ripped up a copy of the U.S. Constitution',\n",
       "  'PANTS ON FIRE /'],\n",
       " ['https://www.politifact.com/florida/statements/2018/mar/27/blog-posting/david-hogg-not-school-during-shooting-s-fake-news/',\n",
       "  \"Says David Hogg wasn't at school during the Parkland school shooting.\",\n",
       "  'PANTS ON FIRE /'],\n",
       " ['https://www.politifact.com/georgia/statements/2015/oct/28/reader-email/unfit-serve-congressman-isnt-even-real/',\n",
       "  '\"How is a misogynist bigot of epic proportions (like U.S. Rep. Steven Smith) allowed to serve?\"',\n",
       "  'PANTS ON FIRE /'],\n",
       " ['https://www.politifact.com/global-news/statements/2016/dec/20/blog-posting/anti-vaccination-blog-revives-debunked-hpv-story/',\n",
       "  'Say Bill Gates is linked to HPV vaccine related deaths in India.',\n",
       "  'PANTS ON FIRE /'],\n",
       " ['https://www.politifact.com/illinois/statements/2017/oct/03/sarah-huckabee-sanders/chicago-toughest-gun-control-claim-shot-full-holes/',\n",
       "  '\"I think if you look to Chicago, where you had over 4,000 victims of gun-related crimes last year, they have the strictest gun laws in the country. That certainly hasn\\'t helped there.\"',\n",
       "  'PANTS ON FIRE /'],\n",
       " ['https://www.politifact.com/new-york/statements/2018/feb/23/claudia-tenney/do-many-mass-shooters-end-being-democrats-rep-tenn/',\n",
       "  '\"So many of these people that commit the mass murders end up being Democrats.\"',\n",
       "  'PANTS ON FIRE /'],\n",
       " ['https://www.politifact.com/north-carolina/statements/2017/feb/16/dan-forest/ncs-dan-forest-wrongly-claims-gov-roy-cooper-will-/',\n",
       "  '\"If Governor Cooper\\'s proposed bill for repealing HB2 becomes law, it will create a state-sanctioned \\'Look But Don\\'t Touch\\' policy in our bathrooms.\"',\n",
       "  'PANTS ON FIRE /'],\n",
       " ['https://www.politifact.com/north-carolina/statements/2018/feb/23/larry-pittman/nc-republican-says-many-mass-shooters-turn-out-be-/',\n",
       "  '\"So many of these shooters turn out to be communist Democrats.\"',\n",
       "  'PANTS ON FIRE /'],\n",
       " ['https://www.politifact.com/ohio/statements/2016/aug/16/viral-image/viral-post-alleges-voter-fraud-wood-county-ohio/',\n",
       "  'Says there were multiple instances of voter fraud in Wood County, Ohio.',\n",
       "  'PANTS ON FIRE /'],\n",
       " ['https://www.politifact.com/pennsylvania/statements/2016/aug/12/viral-image/internet-philly-rigged-2012-presidential-election-/',\n",
       "  'That 59 divisions in Philly had no votes for Romney in 2012 is \"(a) mathematical and statistical impossibility.\"',\n",
       "  'PANTS ON FIRE /'],\n",
       " ['https://www.politifact.com/pennsylvania/statements/2016/oct/26/john-rafferty/gop-attorney-general-candidate-cant-back-claim-wid/',\n",
       "  '\"Recently though, the media has reported on thousands of illegal voters here in the commonwealth.\"',\n",
       "  'PANTS ON FIRE /'],\n",
       " ['https://www.politifact.com/punditfact/statements/2016/aug/01/james-woods/actor-james-woods-uses-fabricated-hillary-clinton-/',\n",
       "  'Says Hillary Clinton wrote, \"I believe the primary role of the state is to teach, train and raise children. Parents have a secondary role.\"',\n",
       "  'PANTS ON FIRE /'],\n",
       " ['https://www.politifact.com/punditfact/statements/2016/dec/05/blog-posting/fake-news-alert-claim-famed-latina-trump-supporter/',\n",
       "  'Latina who enthusiastically supported Donald Trump on stage in Las Vegas in October 2015 has been deported.',\n",
       "  'PANTS ON FIRE /'],\n",
       " ['https://www.politifact.com/punditfact/statements/2016/dec/30/buzzfeedusacom/no-air-force-one-did-not-refuse-take-obama-hawaii/',\n",
       "  '\"Breaking: Crew of Air Force One Refuses to Fly Obama 6000 miles Just to Play Golf\\' \"',\n",
       "  'PANTS ON FIRE /'],\n",
       " ['https://www.politifact.com/punditfact/statements/2016/nov/15/political-insider/website-caught-publishing-fake-news-leaked-photo-n/',\n",
       "  'A picture shows former President Bill Clinton naked with another woman.',\n",
       "  'PANTS ON FIRE /'],\n",
       " ['https://www.politifact.com/punditfact/statements/2016/nov/16/americanpoliticnews/fake-story-says-denzel-washington-supports-donald-/',\n",
       "  'Says Denzel Washington supports Donald Trump and speaks out against Barack Obama.',\n",
       "  'PANTS ON FIRE /'],\n",
       " ['https://www.politifact.com/punditfact/statements/2016/nov/22/blog-posting/no-15000-people-did-not-vote-harambe/',\n",
       "  'Harambe received 15,000 votes in the presidential election.',\n",
       "  'PANTS ON FIRE /'],\n",
       " ['https://www.politifact.com/punditfact/statements/2017/apr/04/blog-posting/doctors-deaths-were-not-connected-fake-news-websit/',\n",
       "  '\"Doctors who discovered cancer enzymes in vaccines all found murdered.\"',\n",
       "  'PANTS ON FIRE /'],\n",
       " ['https://www.politifact.com/punditfact/statements/2017/apr/11/blog-posting/evangelical-leader-kenneth-copeland-did-not-threat/',\n",
       "  '\"Evangelical leader says those who oppose Trump could be punished\\' with gay child.\"',\n",
       "  'PANTS ON FIRE /'],\n",
       " ['https://www.politifact.com/punditfact/statements/2017/aug/07/blog-posting/posts-blame-john-mccain-deadly-1967-fire-aboard-us/',\n",
       "  'U.S. Sen. John McCain \"was singlehandedly responsible for starting a fire on (the) USS Forrestal aircraft carrier.\"',\n",
       "  'PANTS ON FIRE /'],\n",
       " ['https://www.politifact.com/punditfact/statements/2017/aug/28/blog-posting/outdated-photo-wrongly-suggests-barack-obama-food-/',\n",
       "  '\"Obama is in Texas serving meals!\"',\n",
       "  'PANTS ON FIRE /'],\n",
       " ['https://www.politifact.com/punditfact/statements/2017/dec/01/nova-magazine/prince-harry-never-said-donald-trump-wasnt-welcome/',\n",
       "  '\"Prince Harry says Donald Trump is not welcome at his wedding: Trump is a serious threat to human rights.\\' \"',\n",
       "  'PANTS ON FIRE /'],\n",
       " ['https://www.politifact.com/punditfact/statements/2017/feb/02/blog-posting/mike-pence-did-not-say-women-would-seek-out-sexual/',\n",
       "  'Says Mike Pence said that \"allowing rape victims to have abortions will lead to women trying to get raped.\"',\n",
       "  'PANTS ON FIRE /'],\n",
       " ['https://www.politifact.com/punditfact/statements/2017/feb/06/cnnews3com/fake-news-claims-walmart-bananas-have-hiv-virus-ar/',\n",
       "  'The HIV virus has been \"detected in Walmart bananas after 10 year old boy contracts the virus.\"',\n",
       "  'PANTS ON FIRE /'],\n",
       " ['https://www.politifact.com/punditfact/statements/2017/feb/07/blog-posting/trumps-executive-order-did-not-lead-isis-leaders-a/',\n",
       "  'Says President Donald Trump\\'s \"executive order leads to capture of ISIS leader, Rasheed Muhammad.\"',\n",
       "  'PANTS ON FIRE /'],\n",
       " ['https://www.politifact.com/punditfact/statements/2017/feb/09/blog-posting/donald-trump-did-not-make-english-official-languag/',\n",
       "  'Says \"President Trump makes English the official language of the United States!\"',\n",
       "  'PANTS ON FIRE /'],\n",
       " ['https://www.politifact.com/punditfact/statements/2017/feb/09/true-pundit/no-coretta-scott-king-didnt-thank-jeff-sessions-vi/',\n",
       "  'Says a video shows \"Coretta Scott King thanking Jeff Sessions for Rosa Parks library.\"',\n",
       "  'PANTS ON FIRE /'],\n",
       " ['https://www.politifact.com/punditfact/statements/2017/jan/05/usa-snich/fake-news-pope-francis-did-not-say-koran-and-holy-/',\n",
       "  '\"Pope Francis To Followers: \\'Koran And Holy Bible Are The Same\\' \"',\n",
       "  'PANTS ON FIRE /'],\n",
       " ['https://www.politifact.com/punditfact/statements/2017/jan/26/whoopi-goldberg/whoopi-goldberg-wrongly-says-obama-waited-least-co/',\n",
       "  'Says Barack Obama \"didn\\'t do executive orders in the beginning.\"',\n",
       "  'PANTS ON FIRE /'],\n",
       " ['https://www.politifact.com/punditfact/statements/2017/jun/12/antinews/years-old-story-edward-snowden-can-prove-osama-bin/',\n",
       "  '\"Edward Snowden: Osama bin Laden is still alive living in the Bahamas.\"',\n",
       "  'PANTS ON FIRE /'],\n",
       " ['https://www.politifact.com/punditfact/statements/2017/jun/15/teddystickcom/maxine-waters-has-not-skipped-90-percent-congressi/',\n",
       "  '\"Democrat Maxine Waters has shown up to only 10 percent of congressional meetings for 35 years.\"',\n",
       "  'PANTS ON FIRE /'],\n",
       " ['https://www.politifact.com/punditfact/statements/2017/mar/03/theseattletribunecom/reports-donald-trumps-unsecured-android-phone-root/',\n",
       "  '\"Trump\\'s Android device believed to be source of recent White House leaks.\"',\n",
       "  'PANTS ON FIRE /'],\n",
       " ['https://www.politifact.com/punditfact/statements/2017/mar/06/undergroundnewsreportcom/report-man-pardoned-obama-being-arrested-murder-fa/',\n",
       "  '\"Man pardoned by Obama three months ago arrested for murder.\"',\n",
       "  'PANTS ON FIRE /'],\n",
       " ['https://www.politifact.com/punditfact/statements/2017/mar/07/undergroundnewsreportcom/whoopi-golberg-quote-about-navy-seal-widow-made/',\n",
       "  'Says Whoopi Goldberg said the widow of a Navy SEAL was \"looking for attention.\"',\n",
       "  'PANTS ON FIRE /'],\n",
       " ['https://www.politifact.com/punditfact/statements/2017/may/09/blog-posting/chelsea-clinton-charged-fraud-clinton-foundation-s/',\n",
       "  '\"Clinton Foundation ordered to cease operations Chelsea (Clinton) charged with fraud!\"',\n",
       "  'PANTS ON FIRE /'],\n",
       " ['https://www.politifact.com/punditfact/statements/2017/nov/29/religionmindcom/fake-news-girls-saudi-arabia-will-be-beheaded-danc/',\n",
       "  '\"Saudi Arabia to Behead 6 School Girls for Being With Their Male Friends Without Parents or a Guardian\"',\n",
       "  'PANTS ON FIRE /'],\n",
       " ['https://www.politifact.com/punditfact/statements/2017/oct/03/blog-posting/fake-news-posts-blame-puerto-ricos-truck-drivers-r/',\n",
       "  '\"San Juan Teamsters didn\\'t show up for work to distribute relief supplies\" because they went on strike.',\n",
       "  'PANTS ON FIRE /'],\n",
       " ['https://www.politifact.com/punditfact/statements/2017/oct/26/blog-posting/did-austrias-sebastian-kurz-ban-george-soros-organ/',\n",
       "  '\"Youngest world leader bans George Soros\\'s Foundations from Austria.\"',\n",
       "  'PANTS ON FIRE /'],\n",
       " ['https://www.politifact.com/punditfact/statements/2017/sep/08/blog-posting/no-30000-scientists-have-not-said-climate-change-h/',\n",
       "  '\"30,000 scientists have come forward confirming that man-made climate change is a hoax perpetuated by the elite in order to make money.\"',\n",
       "  'PANTS ON FIRE /'],\n",
       " ['https://www.politifact.com/punditfact/statements/2018/apr/03/fellowship-minds/no-march-our-lives-demonstration-was-not-prepared-/',\n",
       "  '\"Application for March for Our Lives permit was made months before Parkland shooting\"',\n",
       "  'PANTS ON FIRE /'],\n",
       " ['https://www.politifact.com/punditfact/statements/2018/feb/01/csc-mediagroupusa/fake-story-says-democrats-booed-families-ms13-vict/',\n",
       "  'Democrats \"booed families of children murdered by MS13.\"',\n",
       "  'PANTS ON FIRE /'],\n",
       " ['https://www.politifact.com/punditfact/statements/2018/feb/02/eco-news/story-nfl-lawyer-said-super-bowl-rigged-and-was-mu/',\n",
       "  '\"NFL lawyer, who claimed Super Bowl is rigged\\', found dead.\"',\n",
       "  'PANTS ON FIRE /'],\n",
       " ['https://www.politifact.com/punditfact/statements/2018/jan/03/pro-conservative-news/no-shaq-didnt-declare-trump-best-president/',\n",
       "  'Says Shaquille O\\'Neal said Donald Trump \"is possibly the best president.\"',\n",
       "  'PANTS ON FIRE /'],\n",
       " ['https://www.politifact.com/punditfact/statements/2018/mar/20/blog-posting/no-it-was-not-all-female-company-built-bridge-coll/',\n",
       "  'An all-female construction company built the Florida bridge that collapsed.',\n",
       "  'PANTS ON FIRE /'],\n",
       " ['https://www.politifact.com/punditfact/statements/2018/mar/30/blog-posting/no-david-hogg-graduate-california-high-school/',\n",
       "  'David Hogg graduated from Redondo Shores High School in 2015.',\n",
       "  'PANTS ON FIRE /'],\n",
       " ['https://www.politifact.com/punditfact/statements/2018/may/01/newly-press/smallville-actress-didnt-confess-selling-children-/',\n",
       "  '\"Smallville star confesses she sold children to Rothschilds and Clintons.\"',\n",
       "  'PANTS ON FIRE /'],\n",
       " ['https://www.politifact.com/punditfact/statements/2018/may/15/blog-posting/fabricated-headline-says-julia-roberts-told-celine/',\n",
       "  'Says Julia Roberts told Celine Dion, \"If you hate Trump you can go in your country.\"',\n",
       "  'PANTS ON FIRE /'],\n",
       " ['https://www.politifact.com/texas/statements/2015/oct/16/jason-villalba/jason-villalba-said-bernie-sanders-democratic-soci/',\n",
       "  '\"Bernie Sanders admits he is a Democratic Socialist. Nazis were Democratic Socialists.\"',\n",
       "  'PANTS ON FIRE /'],\n",
       " ['https://www.politifact.com/texas/statements/2016/aug/24/celia-israel/celia-israel-repeats-unverified-claim-donald-trump/',\n",
       "  'Says Donald Trump\\'s \"Make America Great Again\" caps are \"made in China.\"',\n",
       "  'PANTS ON FIRE /'],\n",
       " ['https://www.politifact.com/texas/statements/2017/feb/15/liberal-blogger/fake-news-texas-congressman-pecos-wishes-another-9/',\n",
       "  'Says a Republican U.S. House member from Texas, Rob McCaskill, tweeted that he \"can\\'t wait for the next 9/11.\"',\n",
       "  'PANTS ON FIRE /'],\n",
       " ['https://www.politifact.com/truth-o-meter/statements/2014/nov/24/facebook-posts/viral-meme-says-islamic-group-posted-threat-kill-a/',\n",
       "  'A sign in Dearborn, Mich., for the Advancement of Islamic Agenda for America says, \"Allah be praised. America we will kill you all and nothing you can do to stop it.\"',\n",
       "  'PANTS ON FIRE /'],\n",
       " ['https://www.politifact.com/truth-o-meter/statements/2015/dec/09/facebook-posts/facebook-posts-still-claim-obama-wasnt-born-us/',\n",
       "  'Barack Obama\\'s Columbia University ID says he was a foreign student and went by \"Barry Soetoro.\"',\n",
       "  'PANTS ON FIRE /'],\n",
       " ['https://www.politifact.com/truth-o-meter/statements/2015/nov/12/donald-trump/trump-says-china-will-take-advantage-trans-pacific/',\n",
       "  'The Trans-Pacific Partnership \"was designed for China to come in, as they always do, through the back door and totally take advantage of everyone.\"',\n",
       "  'PANTS ON FIRE /'],\n",
       " ['https://www.politifact.com/truth-o-meter/statements/2015/nov/17/viral-image/viral-graphic-says-japan-keeps-out-radical-islam-t/',\n",
       "  'In Japan, \"permanent residency is not given to Muslims,\" the \"propagation of Islam\" is banned, \"one cannot import a Koran published in the Arabic language,\" and \"Muslims cannot even rent a house.\"',\n",
       "  'PANTS ON FIRE /'],\n",
       " ['https://www.politifact.com/truth-o-meter/statements/2015/nov/23/donald-trump/trump-tweet-blacks-white-homicide-victims/',\n",
       "  'Says crime statistics show blacks kill 81 percent of white homicide victims.',\n",
       "  'PANTS ON FIRE /'],\n",
       " ['https://www.politifact.com/truth-o-meter/statements/2016/aug/01/hillary-clinton/hillary-clintons-wrong-claim-fbi-director-comey-ca/',\n",
       "  'Says, regarding the presence of classified information in her email, FBI Director James \"Comey said my answers were truthful, and what I\\'ve said is consistent with what I have told the American people.\"',\n",
       "  'PANTS ON FIRE /'],\n",
       " ['https://www.politifact.com/truth-o-meter/statements/2016/aug/05/donald-trump/donald-trump-wrongly-says-hillary-clinton-wants-ra/',\n",
       "  '\"Hillary Clinton says she wants to, raise taxes on the middle class.\\' \"',\n",
       "  'PANTS ON FIRE /'],\n",
       " ['https://www.politifact.com/truth-o-meter/statements/2016/aug/15/donald-trump/donald-trumps-baseless-claims-about-election-being/',\n",
       "  'Says the U.S. election system is \"rigged.\"',\n",
       "  'PANTS ON FIRE /'],\n",
       " ['https://www.politifact.com/truth-o-meter/statements/2016/feb/11/donald-trump/donald-trump-repeats-pants-fire-claim-unemployment/',\n",
       "  '\"Don\\'t believe those phony numbers when you hear 4.9 and 5 percent unemployment. The number\\'s probably 28, 29, as high as 35. In fact, I even heard recently 42 percent.\"',\n",
       "  'PANTS ON FIRE /'],\n",
       " ['https://www.politifact.com/truth-o-meter/statements/2016/feb/23/donald-trump/donald-trump-cites-dubious-legend-about-gen-pershi/',\n",
       "  'Says that in the Philippines more than a century ago, Gen. John Pershing \"took 50 bullets, and he dipped them in pigs\\' blood,\" and shot 49 Muslim rebels. \"The 50th person, he said, You go back to your people, and you tell them what happened.\\' And for 25 years, there wasn\\'t a problem.\"',\n",
       "  'PANTS ON FIRE /'],\n",
       " ['https://www.politifact.com/truth-o-meter/statements/2016/feb/25/donald-trump/donald-trumps-pants-fire-claim-he-never-discussed-/',\n",
       "  'Says Ted Cruz \"said I was in favor in Libya. I never discussed that subject.\"',\n",
       "  'PANTS ON FIRE /'],\n",
       " ['https://www.politifact.com/truth-o-meter/statements/2016/jan/04/donald-trump/donald-trumps-first-tv-ad-shows-migrants-southern-/',\n",
       "  'A Trump television ad shows Mexicans swarming over \"our southern border.\"',\n",
       "  'PANTS ON FIRE /'],\n",
       " ['https://www.politifact.com/truth-o-meter/statements/2016/jul/08/viral-image/meme-resurrects-bogus-claim-2014-about-loretta-lyn/',\n",
       "  'Says Attorney General Loretta Lynch \"was a member of Bill Clinton\\'s defense team during the 1992 Whitewater corruption probe.\"',\n",
       "  'PANTS ON FIRE /'],\n",
       " ['https://www.politifact.com/truth-o-meter/statements/2016/mar/02/donald-trump/trumps-absurd-claim-he-knows-nothing-about-former-/',\n",
       "  '\"I don\\'t know anything about David Duke.\"',\n",
       "  'PANTS ON FIRE /'],\n",
       " ['https://www.politifact.com/truth-o-meter/statements/2016/may/02/donald-trump/donald-trump-wrong-hillary-clinton-doesnt-do-very-/',\n",
       "  '\"Frankly, (Hillary Clinton) doesn\\'t do very well with women.\"',\n",
       "  'PANTS ON FIRE /'],\n",
       " ['https://www.politifact.com/truth-o-meter/statements/2016/nov/04/conservative-daily-post/evidence-ridiculously-thin-sensational-claim-huge-/',\n",
       "  '\"FBI confirms evidence of huge underground Clinton sex network.\"',\n",
       "  'PANTS ON FIRE /'],\n",
       " ['https://www.politifact.com/truth-o-meter/statements/2016/nov/14/blog-posting/no-donald-trump-not-beating-hillary-clinton-popula/',\n",
       "  '\"Final election 2016 numbers: Trump won\" the popular vote.',\n",
       "  'PANTS ON FIRE /'],\n",
       " ['https://www.politifact.com/truth-o-meter/statements/2016/nov/17/blog-posting/no-someone-wasnt-paid-3500-protest-donald-trump-it/',\n",
       "  '\"Donald Trump Protester Speaks Out: \\'I Was Paid $3,500 To Protest Trump\\'s Rally.\\' \"',\n",
       "  'PANTS ON FIRE /'],\n",
       " ['https://www.politifact.com/truth-o-meter/statements/2016/nov/28/donald-trump/donald-trumps-pants-fire-claim-millions-illegal-vo/',\n",
       "  'Says he \"won the popular vote if you deduct the millions of people who voted illegally.\"',\n",
       "  'PANTS ON FIRE /'],\n",
       " ['https://www.politifact.com/truth-o-meter/statements/2016/oct/17/donald-trump/donald-trumps-pants-fire-claim-large-scale-voter-f/',\n",
       "  '\"Of course, there is large scale voter fraud happening on and before election day.\"',\n",
       "  'PANTS ON FIRE /'],\n",
       " ['https://www.politifact.com/truth-o-meter/statements/2016/oct/20/donald-trump/trump-wrongly-says-6-billion-went-missing-state-de/',\n",
       "  'When Hillary Clinton \"ran the State Department, $6 billion was missing. How do you miss $6 billion? You ran the State Department, $6 billion was either stolen they don\\'t know.\"',\n",
       "  'PANTS ON FIRE /'],\n",
       " ['https://www.politifact.com/truth-o-meter/statements/2016/oct/31/sean-duffy/wisconsin-congressman-fuels-soros-voting-machine-r/',\n",
       "  '\"One of George Soros\\' companies has provided some of the (voting) machines\" for some states.',\n",
       "  'PANTS ON FIRE /'],\n",
       " ['https://www.politifact.com/truth-o-meter/statements/2016/sep/09/occupy-democrats/facts-take-vacation-occupy-democrats-claim-about-p/',\n",
       "  'Says President Barack Obama \"has taken less vacation days than any other president in a generation,\" while Congress \"has taken more vacation days than any other Congress in history.\"',\n",
       "  'PANTS ON FIRE /'],\n",
       " ['https://www.politifact.com/truth-o-meter/statements/2017/apr/12/donald-trump/did-he-or-didnt-he-trump-contradicts-himself-wheth/',\n",
       "  'Before the presidential campaign, \"I didn\\'t know Steve (Bannon).\"',\n",
       "  'PANTS ON FIRE /'],\n",
       " ['https://www.politifact.com/truth-o-meter/statements/2017/aug/10/sebastian-gorka/no-obama-administration-didnt-invent-term-lone-wol/',\n",
       "  '\"There\\'s no such thing as a lone wolf. ... That was a phrase invented by the last administration to make Americans stupid.\"',\n",
       "  'PANTS ON FIRE /'],\n",
       " ['https://www.politifact.com/truth-o-meter/statements/2017/aug/16/roy-moore/alabamas-roy-moore-says-whole-communities-midwest-/',\n",
       "  '\"There are communities under Sharia law right now in our country. Up in Illinois. ... There\\'s Sharia law, as I understand it, in Illinois, Indiana -- up there. I don\\'t know.\"',\n",
       "  'PANTS ON FIRE /'],\n",
       " ['https://www.politifact.com/truth-o-meter/statements/2017/aug/17/donald-trump/donald-trump-retells-pants-fire-claim-about-gen-pe/',\n",
       "  '\"Study what General Pershing of the United States did to terrorists when caught. There was no more Radical Islamic Terror for 35 years!\"',\n",
       "  'PANTS ON FIRE /'],\n",
       " ['https://www.politifact.com/truth-o-meter/statements/2017/feb/12/stephen-miller/white-house-senior-adviser-repeats-baseless-claim-/',\n",
       "  '\"This issue of busing voters in to New Hampshire is widely known by anyone who\\'s worked in New Hampshire politics. It\\'s very real, it\\'s very serious.\"',\n",
       "  'PANTS ON FIRE /'],\n",
       " ['https://www.politifact.com/truth-o-meter/statements/2017/jan/17/john-lewis/john-lewis-wrong-whether-he-skipped-inauguration-d/',\n",
       "  'The inauguration of Donald Trump \"will be the first one that I miss since I\\'ve been in Congress.\"',\n",
       "  'PANTS ON FIRE /'],\n",
       " ['https://www.politifact.com/truth-o-meter/statements/2017/jan/21/sean-spicer/trump-had-biggest-inaugural-crowd-ever-metrics-don/',\n",
       "  '\"That was the largest audience to witness an inauguration, period.\"',\n",
       "  'PANTS ON FIRE /'],\n",
       " ['https://www.politifact.com/truth-o-meter/statements/2017/jan/25/blog-posting/pants-fire-george-soros-money-womens-march-protest/',\n",
       "  'Say George Soros\\'s money \"went straight into the (Women\\'s March) protesters\\' pockets.\"',\n",
       "  'PANTS ON FIRE /'],\n",
       " ['https://www.politifact.com/truth-o-meter/statements/2017/jan/27/charles-schumer/chuck-schumer-wrongly-tweets-tillerson-wont-divest/',\n",
       "  'Says Rex \"Tillerson won\\'t divest from Exxon.\"',\n",
       "  'PANTS ON FIRE /'],\n",
       " ['https://www.politifact.com/truth-o-meter/statements/2017/jul/03/donald-trump/trumps-pants-fire-claim-cnn-ratings-are-way-down/',\n",
       "  'CNN\\'s ratings are \"way down.\"',\n",
       "  'PANTS ON FIRE /'],\n",
       " ['https://www.politifact.com/truth-o-meter/statements/2017/jul/26/donald-trump/amazon-no-tax-monopoly-donald-trump-said/',\n",
       "  'Amazon has a \"no-tax monopoly.\"',\n",
       "  'PANTS ON FIRE /'],\n",
       " ['https://www.politifact.com/truth-o-meter/statements/2017/jun/16/infowars/infowars-ridiculous-claim-dems-called-violence/',\n",
       "  'Says Loretta Lynch was part of \"a stunning collection of calls to violence and murder from the intolerant, unhinged leftists in the Democrat party.\"',\n",
       "  'PANTS ON FIRE /'],\n",
       " ['https://www.politifact.com/truth-o-meter/statements/2018/jan/29/donald-trump/trump-gets-polar-ice-trend-backwards/',\n",
       "  '\"The ice caps were going to melt, they were going to be gone by now, but now they\\'re setting records, so okay, they\\'re at a record level.\"',\n",
       "  'PANTS ON FIRE /'],\n",
       " ['https://www.politifact.com/truth-o-meter/statements/2018/mar/23/national-rifle-association/nra-says-violent-radicals-are-behind-march-our-liv/',\n",
       "  '\"March For Our Lives is backed by radicals with a history of violent threats, language and actions.\"',\n",
       "  'PANTS ON FIRE /'],\n",
       " ['https://www.politifact.com/truth-o-meter/statements/2018/mar/28/viral-image/united-states-third-murders-outlier-cities/',\n",
       "  '\"The United States is 3rd in murders throughout the world. If you remove Chicago, Detroit, Washington, St. Louis and New Orleans, the United States is then 189th out of 193 countries in the entire world.\"',\n",
       "  'PANTS ON FIRE /'],\n",
       " ['https://www.politifact.com/wisconsin/statements/2018/jan/05/david-clarke-jr/despite-david-clarkes-tweet-no-evidence-hillary-cl/',\n",
       "  'Says Hillary Clinton once said \"the average Democrat voter is just plain stupid, they\\'re easy to manipulate.\"',\n",
       "  'PANTS ON FIRE /']]"
      ]
     },
     "execution_count": 28,
     "metadata": {},
     "output_type": "execute_result"
    }
   ],
   "source": [
    "[i for i in extracted_data if i[2] in [\"PANTS ON FIRE /\"]]"
   ]
  },
  {
   "cell_type": "code",
   "execution_count": 29,
   "metadata": {},
   "outputs": [
    {
     "data": {
      "text/plain": [
       "[['https://www.politifact.com/california/statements/2016/dec/19/jerry-brown/are-jobs-california-growing-hell-lot-faster-texas/',\n",
       "  '\"California is growing a hell of a lot faster than Texas.\"',\n",
       "  \"POLITIF TRUTH-O - TER'M\"],\n",
       " ['https://www.politifact.com/california/statements/2016/jul/26/kevin-de-leon/does-california-really-have-sixth-largest-economy-/',\n",
       "  'California has \"the sixth largest economy on planet Earth.\"',\n",
       "  \"POLITIF TRUTH-O - TER'M\"],\n",
       " ['https://www.politifact.com/california/statements/2017/aug/03/antonio-villaraigosa/mostly-true-undocumented-immigrants-less-likely-co/',\n",
       "  '\"Undocumented immigrants commit less crimes than the native born.\"',\n",
       "  \"POLITIF TRUTH-O - TER'M\"],\n",
       " ['https://www.politifact.com/california/statements/2017/jun/22/antonio-villaraigosa/does-california-have-6th-largest-economy-world-and/',\n",
       "  'Although California has \"the sixth largest economy in the world, we also have one of the highest poverty rates\" in the nation.',\n",
       "  \"POLITIF TRUTH-O - TER'M\"],\n",
       " ['https://www.politifact.com/california/statements/2018/jan/17/delaine-eastin/does-california-rank-41st-student-spending-no-1-pr/',\n",
       "  'California is 41st in the nation in per pupil K-12 spending, but \"No. 1 in per prisoner\" spending.',\n",
       "  \"POLITIF TRUTH-O - TER'M\"],\n",
       " ['https://www.politifact.com/florida/statements/2014/mar/03/florida-democratic-party/rick-scott-rick-scott-oversaw-largest-medicare-fra/',\n",
       "  'Says Rick Scott \"oversaw the largest Medicare fraud in the nation\\'s history.\"',\n",
       "  \"POLITIF TRUTH-O - TER'M\"],\n",
       " ['https://www.politifact.com/florida/statements/2016/sep/02/patrick-murphy/patrick-murphy-says-marco-rubio-has-worst-attendan/',\n",
       "  '\"Sen. Rubio has the worst vote attendance record of any Florida senator in nearly 50 years.\"',\n",
       "  \"POLITIF TRUTH-O - TER'M\"],\n",
       " ['https://www.politifact.com/florida/statements/2017/mar/15/florida-conference-catholic-bishops/being-united-states-unlawfully-crime/',\n",
       "  '\"Unlawful presence (in the United States) is not a crime.\"',\n",
       "  \"POLITIF TRUTH-O - TER'M\"],\n",
       " ['https://www.politifact.com/florida/statements/2017/mar/29/florida-immigrant-coalition/do-undocumented-immigrants-have-constitutional-rig/',\n",
       "  '\"As an undocumented immigrant, you do have constitutional rights here in the United States.\"',\n",
       "  \"POLITIF TRUTH-O - TER'M\"],\n",
       " ['https://www.politifact.com/florida/statements/2018/feb/15/corey-lewandowski/have-democrats-gained-50-seats-formerly-held-repub/',\n",
       "  '\"Fifty seats have already changed hands from the Republicans to the Democrats since Donald Trump was elected.\"',\n",
       "  \"POLITIF TRUTH-O - TER'M\"],\n",
       " ['https://www.politifact.com/global-news/statements/2016/oct/07/oxfam-america/oxfam-worlds-62-richest-own-much-poorest-36-billio/',\n",
       "  '\"The world\\'s 62 richest people own the same wealth as the 3.6 billion poorest.\"',\n",
       "  \"POLITIF TRUTH-O - TER'M\"],\n",
       " ['https://www.politifact.com/global-news/statements/2016/oct/16/mike-pence/did-qatar-promise-clinton-foundation-1-million-fiv/',\n",
       "  '\"In exchange for five minutes with Bill Clinton, the government of Qatar was going to give $1 million to the Clinton Foundation.\"',\n",
       "  \"POLITIF TRUTH-O - TER'M\"],\n",
       " ['https://www.politifact.com/global-news/statements/2017/feb/17/bob-corker/are-27-million-people-trapped-modern-slavery/',\n",
       "  '\"Today, 27 million people .. are enslaved.\"',\n",
       "  \"POLITIF TRUTH-O - TER'M\"],\n",
       " ['https://www.politifact.com/illinois/statements/2017/mar/16/peter-roskam/rep-roskam-gdp-growth-obama/',\n",
       "  '\"The past (Obama) administration was the first administration that never had a whole year of 3 percent growth.\"',\n",
       "  \"POLITIF TRUTH-O - TER'M\"],\n",
       " ['https://www.politifact.com/new-york/statements/2016/sep/16/bob-duffy/upstate-economy-one-worst-country/',\n",
       "  'If upstate New York split from downstate \"the economic indicators of upstate New York would be among the lowest in the country.\"',\n",
       "  \"POLITIF TRUTH-O - TER'M\"],\n",
       " ['https://www.politifact.com/north-carolina/statements/2016/apr/01/chris-sgro/equality-nc-director-no-public-safety-risks-cities/',\n",
       "  '\"There have not been any public safety issues\" in cities that allow transgender people to use the bathroom of the gender they identify as.',\n",
       "  \"POLITIF TRUTH-O - TER'M\"],\n",
       " ['https://www.politifact.com/north-carolina/statements/2016/jul/08/donald-trump/donald-trump-set-record-most-gop-primary-votes-eve/',\n",
       "  '\"We got the highest vote count in the history of the Republican Party.\"',\n",
       "  \"POLITIF TRUTH-O - TER'M\"],\n",
       " ['https://www.politifact.com/punditfact/statements/2013/dec/19/steven-rattner/it-easier-obtain-american-dream-europe/',\n",
       "  'The United States is \"behind many countries in Europe in terms of the ability of every kid in America to get ahead.\"',\n",
       "  \"POLITIF TRUTH-O - TER'M\"],\n",
       " ['https://www.politifact.com/punditfact/statements/2014/sep/09/eric-bolling/does-us-have-highest-corporate-tax-rate-free-world/',\n",
       "  'The United States has \"the highest corporate tax rate in the free world.\"',\n",
       "  \"POLITIF TRUTH-O - TER'M\"],\n",
       " ['https://www.politifact.com/punditfact/statements/2015/aug/12/george-will/george-will-reminds-readers-about-bernie-sanders-u/',\n",
       "  'Says Bernie Sanders chose \"to spend his honeymoon in the Soviet Union in 1988.\"',\n",
       "  \"POLITIF TRUTH-O - TER'M\"],\n",
       " ['https://www.politifact.com/punditfact/statements/2015/mar/15/jalen-ross/black-name-resume-50-percent-less-likely-get-respo/',\n",
       "  '\"Every day, a black name resume is 50 percent less likely to get responded to than a white name resume.\"',\n",
       "  \"POLITIF TRUTH-O - TER'M\"],\n",
       " ['https://www.politifact.com/punditfact/statements/2016/jul/13/van-jones/van-jones-claim-drug-use-imprisonment-rates-blacks/',\n",
       "  'African-Americans don\\'t use drugs at a higher level than whites but \"wind up going to prison six times more.\"',\n",
       "  \"POLITIF TRUTH-O - TER'M\"],\n",
       " ['https://www.politifact.com/punditfact/statements/2017/oct/06/newsweek/are-white-males-responsible-more-mass-shootings-an/',\n",
       "  '\"White men have committed more mass shootings than any other group.\"',\n",
       "  \"POLITIF TRUTH-O - TER'M\"],\n",
       " ['https://www.politifact.com/texas/statements/2016/sep/15/greg-abbott/greg-abbott-says-if-texas-were-country-its-economy/',\n",
       "  '\"If Texas were a country our economy would rank # 10...in the WORLD.\"',\n",
       "  \"POLITIF TRUTH-O - TER'M\"],\n",
       " ['https://www.politifact.com/texas/statements/2017/oct/13/colin-jost/colin-jost-weekend-update-texas-dildos-law-6-own-m/',\n",
       "  '\"There is a real law in Texas that says it\\'s illegal to own more than six dildos.\"',\n",
       "  \"POLITIF TRUTH-O - TER'M\"],\n",
       " ['https://www.politifact.com/texas/statements/2018/apr/26/steve-adler/steve-adler-jeopardy-austin-safety-best-place-live/',\n",
       "  'Says Austin is the \"safest big city in Texas with an unemployment rate under 3% that has been named the best place to live in the entire United States two years running.\"',\n",
       "  \"POLITIF TRUTH-O - TER'M\"],\n",
       " ['https://www.politifact.com/truth-o-meter/statements/2012/jul/23/facebook-posts/do-people-get-shot-every-year-facebook-post-says/',\n",
       "  '\"Nearly 100,000 people get shot every year. That\\'s 270 people a day and 87 dead.\"',\n",
       "  \"POLITIF TRUTH-O - TER'M\"],\n",
       " ['https://www.politifact.com/truth-o-meter/statements/2012/sep/07/barack-obama/barack-obama-said-hes-cut-taxes-middle-class-famil/',\n",
       "  '\"I\\'ve cut taxes for ... middle-class families, small businesses.\"',\n",
       "  \"POLITIF TRUTH-O - TER'M\"],\n",
       " ['https://www.politifact.com/truth-o-meter/statements/2014/jul/29/facebook-posts/are-97-nations-100-poorest-counties-red-states/',\n",
       "  '\"97 percent of the 100 poorest counties in America are in red states.\"',\n",
       "  \"POLITIF TRUTH-O - TER'M\"],\n",
       " ['https://www.politifact.com/truth-o-meter/statements/2014/may/12/john-garamendi/prior-benghazi-were-there-13-attacks-embassies-and/',\n",
       "  '\"During the George W. Bush period, there were 13 attacks on various embassies and consulates around the world. Sixty people died.\"',\n",
       "  \"POLITIF TRUTH-O - TER'M\"],\n",
       " ['https://www.politifact.com/truth-o-meter/statements/2015/aug/19/bill-clinton/bill-clinton-glass-steagall-had-nothing-do-financi/',\n",
       "  '\"There\\'s not a single, solitary example that\" signing the bill to end Glass-Steagall \"had anything to do with the financial crash.\"',\n",
       "  \"POLITIF TRUTH-O - TER'M\"],\n",
       " ['https://www.politifact.com/truth-o-meter/statements/2015/dec/22/hillary-clinton/hillary-clinton-says-bernie-sanders-voted-get-rid-/',\n",
       "  'Says Bernie Sanders \"voted for regime change with respect to Libya.\"',\n",
       "  \"POLITIF TRUTH-O - TER'M\"],\n",
       " ['https://www.politifact.com/truth-o-meter/statements/2015/jan/20/barack-obama/barack-obama-claims-deficit-has-decreased-two-thir/',\n",
       "  'We\\'ve seen \"our deficits cut by two-thirds.\"',\n",
       "  \"POLITIF TRUTH-O - TER'M\"],\n",
       " ['https://www.politifact.com/truth-o-meter/statements/2015/jul/10/generation-forward-pac/did-bernie-sanders-vote-against-background-checks-/',\n",
       "  '\"Bernie Sanders voted against the Brady Bill -- background checks and waiting periods.\"',\n",
       "  \"POLITIF TRUTH-O - TER'M\"],\n",
       " ['https://www.politifact.com/truth-o-meter/statements/2015/jul/13/bernie-s/bernie-sanders-says-real-unemployment-rate-african/',\n",
       "  'For African-Americans between the ages of 17 and 20, \"the real unemployment rate is 51 percent.\"',\n",
       "  \"POLITIF TRUTH-O - TER'M\"],\n",
       " ['https://www.politifact.com/truth-o-meter/statements/2015/oct/05/viral-image/fact-checking-comparison-gun-deaths-and-terrorism-/',\n",
       "  'Number of Americans killed by terrorism in the last decade: 24. Number of Americans killed by guns in the last decade: 280,024.',\n",
       "  \"POLITIF TRUTH-O - TER'M\"],\n",
       " ['https://www.politifact.com/truth-o-meter/statements/2015/oct/12/hillary-clinton/clinton-there-have-been-7-benghazi-probes-so-far/',\n",
       "  '\"There have been seven investigations (of Benghazi) led mostly by Republicans in the Congress\" that concluded \"nobody did anything wrong, but there were changes we could make.\"',\n",
       "  \"POLITIF TRUTH-O - TER'M\"],\n",
       " ['https://www.politifact.com/truth-o-meter/statements/2015/sep/21/carly-fiorina/trumps-four-bankruptcies/',\n",
       "  'Says Donald Trump was \"forced to file for bankruptcy not once, not twice, four times.\"',\n",
       "  \"POLITIF TRUTH-O - TER'M\"],\n",
       " ['https://www.politifact.com/truth-o-meter/statements/2015/sep/22/hillary-clinton/hillary-clinton-recessions-more-frequent-under-rep/',\n",
       "  '\"Under Republicans, recessions happen four times as frequently as under Democrats.\"',\n",
       "  \"POLITIF TRUTH-O - TER'M\"],\n",
       " ['https://www.politifact.com/truth-o-meter/statements/2016/apr/05/hillary-clinton/does-clinton-really-have-25-million-more-votes-san/',\n",
       "  '\"I have 2 and a half million more votes than he (Sanders) does.\"',\n",
       "  \"POLITIF TRUTH-O - TER'M\"],\n",
       " ['https://www.politifact.com/truth-o-meter/statements/2016/apr/13/bernie-s/does-hillary-clinton-support-fracking/',\n",
       "  'Says Hillary Clinton supported and continues to \"support fracking.\"',\n",
       "  \"POLITIF TRUTH-O - TER'M\"],\n",
       " ['https://www.politifact.com/truth-o-meter/statements/2016/aug/28/reince-priebus/did-hillary-clinton-call-african-american-youth-su/',\n",
       "  'Says Hillary Clinton \"is the one that labeled African-American youth as superpredators.\\'\"',\n",
       "  \"POLITIF TRUTH-O - TER'M\"],\n",
       " ['https://www.politifact.com/truth-o-meter/statements/2016/dec/04/mike-pence/mike-pence-says-donald-trump-won-most-counties-rep/',\n",
       "  'Says Donald Trump \"won more counties than any candidate on our side since Ronald Reagan.\"',\n",
       "  \"POLITIF TRUTH-O - TER'M\"],\n",
       " ['https://www.politifact.com/truth-o-meter/statements/2016/dec/14/watch-food-water/did-rex-tillerson-oil-ceo-and-secretary-state-pick/',\n",
       "  'Says Rex Tillerson \"sued to keep a fracking project out of his backyard.\"',\n",
       "  \"POLITIF TRUTH-O - TER'M\"],\n",
       " ['https://www.politifact.com/truth-o-meter/statements/2016/jan/20/bernie-s/bernie-sanders-nra-report-card-d-minus-most-recent/',\n",
       "  '\"I have a D-minus voting record from the NRA.\"',\n",
       "  \"POLITIF TRUTH-O - TER'M\"],\n",
       " ['https://www.politifact.com/truth-o-meter/statements/2016/jan/24/bernie-s/yes-donald-trump-really-did-tweet-climate-change-h/',\n",
       "  'Says Donald Trump \"thinks that climate change is a hoax, invented by the Chinese.\"',\n",
       "  \"POLITIF TRUTH-O - TER'M\"],\n",
       " ['https://www.politifact.com/truth-o-meter/statements/2016/jul/07/donald-trump/donald-trump-isnt-winging-it-complaint-about-air-f/',\n",
       "  '\"Taxpayers are paying a fortune for the use of Air Force One on the campaign trail\" by President Barack Obama and Hillary Clinton.',\n",
       "  \"POLITIF TRUTH-O - TER'M\"],\n",
       " ['https://www.politifact.com/truth-o-meter/statements/2016/jul/26/bernie-s/sanders-trump-would-allow-states-lower-minimum-wag/',\n",
       "  'Says Donald Trump \"believes that states should actually have the right to lower the minimum wage below $7.25.\"',\n",
       "  \"POLITIF TRUTH-O - TER'M\"],\n",
       " ['https://www.politifact.com/truth-o-meter/statements/2016/oct/10/donald-trump/trump-claims-us-has-biggest-increase-murders-45-ye/',\n",
       "  '\"We have an increase in murder within our cities, the biggest in 45 years.\"',\n",
       "  \"POLITIF TRUTH-O - TER'M\"],\n",
       " ['https://www.politifact.com/truth-o-meter/statements/2016/oct/30/robby-mook/clinton-campaign-says-comey-letter-violates-justic/',\n",
       "  '\"There are Justice Department policies against\" FBI Director James Comey discussing details of a federal investigation \"so close to an election.\"',\n",
       "  \"POLITIF TRUTH-O - TER'M\"],\n",
       " ['https://www.politifact.com/truth-o-meter/statements/2016/oct/31/donald-trump/trumps-claim-about-weak-economic-growth-under-obam/',\n",
       "  'Says Barack Obama \"is the first president in modern history not to have a single year of 3 percent growth.\"',\n",
       "  \"POLITIF TRUTH-O - TER'M\"],\n",
       " ['https://www.politifact.com/truth-o-meter/statements/2016/sep/07/hillary-clinton/clinton-says-none-her-emails-were-labeled-top-secr/',\n",
       "  '\"Classified material has a header which says top-secret, secret, confidential.\\' Nothing, and I will repeat this and this is verified in the report by the Department of Justice, none of the emails sent or received by me had such a header.\"',\n",
       "  \"POLITIF TRUTH-O - TER'M\"],\n",
       " ['https://www.politifact.com/truth-o-meter/statements/2017/apr/26/center-american-progress/true-trumps-cabinet-more-white-and-more-male-any-f/',\n",
       "  '\"Trump\\'s Cabinet is more white and more male than any first Cabinet since President Ronald Reagan\\'s.\"',\n",
       "  \"POLITIF TRUTH-O - TER'M\"],\n",
       " ['https://www.politifact.com/truth-o-meter/statements/2017/apr/27/sean-spicer/trump-has-signed-more-bills-100-days-any-president/',\n",
       "  'Trump has \"worked with Congress to pass more legislation in his first 100 days than any president since Truman.\"',\n",
       "  \"POLITIF TRUTH-O - TER'M\"],\n",
       " ['https://www.politifact.com/truth-o-meter/statements/2017/feb/16/donald-trump/trump-hints-stock-market-record-high-linked-presid/',\n",
       "  '\"The stock market has hit record numbers, as you know. And there has been a tremendous surge of optimism in the business world.\"',\n",
       "  \"POLITIF TRUTH-O - TER'M\"],\n",
       " ['https://www.politifact.com/truth-o-meter/statements/2017/jan/11/donald-trump/trump-says-russians-were-unable-hack-republican-na/',\n",
       "  'The Russians \"tried to hack the Republican National Committee, and they were unable to break through.\"',\n",
       "  \"POLITIF TRUTH-O - TER'M\"],\n",
       " ['https://www.politifact.com/truth-o-meter/statements/2017/jul/25/donald-trump/donald-trump-right-us-just-had-best-jobs-report-16/',\n",
       "  '\"We had the best jobs report in 16 years.\"',\n",
       "  \"POLITIF TRUTH-O - TER'M\"],\n",
       " ['https://www.politifact.com/truth-o-meter/statements/2017/jul/26/ted-lieu/thousands-transgender-americans-serve-military-con/',\n",
       "  '\"You\\'ve got thousands of people serving in the military who are transgender.\"',\n",
       "  \"POLITIF TRUTH-O - TER'M\"],\n",
       " ['https://www.politifact.com/truth-o-meter/statements/2017/jun/27/bernie-s/bernie-sanders-projection-thousands-added-deaths-g/',\n",
       "  '\"When you throw 23 million people off of health insurance -- people with cancer, people with heart disease, people with diabetes -- thousands of people will die. This is study after study making this point.\"',\n",
       "  \"POLITIF TRUTH-O - TER'M\"],\n",
       " ['https://www.politifact.com/truth-o-meter/statements/2017/mar/10/tom-price/hhs-chief-tom-price-correct-er-use-obamacare/',\n",
       "  'The Obama administration said \"they were going to be able to drive folks away from one of the most expensive areas for the provision of health care, and that is the emergency rooms. In fact, they did just the opposite.\"',\n",
       "  \"POLITIF TRUTH-O - TER'M\"],\n",
       " ['https://www.politifact.com/truth-o-meter/statements/2017/mar/22/donald-trump/trump-says-illegal-immigration-down-61-percent-ele/',\n",
       "  '\"Since the day of my election, we\\'ve already cut illegal immigration at the southern border by 61 percent.\"',\n",
       "  \"POLITIF TRUTH-O - TER'M\"],\n",
       " ['https://www.politifact.com/truth-o-meter/statements/2017/nov/13/kayleigh-mcenany/trump-raised-more-dollars-small-donations/',\n",
       "  '\"Underreported fact: President @realDonaldTrump raised more in small dollar donations than Obama in 2012 and than Clinton and Bernie combined!\"',\n",
       "  \"POLITIF TRUTH-O - TER'M\"],\n",
       " ['https://www.politifact.com/truth-o-meter/statements/2017/oct/06/national-rifle-association/nra-claim-obama-approved-bump-stocks/',\n",
       "  '\"The Obama administration approved the sale of bump fire stocks on at least two occasions.\"',\n",
       "  \"POLITIF TRUTH-O - TER'M\"],\n",
       " ['https://www.politifact.com/truth-o-meter/statements/2018/mar/08/angus-king/does-much-steel-does-us-import-china/',\n",
       "  '\"China, my understanding is, supplies 4 percent of the steel in the U.S.\"',\n",
       "  \"POLITIF TRUTH-O - TER'M\"],\n",
       " ['https://www.politifact.com/truth-o-meter/statements/2018/mar/14/blog-posting/hannitys-double-standard-north-korea-trump-and-oba/',\n",
       "  'Say Sean Hannity said in 2008 that Obama\\'s willingness to meet with North Korea was \"disturbing\" while Trump\\'s \"willingness to meet with North Korea is a huge foreign policy win.\"',\n",
       "  \"POLITIF TRUTH-O - TER'M\"],\n",
       " ['https://www.politifact.com/wisconsin/statements/2015/oct/08/sean-duffy/planned-parenthood-spends-millions-elect-democrats/',\n",
       "  '\"Millions of dollars are spent by Planned Parenthood to elect Democrats to the House of Representatives and the Senate.\"',\n",
       "  \"POLITIF TRUTH-O - TER'M\"],\n",
       " ['https://www.politifact.com/wisconsin/statements/2016/aug/10/david-canon/professor-house-speaker-paul-ryan-has-only-propose/',\n",
       "  '\"(Paul Ryan) has actually proposed three total, three bills that have become law in his entire career dating back to 1999.\"',\n",
       "  \"POLITIF TRUTH-O - TER'M\"],\n",
       " ['https://www.politifact.com/wisconsin/statements/2016/dec/15/donald-trump/pledging-cuts-donald-trump-says-wisconsin-rally-us/',\n",
       "  'America\\'s federal business tax rate is the highest \"in the world.\"',\n",
       "  \"POLITIF TRUTH-O - TER'M\"],\n",
       " ['https://www.politifact.com/wisconsin/statements/2017/apr/19/donald-trump/manufacturing-heavy-wisconsin-donald-trump-links-c/',\n",
       "  '\"We\\'ve lost 70,000 factories since China joined the World Trade Organization.\"',\n",
       "  \"POLITIF TRUTH-O - TER'M\"],\n",
       " ['https://www.politifact.com/wisconsin/statements/2017/apr/27/mike-crute/despite-losing-nomination-hillary-clinton-bernie-s/',\n",
       "  'Says Bernie Sanders \"is the most popular politician in America today.\"',\n",
       "  \"POLITIF TRUTH-O - TER'M\"],\n",
       " ['https://www.politifact.com/wisconsin/statements/2017/apr/28/mark-pocan/congress-democrats-have-women-and-minorities-repub/',\n",
       "  'In Congress, \"on the Democratic side of the room, you\\'ve got men and women of all different races; on the other side, you\\'ve got a bunch of white men in dark suits, all over 55 or so.\"',\n",
       "  \"POLITIF TRUTH-O - TER'M\"],\n",
       " ['https://www.politifact.com/wisconsin/statements/2017/feb/03/paul-ryan/testing-paul-ryan-claim-obamacare-premium-increase/',\n",
       "  'Obamacare is \"hurting people right now\" with premium increases of up to 116 percent.',\n",
       "  \"POLITIF TRUTH-O - TER'M\"]]"
      ]
     },
     "execution_count": 29,
     "metadata": {},
     "output_type": "execute_result"
    }
   ],
   "source": [
    "[i for i in extracted_data if i[2] in [\"POLITIF TRUTH-O - TER'M\"]]"
   ]
  },
  {
   "cell_type": "code",
   "execution_count": 30,
   "metadata": {},
   "outputs": [
    {
     "data": {
      "text/plain": [
       "[['https://www.politifact.com/arizona/statements/2016/jul/11/donald-trump/did-hillary-clinton-take-money-countries-treat-wom/',\n",
       "  'Says Hillary Clinton has been given tens of millions of dollars by countries that \"treat women horribly ... and countries that kill gays.\"',\n",
       "  'TRUE POLI ACT TRUTH - - METERM'],\n",
       " ['https://www.politifact.com/arizona/statements/2016/oct/06/campaign-regulate-marijuana-alcohol/has-colorado-teen-pot-use-not-increased-legalizati/',\n",
       "  'Says marijuana use among Colorado high school students \"has not increased since legalization.\"',\n",
       "  'TRUE POLI ACT TRUTH - - METERM'],\n",
       " ['https://www.politifact.com/california/statements/2016/dec/02/gavin-newsom/pences-support-conversion-therapy-not-settled-matt/',\n",
       "  'Says Indiana Gov. Mike Pence \"advocated diverting taxpayer dollars to so-called conversion therapy.\"',\n",
       "  'TRUE POLI ACT TRUTH - - METERM'],\n",
       " ['https://www.politifact.com/florida/statements/2015/jun/23/jeb-bush/did-hillary-clinton-have-her-name-only-three-laws-/',\n",
       "  'As a senator, Hillary Clinton \"has her name on three laws in eight years.\"',\n",
       "  'TRUE POLI ACT TRUTH - - METERM'],\n",
       " ['https://www.politifact.com/florida/statements/2015/mar/24/seaworld/seaworld-says-their-whales-live-long-wild-whales-d/',\n",
       "  '\"Whales live as long at SeaWorld\" as they do in the wild.',\n",
       "  'TRUE POLI ACT TRUTH - - METERM'],\n",
       " ['https://www.politifact.com/florida/statements/2015/oct/09/matt-gaetz/violent-crime-lower-states-open-carry/',\n",
       "  '\"In the states that allow open carry, violent crime was 23 percent lower.\"',\n",
       "  'TRUE POLI ACT TRUTH - - METERM'],\n",
       " ['https://www.politifact.com/florida/statements/2016/aug/22/donald-trump/donald-trump-says-hillary-clinton-wants-let-crimin/',\n",
       "  'Under Hillary Clinton\\'s plan \"illegal immigrants convicted of committing crimes get to stay.\"',\n",
       "  'TRUE POLI ACT TRUTH - - METERM'],\n",
       " ['https://www.politifact.com/florida/statements/2016/oct/26/patrick-murphy/patrick-murphy-says-his-family-never-did-business-/',\n",
       "  '\"We have never done business with Donald Trump.\"',\n",
       "  'TRUE POLI ACT TRUTH - - METERM'],\n",
       " ['https://www.politifact.com/florida/statements/2016/sep/30/vote-no-2/amendment-2-would-bring-kid-friendly-pot-candy-flo/',\n",
       "  '\"Amendment 2 will bring kid-friendly pot candy to Florida.\"',\n",
       "  'TRUE POLI ACT TRUTH - - METERM'],\n",
       " ['https://www.politifact.com/florida/statements/2017/feb/21/richard-corcoran/do-most-mass-shootings-happen-gun-free-zones/',\n",
       "  '\"Most of these mass shootings take place in (areas) where you\\'re not allowed to have a concealed weapons permit.\"',\n",
       "  'TRUE POLI ACT TRUTH - - METERM'],\n",
       " ['https://www.politifact.com/florida/statements/2017/may/04/florida-democratic-party/did-bankrupt-trump-golf-course-puerto-rico-leave-t/',\n",
       "  'Donald Trump\\'s \"golf course on the island defaulted, like so many of his other failed business schemes. The failure left Puerto Rican taxpayers with a nearly $33 million bill.\"',\n",
       "  'TRUE POLI ACT TRUTH - - METERM'],\n",
       " ['https://www.politifact.com/georgia/statements/2017/apr/03/jon-ossoff/jon-ossoff-national-security-background/',\n",
       "  '\"I\\'ve got five years of experience as a national security staffer in the U.S. Congress.\"',\n",
       "  'TRUE POLI ACT TRUTH - - METERM'],\n",
       " ['https://www.politifact.com/georgia/statements/2017/jun/06/karen-handel/Handel-pushes-details-Iran-deal-terror-support/',\n",
       "  '\"Nearly $2 billion in cash was flown over to Iran, money that the Obama administration has admitted is being used for terrorists and to support further activities there.\"',\n",
       "  'TRUE POLI ACT TRUTH - - METERM'],\n",
       " ['https://www.politifact.com/georgia/statements/2018/jan/24/stacey-abrams/georgia-governors-race-hope-scholarship-abrams/',\n",
       "  'Says under her leadership, \"Democrats fought to ... make sure the (2011 HOPE) bill ... prevented the use of ACT/SAT testing standards.\"',\n",
       "  'TRUE POLI ACT TRUTH - - METERM'],\n",
       " ['https://www.politifact.com/global-news/statements/2016/apr/21/lee-camp/did-hillary-clintons-state-department-help-suppres/',\n",
       "  '\"In 2009 Hillary Clinton was at the State Department working with U.S. corporations to pressure Haiti not to raise the minimum wage to 61 cents an hour from 24 cents.\"',\n",
       "  'TRUE POLI ACT TRUTH - - METERM'],\n",
       " ['https://www.politifact.com/new-york/statements/2016/aug/05/rudy-giuliani/no-one-writing-iran-check-under-nuclear-deal/',\n",
       "  'The Iran nuclear deal is \"putting billions of dollars back into a country that\\'s the world\\'s largest supporter of terrorism. We are actually giving them the money to fund the terrorists that are killing us and our allies.\"',\n",
       "  'TRUE POLI ACT TRUTH - - METERM'],\n",
       " ['https://www.politifact.com/new-york/statements/2017/aug/18/andrew-cuomo/yes-one-three-us-adults-have-criminal-record/',\n",
       "  '\"70 million Americans have a criminal record that\\'s one in three adults.\"',\n",
       "  'TRUE POLI ACT TRUTH - - METERM'],\n",
       " ['https://www.politifact.com/new-york/statements/2017/dec/22/kirsten-gillibrand/will-republican-tax-law-raise-middle-class-taxes/',\n",
       "  '\"The truth is this tax [plan] raises middle-class taxes.\"',\n",
       "  'TRUE POLI ACT TRUTH - - METERM'],\n",
       " ['https://www.politifact.com/north-carolina/statements/2017/feb/28/tim-moore/north-carolina-republican-leader-claims-credit-nat/',\n",
       "  '\"North Carolina\\'s teacher income is rising faster than any other state.\"',\n",
       "  'TRUE POLI ACT TRUTH - - METERM'],\n",
       " ['https://www.politifact.com/punditfact/statements/2016/may/05/george-clooney/george-clooney-decries-big-money-politics-says-mos/',\n",
       "  '\"The overwhelming amount of the money that we\\'re raising is not going to Hillary (Clinton) to run for president. ... It\\'s going to the congressmen and senators to try to take back Congress.\"',\n",
       "  'TRUE POLI ACT TRUTH - - METERM'],\n",
       " ['https://www.politifact.com/texas/statements/2016/sep/28/tom-delay/tom-delay-says-most-illegal-immigrants-draw-welfar/',\n",
       "  'Says most illegal immigrants draw \"welfare benefits, they\\'re sending their kids to school, they\\'re using the public services.\"',\n",
       "  'TRUE POLI ACT TRUTH - - METERM'],\n",
       " ['https://www.politifact.com/texas/statements/2017/jan/06/dan-patrick/half-true-dan-patrick-martin-luther-king-saying-li/',\n",
       "  '\"Martin Luther King said our lives begin to end the day we become silent on things that matter.\"',\n",
       "  'TRUE POLI ACT TRUTH - - METERM'],\n",
       " ['https://www.politifact.com/texas/statements/2017/oct/20/lloyd-doggett/lloyd-doggett-says-80-percent-republican-sought-ta/',\n",
       "  'Says \"80 percent of the tax breaks in\" President Donald Trump\\'s tax-cut \"proposal go to the top 1 percent, that is, people making more than $730,000 a year.\"',\n",
       "  'TRUE POLI ACT TRUTH - - METERM'],\n",
       " ['https://www.politifact.com/texas/statements/2018/apr/02/donald-trump/donald-trump-says-caravans-people-coming-through-m/',\n",
       "  'Says caravans of people are coming to cross the Mexico-U.S. border.',\n",
       "  'TRUE POLI ACT TRUTH - - METERM'],\n",
       " ['https://www.politifact.com/truth-o-meter/statements/2016/apr/10/bernie-s/clinton-voted-virtually-every-trade-agreement-kill/',\n",
       "  'Says Hillary Clinton voted \"for virtually every trade agreement that has cost the workers of this country millions of jobs.\"',\n",
       "  'TRUE POLI ACT TRUTH - - METERM'],\n",
       " ['https://www.politifact.com/truth-o-meter/statements/2016/feb/10/donald-trump/donald-trump-self-funding-his-campaign-sort/',\n",
       "  '\"I\\'m self-funding my own campaign.\"',\n",
       "  'TRUE POLI ACT TRUTH - - METERM'],\n",
       " ['https://www.politifact.com/truth-o-meter/statements/2016/feb/25/marco-rubio/marco-rubio-says-donald-trump-had-pay-1-million-hi/',\n",
       "  'Says Donald Trump hired illegal workers \"from Poland and he had to pay a million dollars or so in a judgment.\"',\n",
       "  'TRUE POLI ACT TRUTH - - METERM'],\n",
       " ['https://www.politifact.com/truth-o-meter/statements/2016/jul/21/donald-trump/donald-trump-says-homicides-are-17-percent-50-bigg/',\n",
       "  '\"Homicides last year increased by 17 percent in America\\'s 50 largest cities. That\\'s the largest increase in 25 years.\"',\n",
       "  'TRUE POLI ACT TRUTH - - METERM'],\n",
       " ['https://www.politifact.com/truth-o-meter/statements/2016/mar/07/hillary-clinton/michigan-hillary-clinton-says-bernie-sanders-was-a/',\n",
       "  'Says Bernie Sanders \"was against the auto bailout\" and \"voted against the money that ended up saving the auto industry.\"',\n",
       "  'TRUE POLI ACT TRUTH - - METERM'],\n",
       " ['https://www.politifact.com/truth-o-meter/statements/2016/nov/03/donald-trump/trump-leaves-out-context-claim-about-immigrants-an/',\n",
       "  '\"Thousands of Americans have been killed by illegal immigrants.\"',\n",
       "  'TRUE POLI ACT TRUTH - - METERM'],\n",
       " ['https://www.politifact.com/truth-o-meter/statements/2016/nov/07/barack-obama/obama-says-republicans-tried-purge-black-democrats/',\n",
       "  'The list of voters that North Carolina Republicans \"tried to purge was two-thirds black and Democratic.\"',\n",
       "  'TRUE POLI ACT TRUTH - - METERM'],\n",
       " ['https://www.politifact.com/truth-o-meter/statements/2016/oct/27/newt-gingrich/gingrich-misleading-call-850000-paid-bill-clinton-/',\n",
       "  'In the Paula Jones case, Bill Clinton paid an \"$850,000 penalty.\"',\n",
       "  'TRUE POLI ACT TRUTH - - METERM'],\n",
       " ['https://www.politifact.com/truth-o-meter/statements/2016/sep/13/william-weld/william-weld-says-76-percent-americans-want-his-th/',\n",
       "  'Says \"76 percent of all voters in the United States say they want Johnson-Weld, by name, in the presidential debates.\"',\n",
       "  'TRUE POLI ACT TRUTH - - METERM'],\n",
       " ['https://www.politifact.com/truth-o-meter/statements/2017/apr/18/center-american-progress-action-fund/how-much-do-donald-trumps-trips-mar-lago-cost/',\n",
       "  '\"A trip to Mar-a-Lago costs taxpayers approximately $3.6 million, according to a Government Accountability Office report.\"',\n",
       "  'TRUE POLI ACT TRUTH - - METERM'],\n",
       " ['https://www.politifact.com/truth-o-meter/statements/2017/apr/23/mick-mulvaney/fact-check-did-top-democrats-vote-border-wall-2006/',\n",
       "  '\"They voted for (a border wall) in 2006. Then-Senator Obama voted for it. Sen. Schumer voted for it. Sen. Clinton voted for it.\"',\n",
       "  'TRUE POLI ACT TRUTH - - METERM'],\n",
       " ['https://www.politifact.com/truth-o-meter/statements/2017/apr/26/donald-trump/has-donald-trump-overseen-gain-500000-jobs-so-far/',\n",
       "  'Says he created \"over 500,000 new jobs -- with a surge in female employment last month.\"',\n",
       "  'TRUE POLI ACT TRUTH - - METERM'],\n",
       " ['https://www.politifact.com/truth-o-meter/statements/2017/dec/15/scott-perry/gop-lawmaker-claims-fbi-purged-training-documents-/',\n",
       "  'Says the Obama administration purged \"training courses and information about Islamism, jihad, Sharia, and the Muslim Brotherhood.\"',\n",
       "  'TRUE POLI ACT TRUTH - - METERM'],\n",
       " ['https://www.politifact.com/truth-o-meter/statements/2017/jan/29/jerrold-nadler/have-there-been-terrorist-attacks-post-911-countri/',\n",
       "  '\"The various people who have, in fact, committed terrorist acts in this country, from 9/11 on, none of them came from any of the seven countries that are the subject of the president\\'s executive order.\"',\n",
       "  'TRUE POLI ACT TRUTH - - METERM'],\n",
       " ['https://www.politifact.com/truth-o-meter/statements/2017/jul/21/mike-pence/did-donald-trump-cut-18-billion-worth-red-tape-mik/',\n",
       "  'Says President Donald Trump \"has signed more laws cutting through federal red tape than any president in American history and has already saved businesses and families up to $18 billion in red tape costs every year.\"',\n",
       "  'TRUE POLI ACT TRUTH - - METERM'],\n",
       " ['https://www.politifact.com/truth-o-meter/statements/2017/jun/28/sean-spicer/sean-spicer-tweets-misleading-obamacare-statistic/',\n",
       "  '\"28.2 million Americans are still waiting under Obamacare and remain uninsured!\"',\n",
       "  'TRUE POLI ACT TRUTH - - METERM'],\n",
       " ['https://www.politifact.com/truth-o-meter/statements/2017/mar/12/mick-mulvaney/fact-checking-white-house-attack-nonpartisan-cbos-/',\n",
       "  '\"If the CBO was right about Obamacare to begin with, there\\'d be 8 million more people on Obamacare today than there actually are. Sometimes we ask them to do stuff that they\\'re not capable of doing.\"',\n",
       "  'TRUE POLI ACT TRUTH - - METERM'],\n",
       " ['https://www.politifact.com/truth-o-meter/statements/2017/mar/16/luis-gutierrez/rep-gutierrez-says-hundreds-republican-amendments-/',\n",
       "  '\"2009-2010, let\\'s remember, hundreds of Republican amendments were adopted in the ACA.\"',\n",
       "  'TRUE POLI ACT TRUTH - - METERM'],\n",
       " ['https://www.politifact.com/truth-o-meter/statements/2017/nov/03/paul-ryan/would-house-gop-tax-plan-save-typical-family-1182/',\n",
       "  '\"With this plan, the typical family of four will save $1,182 a year on their taxes.\"',\n",
       "  'TRUE POLI ACT TRUTH - - METERM'],\n",
       " ['https://www.politifact.com/truth-o-meter/statements/2017/oct/06/charles-schumer/are-republicans-paying-tax-cuts-reductions-medicar/',\n",
       "  '\"The Republicans are proposing to pay for their giant tax cut to the rich by gutting Medicare and Medicaid.\"',\n",
       "  'TRUE POLI ACT TRUTH - - METERM'],\n",
       " ['https://www.politifact.com/truth-o-meter/statements/2017/sep/20/donald-trump/how-strong-job-growth-been-trumps-watch/',\n",
       "  '\"Companies are moving back, creating job growth the likes of which our country has not seen in a very long time.\"',\n",
       "  'TRUE POLI ACT TRUTH - - METERM'],\n",
       " ['https://www.politifact.com/truth-o-meter/statements/2018/apr/27/donald-trump/donald-trump-iran-150-billion-and-18-billion-c/',\n",
       "  'The nuclear deal gave Iran \"$150 billion, giving $1.8 billion in cash in actual cash carried out in barrels and in boxes from airplanes.\"',\n",
       "  'TRUE POLI ACT TRUTH - - METERM'],\n",
       " ['https://www.politifact.com/truth-o-meter/statements/2018/feb/23/everytown-gun-safety/did-nras-lapierre-once-call-gun-free-schools/',\n",
       "  'Says NRA head Wayne LaPierre said, \"We believe in absolutely gun-free, zero-tolerance, totally safe schools. That means no guns in America\\'s schools. Period.\"',\n",
       "  'TRUE POLI ACT TRUTH - - METERM'],\n",
       " ['https://www.politifact.com/truth-o-meter/statements/2018/jan/18/donald-trump/trump-said-chrysler-leaving-mexico-it-isnt/',\n",
       "  '\"Chrysler is leaving Mexico and moving back to Michigan.\"',\n",
       "  'TRUE POLI ACT TRUTH - - METERM'],\n",
       " ['https://www.politifact.com/truth-o-meter/statements/2018/jan/31/donald-trump/donald-trump-inflates-apple-investment/',\n",
       "  '\"Apple has just announced it plans to invest a total of $350 billion in America, and hire another 20,000 workers.\"',\n",
       "  'TRUE POLI ACT TRUTH - - METERM'],\n",
       " ['https://www.politifact.com/wisconsin/statements/2015/apr/20/reince-priebus/hillary-clinton-took-money-kings-four-countries-go/',\n",
       "  'Says Hillary Clinton took \"money from kings of Saudi Arabia and Morocco and Oman and Yemen.\"',\n",
       "  'TRUE POLI ACT TRUTH - - METERM'],\n",
       " ['https://www.politifact.com/wisconsin/statements/2017/apr/13/scott-walker/possible-re-election-run-looms-scott-walker-says-w/',\n",
       "  '\"Wisconsin\\'s economy is in the best shape it\\'s been since 2000.\"',\n",
       "  'TRUE POLI ACT TRUTH - - METERM'],\n",
       " ['https://www.politifact.com/wisconsin/statements/2017/dec/08/paul-ryan/paul-ryans-partially-accurate-claim-house-tax-bill/?hootPostID=f352b071104808990e8308014c0cbef9',\n",
       "  'Under the House Republican tax plan, in Wisconsin, \"the median household of four gets about a $2,000 tax cut, on average.\"',\n",
       "  'TRUE POLI ACT TRUTH - - METERM'],\n",
       " ['https://www.politifact.com/wisconsin/statements/2017/feb/07/reince-priebus/were-7-nations-identified-donald-trumps-travel-ban/',\n",
       "  'The seven nations identified in Donald Trump\\'s travel ban were \"identified by the Obama administration as the seven most dangerous countries in the world in regard to harboring terrorists.\"',\n",
       "  'TRUE POLI ACT TRUTH - - METERM'],\n",
       " ['https://www.politifact.com/wisconsin/statements/2017/jul/26/mark-pocan/how-many-people-military-are-transgender/',\n",
       "  '\"More than 15,000 transgender Americans\" are \"serving in the military today.\"',\n",
       "  'TRUE POLI ACT TRUTH - - METERM']]"
      ]
     },
     "execution_count": 30,
     "metadata": {},
     "output_type": "execute_result"
    }
   ],
   "source": [
    "[i for i in extracted_data if i[2] in ['TRUE POLI ACT TRUTH - - METERM']]\n"
   ]
  },
  {
   "cell_type": "code",
   "execution_count": 31,
   "metadata": {},
   "outputs": [
    {
     "data": {
      "text/plain": [
       "[['https://www.politifact.com/california/statements/2017/apr/28/scott-peters/would-trumps-border-wall-cost-same-one-and-half-us/',\n",
       "  'The estimated price of President Trump\\'s border wall is the same as the cost of \"one and a half aircraft carriers.\"',\n",
       "  \"TRUE POLITIFACT TRUTH-O-METER'M\"],\n",
       " ['https://www.politifact.com/california/statements/2017/feb/28/gavin-newsom/true-campaign-trump-said-states-should-decide-lega/',\n",
       "  'During his campaign for president, Donald Trump \"committed to honoring states\\' rights when it comes to marijuana legalization.\"',\n",
       "  \"TRUE POLITIFACT TRUTH-O-METER'M\"],\n",
       " ['https://www.politifact.com/california/statements/2017/jan/20/chad-mayes/true-california-has-nations-highest-poverty-rate-w/',\n",
       "  'California has \"the highest poverty rate in the nation\" when considering the U.S. Census Bureau\\'s Supplemental Poverty Measure.',\n",
       "  \"TRUE POLITIFACT TRUTH-O-METER'M\"],\n",
       " ['https://www.politifact.com/florida/statements/2017/feb/03/mitch-mcconnell/democrats-didnt-object-neil-gorsuchs-2006-confirma/',\n",
       "  '\"Not a single Democrat opposed Neil Gorsuch\\'s confirmation in 2006.\"',\n",
       "  \"TRUE POLITIFACT TRUTH-O-METER'M\"],\n",
       " ['https://www.politifact.com/georgia/statements/2016/nov/16/various-media-reports/newt-gingrich-has-said-he-favors-using-popular-vot/',\n",
       "  'Newt Gingrich has been a proponent of selecting a president by popular vote instead of the Electoral College.',\n",
       "  \"TRUE POLITIFACT TRUTH-O-METER'M\"],\n",
       " ['https://www.politifact.com/global-news/statements/2016/nov/09/john-kerry/yep-most-people-clueless-us-foreign-aid-spending/',\n",
       "  '\"Surveys show that many of our citizens think we devote a full quarter or even a third of our federal budget to foreign aid.\"',\n",
       "  \"TRUE POLITIFACT TRUTH-O-METER'M\"],\n",
       " ['https://www.politifact.com/illinois/statements/2018/feb/27/nancy-rotering/after-parkland-can-illinois-communities-ban-assaul/',\n",
       "  '\"It\\'s now constitutional to ban [assault weapons] in Illinois. Yet, the Illinois General Assembly has failed to allow other cities to have that opportunity.\"',\n",
       "  \"TRUE POLITIFACT TRUTH-O-METER'M\"],\n",
       " ['https://www.politifact.com/new-york/statements/2017/jan/11/robert-astorino/astorino-has-not-raised-tax-levy-westchester-count/',\n",
       "  '\"I have never once raised the county tax levy -- not for seven straight years.\"',\n",
       "  \"TRUE POLITIFACT TRUTH-O-METER'M\"],\n",
       " ['https://www.politifact.com/north-carolina/statements/2016/jul/08/hillary-clinton/hillary-clinton-donald-trump-wants-get-rid-federal/',\n",
       "  'Says Donald Trump \"wants to get rid of the federal minimum wage.\"',\n",
       "  \"TRUE POLITIFACT TRUTH-O-METER'M\"],\n",
       " ['https://www.politifact.com/ohio/statements/2016/mar/14/rob-portman/most-heroin-us-comes-over-mexican-border/',\n",
       "  '\"We understand that this heroin is primarily coming from Mexico, over the border.\"',\n",
       "  \"TRUE POLITIFACT TRUTH-O-METER'M\"],\n",
       " ['https://www.politifact.com/ohio/statements/2016/sep/21/donald-trump/trump-us-spends-more-almost-any-other-major-countr/',\n",
       "  '\"We spend more per student than almost any other major country in the world.\"',\n",
       "  \"TRUE POLITIFACT TRUTH-O-METER'M\"],\n",
       " ['https://www.politifact.com/punditfact/statements/2014/jan/10/jake-tapper/cnns-tapper-obama-has-used-espionage-act-more-all-/',\n",
       "  '\"The Obama administration has used the Espionage Act to go after whistleblowers who leaked to journalists ... more than all previous administrations combined.\"',\n",
       "  \"TRUE POLITIFACT TRUTH-O-METER'M\"],\n",
       " ['https://www.politifact.com/punditfact/statements/2015/aug/27/nicholas-kristof/more-americans-killed-guns-1968-all-wars-says-colu/',\n",
       "  '\"More Americans have died from guns in the United States since 1968 than on battlefields of all the wars in American history.\"',\n",
       "  \"TRUE POLITIFACT TRUTH-O-METER'M\"],\n",
       " ['https://www.politifact.com/punditfact/statements/2015/sep/29/chuck-todd/nbcs-chuck-todd-bernie-sanders-there-same-sex-marr/',\n",
       "  'Says \"Bernie Sanders was there when it came to (same-sex) marriage 20 years ago. ... He was there when it wasn\\'t popular.\"',\n",
       "  \"TRUE POLITIFACT TRUTH-O-METER'M\"],\n",
       " ['https://www.politifact.com/punditfact/statements/2016/oct/02/maria-teresa-kumar/how-much-do-undocumented-immigrants-pay-taxes/',\n",
       "  '\"Undocumented immigrants pay $12 billion of taxes every single year.\"',\n",
       "  \"TRUE POLITIFACT TRUTH-O-METER'M\"],\n",
       " ['https://www.politifact.com/texas/statements/2016/oct/21/jill-stein/jill-stein-green-party-candidate-correct-about-us-/',\n",
       "  '\"We\\'re already bombing seven countries.\"',\n",
       "  \"TRUE POLITIFACT TRUTH-O-METER'M\"],\n",
       " ['https://www.politifact.com/truth-o-meter/statements/2008/feb/25/barack-obama/clinton-has-changed-on-nafta/',\n",
       "  'Clinton said \"great things about NAFTA until she started running for president.\"',\n",
       "  \"TRUE POLITIFACT TRUTH-O-METER'M\"],\n",
       " ['https://www.politifact.com/truth-o-meter/statements/2012/sep/06/bill-clinton/bill-clinton-says-democratic-presidents-top-republ/',\n",
       "  '\"Since 1961 our private economy has produced 66 million private-sector jobs. So what\\'s the jobs score? Republicans 24 million, Democrats 42 (million).\"',\n",
       "  \"TRUE POLITIFACT TRUTH-O-METER'M\"],\n",
       " ['https://www.politifact.com/truth-o-meter/statements/2015/feb/26/american-crossroads/conservative-group-claims-hillary-clintons-foundat/',\n",
       "  '\"The Clintons\\' foundation took millions from foreign governments\" including United Arab Emirates and Saudi Arabia.',\n",
       "  \"TRUE POLITIFACT TRUTH-O-METER'M\"],\n",
       " ['https://www.politifact.com/truth-o-meter/statements/2016/feb/26/hillary-clinton/hillary-clinton-says-blacks-more-likely-be-arreste/',\n",
       "  '\"African-Americans are more likely to be arrested by police and sentenced to longer prison terms for doing the same thing that whites do.\"',\n",
       "  \"TRUE POLITIFACT TRUTH-O-METER'M\"],\n",
       " ['https://www.politifact.com/truth-o-meter/statements/2016/jan/12/barack-obama/business-has-created-jobs-every-month-obamacare-be/',\n",
       "  '\"Our businesses have created jobs every single month since (Obamacare) became law.\"',\n",
       "  \"TRUE POLITIFACT TRUTH-O-METER'M\"],\n",
       " ['https://www.politifact.com/truth-o-meter/statements/2016/jul/22/donald-trump/donald-trump-correct-lyndon-johnson-passed-legisla/',\n",
       "  '\"An amendment, pushed by Lyndon Johnson many years ago, threatens religious institutions with a loss of their tax-exempt status if they openly advocate their political views.\"',\n",
       "  \"TRUE POLITIFACT TRUTH-O-METER'M\"],\n",
       " ['https://www.politifact.com/truth-o-meter/statements/2016/mar/02/ted-cruz/yes-donald-trump-has-been-linked-mob/',\n",
       "  '\"There have been multiple media reports about (Donald Trump\\'s) business dealings with the mob, with the mafia.\"',\n",
       "  \"TRUE POLITIFACT TRUTH-O-METER'M\"],\n",
       " ['https://www.politifact.com/truth-o-meter/statements/2016/mar/24/bernie-s/bernie-sanders-was-roll-call-amendment-king-1995-2/',\n",
       "  '\"Bernie Sanders passed more roll call amendments in a Republican Congress than any other member.\"',\n",
       "  \"TRUE POLITIFACT TRUTH-O-METER'M\"],\n",
       " ['https://www.politifact.com/truth-o-meter/statements/2016/mar/30/hillary-clinton/evidence-backs-hillary-clinton-claim-torture-count/',\n",
       "  'When it comes to fighting terrorism, \"Another thing we know that does not work, based on lots of empirical evidence, is torture.\"',\n",
       "  \"TRUE POLITIFACT TRUTH-O-METER'M\"],\n",
       " ['https://www.politifact.com/truth-o-meter/statements/2016/nov/01/hillary-clinton/trump-said-he-would-require-schools-allow-guns-cli/',\n",
       "  'Says of Donald Trump, \"He even said, on his very first day in office, he would require every school in America to let people carry guns into our classrooms.\"',\n",
       "  \"TRUE POLITIFACT TRUTH-O-METER'M\"],\n",
       " ['https://www.politifact.com/truth-o-meter/statements/2016/nov/03/hillary-clinton/hillary-clinton-says-donald-trump-wants-undo-marri/',\n",
       "  'Says Donald Trump \"wants to undo marriage equality.\"',\n",
       "  \"TRUE POLITIFACT TRUTH-O-METER'M\"],\n",
       " ['https://www.politifact.com/truth-o-meter/statements/2016/oct/10/hillary-clinton/clinton-said-terrorists-use-trumps-remarks-about-m/',\n",
       "  '\"You can look at the propaganda on a lot of the terrorists\\' sites and what Donald Trump says about Muslims is used to recruit fighters.\"',\n",
       "  \"TRUE POLITIFACT TRUTH-O-METER'M\"],\n",
       " ['https://www.politifact.com/truth-o-meter/statements/2016/oct/19/hillary-clinton/hillary-clinton-blames-russia-putin-wikileaks-rele/',\n",
       "  '\"We have 17 intelligence agencies, civilian and military, who have all concluded that these espionage attacks, these cyberattacks, come from the highest levels of the Kremlin, and they are designed to influence our election.\"',\n",
       "  \"TRUE POLITIFACT TRUTH-O-METER'M\"],\n",
       " ['https://www.politifact.com/truth-o-meter/statements/2016/sep/04/mike-pence/mike-pence-cites-clinton-support-more-syrian-refug/',\n",
       "  'Says Hillary Clinton \"wants to increase Syrian refugees to this country by 550 percent.\"',\n",
       "  \"TRUE POLITIFACT TRUTH-O-METER'M\"],\n",
       " ['https://www.politifact.com/truth-o-meter/statements/2016/sep/27/hillary-clinton/true-hillary-clinton-says-federal-government-sued-/',\n",
       "  'Says Donald Trump \"started his career back in 1973 being sued by the Justice Department for racial discrimination because he would not rent apartments in one of his developments to African-Americans.\"',\n",
       "  \"TRUE POLITIFACT TRUTH-O-METER'M\"],\n",
       " ['https://www.politifact.com/truth-o-meter/statements/2017/feb/02/keith-ellison/rep-keith-ellison-correct-demographic-overview-syr/',\n",
       "  '\"About three-quarters of (Syrian refugees) are women and children. A full third of them are kids under 12 years old.\"',\n",
       "  \"TRUE POLITIFACT TRUTH-O-METER'M\"],\n",
       " ['https://www.politifact.com/truth-o-meter/statements/2017/jun/01/debbie-wasserman-schultz/are-nicaragua-and-syria-only-countries-not-sign-pa/',\n",
       "  '\"Syria and Nicaragua are the only nations that didn\\'t sign the Paris Agreement. Nicaragua said it wasn\\'t tough enough.\"',\n",
       "  \"TRUE POLITIFACT TRUTH-O-METER'M\"],\n",
       " ['https://www.politifact.com/truth-o-meter/statements/2017/mar/13/donald-trump/donald-trump-one-third-counties-have-only-one-insu/',\n",
       "  '\"One-third of the counties think of it, one-third only have one insurer left\" on the Affordable Care Act exchanges.',\n",
       "  \"TRUE POLITIFACT TRUTH-O-METER'M\"],\n",
       " ['https://www.politifact.com/truth-o-meter/statements/2018/feb/26/patrick-morrisey/precedent-says-west-virginia-teachers-strike-isnt-/',\n",
       "  '\"The impending work stoppage is unlawful.\"',\n",
       "  \"TRUE POLITIFACT TRUTH-O-METER'M\"],\n",
       " ['https://www.politifact.com/virginia/statements/2016/oct/05/tim-kaine/tim-kaine-correctly-notes-richard-nixon-released-t/',\n",
       "  '\"Richard Nixon released tax returns when he was under audit.\"',\n",
       "  \"TRUE POLITIFACT TRUTH-O-METER'M\"],\n",
       " ['https://www.politifact.com/wisconsin/statements/2016/oct/07/paul-ryan/state-department-under-hillary-clinton-refused-sec/',\n",
       "  '\"Repeated requests for additional security in Benghazi were routinely denied\" by Hillary \"Clinton\\'s State Department.\"',\n",
       "  \"TRUE POLITIFACT TRUTH-O-METER'M\"],\n",
       " ['https://www.politifact.com/wisconsin/statements/2017/oct/03/chris-abele/do-90-americans-support-background-checks-all-gun-/',\n",
       "  '90 percent of Americans \"support universal background checks\" for gun purchases.',\n",
       "  \"TRUE POLITIFACT TRUTH-O-METER'M\"]]"
      ]
     },
     "execution_count": 31,
     "metadata": {},
     "output_type": "execute_result"
    }
   ],
   "source": [
    "[i for i in extracted_data if i[2] in [\"TRUE POLITIFACT TRUTH-O-METER'M\"]]\n"
   ]
  },
  {
   "cell_type": "code",
   "execution_count": 39,
   "metadata": {},
   "outputs": [],
   "source": [
    "def map_label(label):\n",
    "    false_labels = ['FALSE POLITIFACT TRUTH-O-METER \\' \"', \"LITIFACT TRUT - O-METER'M\", 'PANTS ON FIRE /', 'muuaw-o-dlld dou']\n",
    "    true_labels = [\"POLITIF TRUTH-O - TER'M\", 'TRUE POLI ACT TRUTH - - METERM', \"TRUE POLITIFACT TRUTH-O-METER'M\"]\n",
    "    \n",
    "    if label in false_labels:\n",
    "        return \"False\"\n",
    "    elif label in true_labels:\n",
    "        return \"True\"\n",
    "    else:\n",
    "        return \"Unknown\""
   ]
  },
  {
   "cell_type": "code",
   "execution_count": 40,
   "metadata": {},
   "outputs": [],
   "source": [
    "df['Label_mapped'] = df['Label'].apply(map_label)"
   ]
  },
  {
   "cell_type": "code",
   "execution_count": 41,
   "metadata": {},
   "outputs": [
    {
     "data": {
      "text/html": [
       "<div>\n",
       "<style scoped>\n",
       "    .dataframe tbody tr th:only-of-type {\n",
       "        vertical-align: middle;\n",
       "    }\n",
       "\n",
       "    .dataframe tbody tr th {\n",
       "        vertical-align: top;\n",
       "    }\n",
       "\n",
       "    .dataframe thead th {\n",
       "        text-align: right;\n",
       "    }\n",
       "</style>\n",
       "<table border=\"1\" class=\"dataframe\">\n",
       "  <thead>\n",
       "    <tr style=\"text-align: right;\">\n",
       "      <th></th>\n",
       "      <th>Article</th>\n",
       "      <th>Claim</th>\n",
       "      <th>Label</th>\n",
       "      <th>Label_mapped</th>\n",
       "    </tr>\n",
       "  </thead>\n",
       "  <tbody>\n",
       "    <tr>\n",
       "      <th>0</th>\n",
       "      <td>https://www.politifact.com/arizona/statements/...</td>\n",
       "      <td>Says Hillary Clinton has been given tens of mi...</td>\n",
       "      <td>TRUE POLI ACT TRUTH - - METERM</td>\n",
       "      <td>True</td>\n",
       "    </tr>\n",
       "    <tr>\n",
       "      <th>1</th>\n",
       "      <td>https://www.politifact.com/arizona/statements/...</td>\n",
       "      <td>Says marijuana use among Colorado high school ...</td>\n",
       "      <td>TRUE POLI ACT TRUTH - - METERM</td>\n",
       "      <td>True</td>\n",
       "    </tr>\n",
       "    <tr>\n",
       "      <th>2</th>\n",
       "      <td>https://www.politifact.com/california/statemen...</td>\n",
       "      <td>Says Indiana Gov. Mike Pence \"advocated divert...</td>\n",
       "      <td>TRUE POLI ACT TRUTH - - METERM</td>\n",
       "      <td>True</td>\n",
       "    </tr>\n",
       "    <tr>\n",
       "      <th>3</th>\n",
       "      <td>https://www.politifact.com/california/statemen...</td>\n",
       "      <td>\"California is growing a hell of a lot faster ...</td>\n",
       "      <td>POLITIF TRUTH-O - TER'M</td>\n",
       "      <td>True</td>\n",
       "    </tr>\n",
       "    <tr>\n",
       "      <th>4</th>\n",
       "      <td>https://www.politifact.com/california/statemen...</td>\n",
       "      <td>California's Proposition 63 would \"CRIMINALIZE...</td>\n",
       "      <td>LITIFACT TRUT - O-METER'M</td>\n",
       "      <td>False</td>\n",
       "    </tr>\n",
       "  </tbody>\n",
       "</table>\n",
       "</div>"
      ],
      "text/plain": [
       "                                             Article  \\\n",
       "0  https://www.politifact.com/arizona/statements/...   \n",
       "1  https://www.politifact.com/arizona/statements/...   \n",
       "2  https://www.politifact.com/california/statemen...   \n",
       "3  https://www.politifact.com/california/statemen...   \n",
       "4  https://www.politifact.com/california/statemen...   \n",
       "\n",
       "                                               Claim  \\\n",
       "0  Says Hillary Clinton has been given tens of mi...   \n",
       "1  Says marijuana use among Colorado high school ...   \n",
       "2  Says Indiana Gov. Mike Pence \"advocated divert...   \n",
       "3  \"California is growing a hell of a lot faster ...   \n",
       "4  California's Proposition 63 would \"CRIMINALIZE...   \n",
       "\n",
       "                            Label Label_mapped  \n",
       "0  TRUE POLI ACT TRUTH - - METERM         True  \n",
       "1  TRUE POLI ACT TRUTH - - METERM         True  \n",
       "2  TRUE POLI ACT TRUTH - - METERM         True  \n",
       "3         POLITIF TRUTH-O - TER'M         True  \n",
       "4       LITIFACT TRUT - O-METER'M        False  "
      ]
     },
     "execution_count": 41,
     "metadata": {},
     "output_type": "execute_result"
    }
   ],
   "source": [
    "df.head()"
   ]
  },
  {
   "cell_type": "code",
   "execution_count": 45,
   "metadata": {},
   "outputs": [
    {
     "name": "stdout",
     "output_type": "stream",
     "text": [
      "<class 'pandas.core.frame.DataFrame'>\n",
      "RangeIndex: 467 entries, 0 to 466\n",
      "Data columns (total 4 columns):\n",
      " #   Column        Non-Null Count  Dtype \n",
      "---  ------        --------------  ----- \n",
      " 0   Article       467 non-null    object\n",
      " 1   Claim         467 non-null    object\n",
      " 2   Label         467 non-null    object\n",
      " 3   Label_mapped  467 non-null    object\n",
      "dtypes: object(4)\n",
      "memory usage: 14.7+ KB\n"
     ]
    }
   ],
   "source": [
    "df.info()"
   ]
  },
  {
   "cell_type": "code",
   "execution_count": 44,
   "metadata": {},
   "outputs": [
    {
     "name": "stdout",
     "output_type": "stream",
     "text": [
      "Number of 'Unknown' labels: 0\n"
     ]
    }
   ],
   "source": [
    "unknown_count = (df['Label_mapped'] == 'Unknown').sum()\n",
    "\n",
    "print(\"Number of 'Unknown' labels:\", unknown_count)"
   ]
  },
  {
   "cell_type": "markdown",
   "metadata": {},
   "source": [
    "### SNOPES"
   ]
  },
  {
   "cell_type": "code",
   "execution_count": 52,
   "metadata": {},
   "outputs": [
    {
     "name": "stdout",
     "output_type": "stream",
     "text": [
      "https://www.snopes.com/fact-check/jesus-modeled-on-borgia/\n",
      "{'body-image': [], 'body-text': ['Whether modern depictions of the appearance of Jesus are historically accurate has long been a subject of debate, and one rumor related to that debate holds that the modern image of Jesus is largely based on the appearance of Cesare Borgia, a 15th century Italian nobleman.', 'Claims about Cesare Borgia\\'s likeness forming the basis for all modern depictions of Jesus are scattered. An online \"encyclopedia\" of dubious merit asserts the rumor as a \"little known fact,\" crediting French novelist Alexandre Dumas for the notion that Borgia \"influenced many images of Jesus Christ painted during and subsequent to his career.\"', 'Dumas was, while celebrated, a writer of fiction and not an historian. The rumor is frequently attributed to \"Volume I\" of Dumas\\' Celebrated Crimes (The Borgias), but we were unable to locate an expression of it in that essay.', 'Myriad online image macros assert that Borgia\\'s father \"forced\" his son\\'s visage into art history (a claim offered as an irony given that the Borgia family were supposedly \"not Christ-like\"), but no evidence ever accompanies such assertions:', 'Such images imply that the relatively standardized, modern depiction of Jesus emerged in approximately 1490, but art historians might argue otherwise. Although the Renaissance produced a vast quantity of the most prominent depictions of Jesus, plenty of artworks antedating 1490 bear the same visual qualities that were purportedly based on those of Borgia:', \"The need for representations of Christ's life in Italy was based on official practice within the Western Church. From the time of Pope Gregory the Great, images were valued both as lessons for the unlettered and as aids to worship. Scenes from Christ's life were thus desirable in churches, on frescoed walls and painted altarpieces, and also in portable form, in illustrated books and small altarpieces suitable for private consumption. Images were meant to enhance the experience of the faithful both in communal and in individual worship, and devotional treatises gave instructions for how to use pictures to enter more fully into sacred history. In the fourteenth and fifteenth centuries, such pictures often occurred in series that allowed viewers to trace the progression of events, but the stories of Christ's life were also represented in independent easel paintings, especially in the sixteenth century and after.\", \"Contrary to claims that Jesus' now-common characteristics emerged in 1490, artworks from the Middle Ages and Early Renaissance depicted Jesus in very much the same way that later artworks did. Giotto di Bondone's well-known 1305 mural The Lamentation of Christ features a white man with long brown hair, and Sandro Botticelli's 1487 Madonna of the Pomegranate depicts a similarly featured infant Christ. Hieronymus Bosch's Ecce Homo also antedates 1490 but demonstrates a recognizably familiar Jesus, as does Duccio di Buoninsegna's early 1300's Christ's Farewell to his Apostles (and other works) and Bondone's contemporaneous Last Supper (a very commonly depicted scene across time).\", 'The similarities in Jesus\\' image extend to other regions and movements, with Flemish Renaissance depictions antedating 1490 but still fitting the common pattern. A long haired, pale-skinned Jesus was observed in artworks from 1250 and centuries prior. Clearly, 1490 was in no way the year, or even the millennium, in which the most common characteristics of Jesus\\' depiction in art were solidified. Moreover, limitations in the transmission of ideas and trends in that era was such that;the establishment of a \"new Jesus\" would have taken years to propagate across countries and cultures in Europe.', '', 'Many image macros assert that Cesare Borgia was the son of a corrupt gangster, a criminal, a dictator, and a sexual deviant. Although Borgia is historically established as one of the likely illegitimate children of Pope Alexander VI (born Rodrigo Borgia), reference works describe the elder Borgia as a controversial Pope but not a \"gangster.\" It\\'s widely held that Pope Alexander VI\\'s checkered reign led in part to the backlash heralding the Protestant Reformation, but historical literature doesn\\'t describe him as a \"dictator.\" As for Cesare Borgia himself, he was born in 1476 and died at the age of 31 in 1507, so had his image been used as the model for Jesus in artworks created in or before 1490, those works would have been based on the features of a young teenager.', 'Cesare Borgia of course lived centuries before the advent of cameras, so the most common image we have of Borgia now is a portrait of disputed provenance:', 'The scant record includes another portrait which bears no noteworthy resemblance to either contemporaneous 15th century or modern depictions of Jesus:', '', \"In 2001 forensic anthropologist Richard Neave created a model of a Galilean man for a BBC documentary, Son of God, working on the basis of an actual skull found in the region. Neave did not claim his model showed Jesus's face but rather offered it as a means of prompting people to consider a Jesus who looked like a man of his time and place, since the Bible does not describe Jesus as having distinctive features:\", 'Much like conspiracy theories based primarily on modern photographs, the claim that depictions of Jesus originated with a portrait of Borgia appear to hinge almost entirely on negligible visual similarities in multiple artworks and the efficacy of suggestion.', 'No specific painting is routinely cited as one for which Cesare Borgia purportedly sat as a model (or which he inspired), and oddly enough, the image most commonly associated with this rumor was painted in 1940 and bears no resemblance to the few extant Borgia portraits.', 'The claim about Borgia and Jesus is possibly a distant variant of old and long-circulating rumors that Renaissance artist Michaelangelo Buonarroti\\'s famed Sistine Chapel ceiling contains \"Easter eggs\" evidencing covert motives or illustrating grudges on the artist\\'s part.', '1995 - 2019 by Snopes Media Group Inc.', 'This material may not be reproduced without permission.', 'Snopes and the Snopes.com logo are registered service marks of Snopes.com'], 'claim': \"The modern image of Jesus is modeled on Cesare Borgia, a gangster's son. See Example(s) I've read recently that the modern depictions of Jesus with blonde hair and blue eyes may have been patterned after Cesare Borgia, the illegitimate son of Pope Alexander VI. I'm curious if this is true since Borgia was decidedly NOT Christ-like. Collected via e-mail, January 2017\", 'headerImage': [['https://www.snopes.com/tachyon/2017/01/cesare_borgia_jesus_meme_feature.jpg', 'Snopes_images/5856.png']], 'headerTitle': \"Is the Modern Face of Jesus Modeled on a Gangster's Son'? Rumors that the modern image of Jesus is modeled on Cesare Borgia, a 'gangster's son,' do not stand up to scrutiny.\", 'publish_date': '2 January 2017'}\n",
      "https://www.snopes.com/fact-check/roots-devils-tower/\n",
      "{'body-image': [], 'body-text': ['On 31 July 2017, the Facebook page \"Casper Planet\" posted a message with the claim that the Wyoming State Parks Department had discovered a large network of tree roots beneath the base of Devil\\'s Tower (which, if you have never been, you may recognize from the film Close Encounters of the Third Kind):', '', '', 'This would be an exciting, landmark discovery except that there is absolutely no truth to the claim. The \"Casper Planet\" Facebook page is an entertainment Facebook page that frequently posts photoshopped pictures, political jokes, and other humorous content.', 'The \"About\" section of the page clearly says that their content is served with a \"big side order of satire\":', \"Delivering the news that doesn't matter directly to your news feed with a big side order of satire!\", 'In this case, \"Casper Planet\" is mocking a conspiracy theory, which springs out of flat-earth theory, holding that most mountains are simply the remains of ancient, gargantuan trees. Although \"Casper Planet\" did include a genuine photograph of Devil\\'s Tower, the pictured root system has little to do with the famous igneous rock formation in Wyoming. The image is actually a diagram showing how the roots of sweet corn have developed after eight weeks:', '<img class=\"aligncenter wp-image-98815\" style=\"border: 1px solid black;\" src=\"https://www.snopes.com/tachyon/2017/08/roots-collage.jpg?resize=600,192\" alt=\"\" srcset=\"https://www.snopes.com/tachyon/2017/08/roots-collage.jpg?w=1000 1000w, https://www.snopes.com/tachyon/2017/08/roots-collage.jpg?resize=300,96 300w, https://www.snopes.com/tachyon/2017/08/roots-collage.jpg?resize=768,246 768w\" sizes=\"(max-width: 600px) 100vw, 600px\" data-recalc-dims=\"1\"> The original image (right) showed that the roots extended four feet into the ground. It appears that \"Casper Planet\" changed this label to read four miles.', \"Although geologists are not entirely in agreement about how Devil's Tower was formed, this debate is more focused on the formation process, and less about whether the earth was once populated with atavistic, ten-mile-high trees:\", \"In 1907, scientists Darton and O'Hara decided that Devils Tower must be an eroded remnant of a laccolith. A laccolith is a large, mushroom shaped mass of igneous rock which intrudes between the layers of sedimentary rocks but does not reach the surface. This produces a rounded bulge in the sedimentary layers above the intrusion. This idea was quite popular in the early 1900s when numerous studies were done on a number of laccoliths in the Southwest.\", 'Other ideas have suggested that Devils Tower is a volcanic plug or that it is the neck of an extinct volcano. Although there is no evidence of volcanic activity volcanic ash, lava flows, or volcanic debris anywhere in the surrounding countryside, it is possible that this material may simply have eroded away.', 'The simplest explanation is that Devils Tower is a stock a small intrusive body formed by magma which cooled underground and was later exposed by erosion.', '<img class=\"aligncenter size-full wp-image-98819\" style=\"border: 1px solid black;\" src=\"https://www.snopes.com/tachyon/2017/08/ThreeGeoTheoriessm_1.jpg?w=600\" alt=\"\" srcset=\"https://www.snopes.com/tachyon/2017/08/ThreeGeoTheoriessm_1.jpg?w=640 640w, https://www.snopes.com/tachyon/2017/08/ThreeGeoTheoriessm_1.jpg?resize=300,69 300w\" sizes=\"(max-width: 640px) 100vw, 640px\" data-recalc-dims=\"1\">', 'Wyoming State Parks also addressed the claim in a 1 August 2017 Facebook post:', \"Wyoming State Parks did not, does not, has not and will not be participating in any kind of scientific study as claimed by this website, which is a fake account and has no basis in reality. Thanks for letting us know this was out there, we'll handle it from here!\", '1995 - 2019 by Snopes Media Group Inc.', 'This material may not be reproduced without permission.', 'Snopes and the Snopes.com logo are registered service marks of Snopes.com'], 'claim': \"A large root system was discovered below Devil's Tower in Wyoming.\", 'headerImage': [['https://www.snopes.com/tachyon/2017/08/devils_tower_fb.jpg', 'Snopes_images/5859.png']], 'headerTitle': \"Was a Giant System of Roots Discovered Below the Devil's Tower Rock Formation? A Facebook page reported that Devil's Tower, a large rock formation in Wyoming, was actually the remnants of a giant tree.\", 'publish_date': '1 August 2017'}\n",
      "https://www.snopes.com/fact-check/samsung-dog-skinning-machine/\n",
      "{'body-image': [['https://www.snopes.com/tachyon/2016/07/samsung-dog-killer1.jpg', 'Snopes_images/5860.png', '']], 'body-text': [\"A call to boycott the South Korean multinational conglomerate Samsung (best known in the U.S. for their electronics products) has been widely shared over the company's alleged involvement in the manufacture and sale of a device purportedly used to skin dogs alive for food preparation:\", '<img class=\"aligncenter size-full wp-image-43088\" src=\"https://www.snopes.com/tachyon/2016/07/samsung-dog-killer1.jpg?resize=485,673\" alt=\"samsung dog killer\" srcset=\"https://www.snopes.com/tachyon/2016/07/samsung-dog-killer1.jpg?w=728 728w, https://www.snopes.com/tachyon/2016/07/samsung-dog-killer1.jpg?resize=216,300 216w\" sizes=\"(max-width: 485px) 100vw, 485px\" data-recalc-dims=\"1\">', 'These machines are manufactured by Samsung to ripped the hair off dogs while they are still alive in the machine as it spins!', 'Samsung supplies these machines to vendors and dog meat traders. Not only is Samsung actively helping the barbaric practice of dog eating to continue but are also contributing to the suffering of thousands of dogs that are being tortured and killed, by being boiled, blow torched or skinned alive, the most horrific brutal methods possible by the dog meat butchers.', 'Samsung does not care! Their interest is only in profit.', 'The device pictured in the graphic is real, but the accompanying description of it is inaccurate. This device is not manufactured or sold by Samsung, and it was not used to skin a live dog. The photograph of the dog carcass was taken by Swiss documentary photographer Didier Ruef in South Korea in 2002, who noted the device was being used to eliminate the fur from an already-dead dog:', \"South Korea. Kimje area. Dog's slaughter for meat. A machine spins the dead dog to get rid of its fur.\", 'While the notion of eating dog meat may be appalling to most westerners, Ruef observed that \"dog meat is a delicatessen [sic] of Korean traditional cooking\" and the dish known as Bosintang is \"made of dog meat cooked in a soup with various spices and vegetables.\"', \"The machine depicted in the photograph probably wasn't designed for the sole purpose of skinning dogs. It closely resembles a contraption that is commonly used to de-feather slaughtered chickens and can readily be purchased commercially (although the version displayed here appears to be a homemade version).\", 'So what does Samsung have to do with any of this? A petition posted to Change.org calls on major companies, such as AT&T, Sprint, Verizon Wireless, Walmart, Costco, Best Buy, Amazon, Samsung, and LG to help stop the \"heinous butchering and eating\" of dogs in South Korea. Although these companies do not directly contribute to the culinary habits of South Koreans, the petition holds that by remaining neutral, these companies are condoning the act of eating dogs:', 'Bishop Desmond Tutu said, \"If you are neutral in situations of injustice, you have chosen the side of the oppressor.\"', 'As a major retailer of Samsung and LG products, you have the power to influence the S. Korean government to end the horrific cruelty that is perpetrated against innocent dogs and cats of South Korea.', \"It's possible that whoever created the graphic seen here misread the petition and mistakenly associated the manufacture of the pictured machine with Samsung.\", '1995 - 2019 by Snopes Media Group Inc.', 'This material may not be reproduced without permission.', 'Snopes and the Snopes.com logo are registered service marks of Snopes.com'], 'claim': 'A machine used to skin dogs is manufactured and sold by Samsung.', 'headerImage': [], 'headerTitle': \"Samsung's Dog-Skinning Machine A graphic calling for a boycott of Samsung products over allegations of animal abuse is based on faulty information.\", 'publish_date': '26 July 2016'}\n"
     ]
    }
   ],
   "source": [
    "# Extract required information\n",
    "extracted_data = []\n",
    "for article, info in snope_dataa.items():\n",
    "    # print(info['rating'])\n",
    "    if 'rating' in info:\n",
    "        if info['rating'] and info['rating'][0]:\n",
    "            extracted_data.append([article, info['claim'], info['rating'][0]])\n",
    "    else:\n",
    "        print(article)\n",
    "        print(info)\n",
    "        input()"
   ]
  },
  {
   "cell_type": "code",
   "execution_count": 59,
   "metadata": {},
   "outputs": [],
   "source": [
    "# Create DataFrame\n",
    "df_snop = pd.DataFrame(extracted_data, columns=['Article', 'Claim', 'Label'])"
   ]
  },
  {
   "cell_type": "code",
   "execution_count": 56,
   "metadata": {},
   "outputs": [
    {
     "data": {
      "text/plain": [
       "{'https://www.snopes.com/tachyon/2018/03/rating-correctly-attributed.png',\n",
       " 'https://www.snopes.com/tachyon/2018/03/rating-false.png',\n",
       " 'https://www.snopes.com/tachyon/2018/03/rating-legend.png',\n",
       " 'https://www.snopes.com/tachyon/2018/03/rating-misattributed.png',\n",
       " 'https://www.snopes.com/tachyon/2018/03/rating-miscaptioned.png',\n",
       " 'https://www.snopes.com/tachyon/2018/03/rating-mixture.png',\n",
       " 'https://www.snopes.com/tachyon/2018/03/rating-mostly-false.png',\n",
       " 'https://www.snopes.com/tachyon/2018/03/rating-mostly-true-new.png',\n",
       " 'https://www.snopes.com/tachyon/2018/03/rating-outdated.png',\n",
       " 'https://www.snopes.com/tachyon/2018/03/rating-scam.png',\n",
       " 'https://www.snopes.com/tachyon/2018/03/rating-true.png',\n",
       " 'https://www.snopes.com/tachyon/2018/03/rating-unproven.png'}"
      ]
     },
     "execution_count": 56,
     "metadata": {},
     "output_type": "execute_result"
    }
   ],
   "source": [
    "set([i[2] for i in extracted_data])"
   ]
  },
  {
   "cell_type": "markdown",
   "metadata": {},
   "source": [
    "| Label in datafile | Label |\n",
    "| --- | --- | \n",
    "| 'https://www.snopes.com/tachyon/2018/03/rating-correctly-attributed.png' | True |\n",
    "| 'https://www.snopes.com/tachyon/2018/03/rating-false.png' | False |\n",
    "| 'https://www.snopes.com/tachyon/2018/03/rating-legend.png' | Unknown |\n",
    "| 'https://www.snopes.com/tachyon/2018/03/rating-misattributed.png'| False |\n",
    "| 'https://www.snopes.com/tachyon/2018/03/rating-miscaptioned.png' | False |\n",
    "| 'https://www.snopes.com/tachyon/2018/03/rating-mixture.png' | Unknown |\n",
    "| 'https://www.snopes.com/tachyon/2018/03/rating-mostly-false.png' | False |\n",
    "| 'https://www.snopes.com/tachyon/2018/03/rating-mostly-true-new.png' | True |\n",
    "| 'https://www.snopes.com/tachyon/2018/03/rating-outdated.png' | Unknown |\n",
    "| 'https://www.snopes.com/tachyon/2018/03/rating-scam.png' | False |\n",
    "| 'https://www.snopes.com/tachyon/2018/03/rating-true.png' | True |\n",
    "| 'https://www.snopes.com/tachyon/2018/03/rating-unproven.png' | Unknown |\n",
    "\n",
    "https://www.snopes.com/tachyon/2018/03/rating-correctly-attributed.png', 'https://www.snopes.com/tachyon/2018/03/rating-mostly-true-new.png', 'https://www.snopes.com/tachyon/2018/03/rating-true.png' - True\n",
    "'https://www.snopes.com/tachyon/2018/03/rating-false.png', 'https://www.snopes.com/tachyon/2018/03/rating-misattributed.png', 'https://www.snopes.com/tachyon/2018/03/rating-miscaptioned.png', 'https://www.snopes.com/tachyon/2018/03/rating-mostly-false.png', 'https://www.snopes.com/tachyon/2018/03/rating-scam.png' - False\n"
   ]
  },
  {
   "cell_type": "code",
   "execution_count": 57,
   "metadata": {},
   "outputs": [
    {
     "data": {
      "text/plain": [
       "[['https://www.snopes.com/fact-check/breaking-a-mirror/',\n",
       "  'Breaking a mirror brings seven years of bad luck.',\n",
       "  'https://www.snopes.com/tachyon/2018/03/rating-legend.png'],\n",
       " ['https://www.snopes.com/fact-check/c3p0-trading-card/',\n",
       "  'A Star Wars trading card was altered to depict the droid C-3P0 with an oversized penis.',\n",
       "  'https://www.snopes.com/tachyon/2018/03/rating-legend.png'],\n",
       " ['https://www.snopes.com/fact-check/call-girl-johns-daughter/',\n",
       "  \"The hooker sent to a john's room turns out to be his daughter.\",\n",
       "  'https://www.snopes.com/tachyon/2018/03/rating-legend.png'],\n",
       " ['https://www.snopes.com/fact-check/case-intruder-ask-911-pizza/',\n",
       "  'A woman managed to call 911 during a domestic abuse incident by pretending to order a pizza.',\n",
       "  'https://www.snopes.com/tachyon/2018/03/rating-legend.png'],\n",
       " ['https://www.snopes.com/fact-check/chinas-three-squeaks-live-mice-dish/',\n",
       "  'A popular dish in China called \"Three Squeaks\" involves eating live mice.',\n",
       "  'https://www.snopes.com/tachyon/2018/03/rating-legend.png'],\n",
       " ['https://www.snopes.com/fact-check/dandridge-drained-pool/',\n",
       "  'In the 1950s, a Las Vegas hotel completely drained their pool because black entertainer Dorothy Dandridge stuck her toe in the water.',\n",
       "  'https://www.snopes.com/tachyon/2018/03/rating-legend.png'],\n",
       " ['https://www.snopes.com/fact-check/post-no-bills/',\n",
       "  'A properly folded U.S. $20 bill reveals images of the September 11 terrorist attacks on the World Trade Center and the Pentagon.',\n",
       "  'https://www.snopes.com/tachyon/2018/03/rating-legend.png'],\n",
       " ['https://www.snopes.com/fact-check/sex-roulette/',\n",
       "  '\"Sex roulette\" is a new sexual trend in which one attendee at an orgy is HIV-positive.',\n",
       "  'https://www.snopes.com/tachyon/2018/03/rating-legend.png'],\n",
       " ['https://www.snopes.com/fact-check/social-injustice/',\n",
       "  'Economics professor uses grading of exams to teach about socialism.',\n",
       "  'https://www.snopes.com/tachyon/2018/03/rating-legend.png'],\n",
       " ['https://www.snopes.com/fact-check/the-killer-in-the-backseat/',\n",
       "  'A good Samaritan warns a female driver about the armed and dangerous man hiding in the back seat of her car.',\n",
       "  'https://www.snopes.com/tachyon/2018/03/rating-legend.png'],\n",
       " ['https://www.snopes.com/fact-check/the-lion-king/',\n",
       "  'The letters S-E-X are formed by a swirling cloud of dust in The Lion King.',\n",
       "  'https://www.snopes.com/tachyon/2018/03/rating-legend.png'],\n",
       " ['https://www.snopes.com/fact-check/transfusion-confusion/',\n",
       "  'A brave little boy agrees to transfuse his ailing little sister, thinking the procedure will kill him even as it saves her life.',\n",
       "  'https://www.snopes.com/tachyon/2018/03/rating-legend.png']]"
      ]
     },
     "execution_count": 57,
     "metadata": {},
     "output_type": "execute_result"
    }
   ],
   "source": [
    "[i for i in extracted_data if i[2] in ['https://www.snopes.com/tachyon/2018/03/rating-legend.png',]]"
   ]
  },
  {
   "cell_type": "code",
   "execution_count": 60,
   "metadata": {},
   "outputs": [
    {
     "data": {
      "text/html": [
       "<div>\n",
       "<style scoped>\n",
       "    .dataframe tbody tr th:only-of-type {\n",
       "        vertical-align: middle;\n",
       "    }\n",
       "\n",
       "    .dataframe tbody tr th {\n",
       "        vertical-align: top;\n",
       "    }\n",
       "\n",
       "    .dataframe thead th {\n",
       "        text-align: right;\n",
       "    }\n",
       "</style>\n",
       "<table border=\"1\" class=\"dataframe\">\n",
       "  <thead>\n",
       "    <tr style=\"text-align: right;\">\n",
       "      <th></th>\n",
       "      <th>Article</th>\n",
       "      <th>Claim</th>\n",
       "      <th>Label</th>\n",
       "    </tr>\n",
       "  </thead>\n",
       "  <tbody>\n",
       "    <tr>\n",
       "      <th>0</th>\n",
       "      <td>https://www.snopes.com/fact-check/12-week-photo/</td>\n",
       "      <td>A photograph shows a 12-week-old fetus.</td>\n",
       "      <td>https://www.snopes.com/tachyon/2018/03/rating-...</td>\n",
       "    </tr>\n",
       "    <tr>\n",
       "      <th>1</th>\n",
       "      <td>https://www.snopes.com/fact-check/14-year-old-...</td>\n",
       "      <td>A teenage schoolgirl in Texas became pregnant ...</td>\n",
       "      <td>https://www.snopes.com/tachyon/2018/03/rating-...</td>\n",
       "    </tr>\n",
       "    <tr>\n",
       "      <th>2</th>\n",
       "      <td>https://www.snopes.com/fact-check/15-year-old-...</td>\n",
       "      <td>A homeowner shot and killed a teenaged boy tre...</td>\n",
       "      <td>https://www.snopes.com/tachyon/2018/03/rating-...</td>\n",
       "    </tr>\n",
       "    <tr>\n",
       "      <th>3</th>\n",
       "      <td>https://www.snopes.com/fact-check/1898-julia-r...</td>\n",
       "      <td>A photograph from 1898 shows Julia Richardson,...</td>\n",
       "      <td>https://www.snopes.com/tachyon/2018/03/rating-...</td>\n",
       "    </tr>\n",
       "    <tr>\n",
       "      <th>4</th>\n",
       "      <td>https://www.snopes.com/fact-check/1900s-playgr...</td>\n",
       "      <td>A black-and-white photograph shows children pl...</td>\n",
       "      <td>https://www.snopes.com/tachyon/2018/03/rating-...</td>\n",
       "    </tr>\n",
       "  </tbody>\n",
       "</table>\n",
       "</div>"
      ],
      "text/plain": [
       "                                             Article  \\\n",
       "0   https://www.snopes.com/fact-check/12-week-photo/   \n",
       "1  https://www.snopes.com/fact-check/14-year-old-...   \n",
       "2  https://www.snopes.com/fact-check/15-year-old-...   \n",
       "3  https://www.snopes.com/fact-check/1898-julia-r...   \n",
       "4  https://www.snopes.com/fact-check/1900s-playgr...   \n",
       "\n",
       "                                               Claim  \\\n",
       "0            A photograph shows a 12-week-old fetus.   \n",
       "1  A teenage schoolgirl in Texas became pregnant ...   \n",
       "2  A homeowner shot and killed a teenaged boy tre...   \n",
       "3  A photograph from 1898 shows Julia Richardson,...   \n",
       "4  A black-and-white photograph shows children pl...   \n",
       "\n",
       "                                               Label  \n",
       "0  https://www.snopes.com/tachyon/2018/03/rating-...  \n",
       "1  https://www.snopes.com/tachyon/2018/03/rating-...  \n",
       "2  https://www.snopes.com/tachyon/2018/03/rating-...  \n",
       "3  https://www.snopes.com/tachyon/2018/03/rating-...  \n",
       "4  https://www.snopes.com/tachyon/2018/03/rating-...  "
      ]
     },
     "execution_count": 60,
     "metadata": {},
     "output_type": "execute_result"
    }
   ],
   "source": [
    "df_snop.head()"
   ]
  },
  {
   "cell_type": "code",
   "execution_count": 58,
   "metadata": {},
   "outputs": [],
   "source": [
    "def map_label(label):\n",
    "    false_labels = ['https://www.snopes.com/tachyon/2018/03/rating-false.png', 'https://www.snopes.com/tachyon/2018/03/rating-misattributed.png', 'https://www.snopes.com/tachyon/2018/03/rating-miscaptioned.png', 'https://www.snopes.com/tachyon/2018/03/rating-mostly-false.png', 'https://www.snopes.com/tachyon/2018/03/rating-scam.png']\n",
    "    true_labels = ['https://www.snopes.com/tachyon/2018/03/rating-correctly-attributed.png', 'https://www.snopes.com/tachyon/2018/03/rating-mostly-true-new.png', 'https://www.snopes.com/tachyon/2018/03/rating-true.png']\n",
    "    \n",
    "    if label in false_labels:\n",
    "        return \"False\"\n",
    "    elif label in true_labels:\n",
    "        return \"True\"\n",
    "    else:\n",
    "        return \"Unknown\""
   ]
  },
  {
   "cell_type": "code",
   "execution_count": 61,
   "metadata": {},
   "outputs": [],
   "source": [
    "df_snop['Label_mapped'] = df_snop['Label'].apply(map_label)"
   ]
  },
  {
   "cell_type": "code",
   "execution_count": 62,
   "metadata": {},
   "outputs": [
    {
     "data": {
      "text/html": [
       "<div>\n",
       "<style scoped>\n",
       "    .dataframe tbody tr th:only-of-type {\n",
       "        vertical-align: middle;\n",
       "    }\n",
       "\n",
       "    .dataframe tbody tr th {\n",
       "        vertical-align: top;\n",
       "    }\n",
       "\n",
       "    .dataframe thead th {\n",
       "        text-align: right;\n",
       "    }\n",
       "</style>\n",
       "<table border=\"1\" class=\"dataframe\">\n",
       "  <thead>\n",
       "    <tr style=\"text-align: right;\">\n",
       "      <th></th>\n",
       "      <th>Article</th>\n",
       "      <th>Claim</th>\n",
       "      <th>Label</th>\n",
       "      <th>Label_mapped</th>\n",
       "    </tr>\n",
       "  </thead>\n",
       "  <tbody>\n",
       "    <tr>\n",
       "      <th>0</th>\n",
       "      <td>https://www.snopes.com/fact-check/12-week-photo/</td>\n",
       "      <td>A photograph shows a 12-week-old fetus.</td>\n",
       "      <td>https://www.snopes.com/tachyon/2018/03/rating-...</td>\n",
       "      <td>False</td>\n",
       "    </tr>\n",
       "    <tr>\n",
       "      <th>1</th>\n",
       "      <td>https://www.snopes.com/fact-check/14-year-old-...</td>\n",
       "      <td>A teenage schoolgirl in Texas became pregnant ...</td>\n",
       "      <td>https://www.snopes.com/tachyon/2018/03/rating-...</td>\n",
       "      <td>False</td>\n",
       "    </tr>\n",
       "    <tr>\n",
       "      <th>2</th>\n",
       "      <td>https://www.snopes.com/fact-check/15-year-old-...</td>\n",
       "      <td>A homeowner shot and killed a teenaged boy tre...</td>\n",
       "      <td>https://www.snopes.com/tachyon/2018/03/rating-...</td>\n",
       "      <td>False</td>\n",
       "    </tr>\n",
       "    <tr>\n",
       "      <th>3</th>\n",
       "      <td>https://www.snopes.com/fact-check/1898-julia-r...</td>\n",
       "      <td>A photograph from 1898 shows Julia Richardson,...</td>\n",
       "      <td>https://www.snopes.com/tachyon/2018/03/rating-...</td>\n",
       "      <td>False</td>\n",
       "    </tr>\n",
       "    <tr>\n",
       "      <th>4</th>\n",
       "      <td>https://www.snopes.com/fact-check/1900s-playgr...</td>\n",
       "      <td>A black-and-white photograph shows children pl...</td>\n",
       "      <td>https://www.snopes.com/tachyon/2018/03/rating-...</td>\n",
       "      <td>True</td>\n",
       "    </tr>\n",
       "  </tbody>\n",
       "</table>\n",
       "</div>"
      ],
      "text/plain": [
       "                                             Article  \\\n",
       "0   https://www.snopes.com/fact-check/12-week-photo/   \n",
       "1  https://www.snopes.com/fact-check/14-year-old-...   \n",
       "2  https://www.snopes.com/fact-check/15-year-old-...   \n",
       "3  https://www.snopes.com/fact-check/1898-julia-r...   \n",
       "4  https://www.snopes.com/fact-check/1900s-playgr...   \n",
       "\n",
       "                                               Claim  \\\n",
       "0            A photograph shows a 12-week-old fetus.   \n",
       "1  A teenage schoolgirl in Texas became pregnant ...   \n",
       "2  A homeowner shot and killed a teenaged boy tre...   \n",
       "3  A photograph from 1898 shows Julia Richardson,...   \n",
       "4  A black-and-white photograph shows children pl...   \n",
       "\n",
       "                                               Label Label_mapped  \n",
       "0  https://www.snopes.com/tachyon/2018/03/rating-...        False  \n",
       "1  https://www.snopes.com/tachyon/2018/03/rating-...        False  \n",
       "2  https://www.snopes.com/tachyon/2018/03/rating-...        False  \n",
       "3  https://www.snopes.com/tachyon/2018/03/rating-...        False  \n",
       "4  https://www.snopes.com/tachyon/2018/03/rating-...         True  "
      ]
     },
     "execution_count": 62,
     "metadata": {},
     "output_type": "execute_result"
    }
   ],
   "source": [
    "df_snop.head()"
   ]
  },
  {
   "cell_type": "code",
   "execution_count": 64,
   "metadata": {},
   "outputs": [
    {
     "name": "stdout",
     "output_type": "stream",
     "text": [
      "<class 'pandas.core.frame.DataFrame'>\n",
      "RangeIndex: 1700 entries, 0 to 1699\n",
      "Data columns (total 4 columns):\n",
      " #   Column        Non-Null Count  Dtype \n",
      "---  ------        --------------  ----- \n",
      " 0   Article       1700 non-null   object\n",
      " 1   Claim         1700 non-null   object\n",
      " 2   Label         1700 non-null   object\n",
      " 3   Label_mapped  1700 non-null   object\n",
      "dtypes: object(4)\n",
      "memory usage: 53.3+ KB\n"
     ]
    }
   ],
   "source": [
    "df_snop.info()"
   ]
  },
  {
   "cell_type": "code",
   "execution_count": 63,
   "metadata": {},
   "outputs": [
    {
     "name": "stdout",
     "output_type": "stream",
     "text": [
      "Number of 'Unknown' labels: 345\n"
     ]
    }
   ],
   "source": [
    "unknown_count = (df_snop['Label_mapped'] == 'Unknown').sum()\n",
    "\n",
    "print(\"Number of 'Unknown' labels:\", unknown_count)"
   ]
  },
  {
   "cell_type": "markdown",
   "metadata": {},
   "source": [
    "### ANALYSIS"
   ]
  },
  {
   "cell_type": "code",
   "execution_count": 66,
   "metadata": {},
   "outputs": [
    {
     "data": {
      "text/plain": [
       "Label_mapped\n",
       "False    303\n",
       "True     164\n",
       "Name: count, dtype: int64"
      ]
     },
     "execution_count": 66,
     "metadata": {},
     "output_type": "execute_result"
    }
   ],
   "source": [
    "df['Label_mapped'].value_counts()"
   ]
  },
  {
   "cell_type": "code",
   "execution_count": 67,
   "metadata": {},
   "outputs": [
    {
     "data": {
      "text/plain": [
       "Label_mapped\n",
       "False      1165\n",
       "Unknown     345\n",
       "True        190\n",
       "Name: count, dtype: int64"
      ]
     },
     "execution_count": 67,
     "metadata": {},
     "output_type": "execute_result"
    }
   ],
   "source": [
    "df_snop['Label_mapped'].value_counts()"
   ]
  },
  {
   "cell_type": "code",
   "execution_count": 78,
   "metadata": {},
   "outputs": [
    {
     "data": {
      "text/plain": [
       "467"
      ]
     },
     "execution_count": 78,
     "metadata": {},
     "output_type": "execute_result"
    }
   ],
   "source": [
    "lengths = [len(i.split()) for i in df['Claim']]\n",
    "len(lengths)"
   ]
  },
  {
   "cell_type": "code",
   "execution_count": 79,
   "metadata": {},
   "outputs": [
    {
     "data": {
      "text/plain": [
       "456"
      ]
     },
     "execution_count": 79,
     "metadata": {},
     "output_type": "execute_result"
    }
   ],
   "source": [
    "len([i for i in lengths if i > 5])"
   ]
  },
  {
   "cell_type": "code",
   "execution_count": 80,
   "metadata": {},
   "outputs": [
    {
     "data": {
      "text/plain": [
       "1700"
      ]
     },
     "execution_count": 80,
     "metadata": {},
     "output_type": "execute_result"
    }
   ],
   "source": [
    "lengths = [len(i.split()) for i in df_snop['Claim']]\n",
    "len(lengths)"
   ]
  },
  {
   "cell_type": "code",
   "execution_count": 81,
   "metadata": {},
   "outputs": [
    {
     "data": {
      "text/plain": [
       "1697"
      ]
     },
     "execution_count": 81,
     "metadata": {},
     "output_type": "execute_result"
    }
   ],
   "source": [
    "len([i for i in lengths if i > 5])"
   ]
  },
  {
   "cell_type": "code",
   "execution_count": 87,
   "metadata": {},
   "outputs": [],
   "source": [
    "df_combined = pd.concat([df, df_snop], ignore_index = True)"
   ]
  },
  {
   "cell_type": "code",
   "execution_count": 89,
   "metadata": {},
   "outputs": [
    {
     "data": {
      "text/html": [
       "<div>\n",
       "<style scoped>\n",
       "    .dataframe tbody tr th:only-of-type {\n",
       "        vertical-align: middle;\n",
       "    }\n",
       "\n",
       "    .dataframe tbody tr th {\n",
       "        vertical-align: top;\n",
       "    }\n",
       "\n",
       "    .dataframe thead th {\n",
       "        text-align: right;\n",
       "    }\n",
       "</style>\n",
       "<table border=\"1\" class=\"dataframe\">\n",
       "  <thead>\n",
       "    <tr style=\"text-align: right;\">\n",
       "      <th></th>\n",
       "      <th>Article</th>\n",
       "      <th>Claim</th>\n",
       "      <th>Label</th>\n",
       "      <th>Label_mapped</th>\n",
       "    </tr>\n",
       "  </thead>\n",
       "  <tbody>\n",
       "    <tr>\n",
       "      <th>0</th>\n",
       "      <td>https://www.politifact.com/arizona/statements/...</td>\n",
       "      <td>Says Hillary Clinton has been given tens of mi...</td>\n",
       "      <td>TRUE POLI ACT TRUTH - - METERM</td>\n",
       "      <td>True</td>\n",
       "    </tr>\n",
       "    <tr>\n",
       "      <th>1</th>\n",
       "      <td>https://www.politifact.com/arizona/statements/...</td>\n",
       "      <td>Says marijuana use among Colorado high school ...</td>\n",
       "      <td>TRUE POLI ACT TRUTH - - METERM</td>\n",
       "      <td>True</td>\n",
       "    </tr>\n",
       "    <tr>\n",
       "      <th>2</th>\n",
       "      <td>https://www.politifact.com/california/statemen...</td>\n",
       "      <td>Says Indiana Gov. Mike Pence \"advocated divert...</td>\n",
       "      <td>TRUE POLI ACT TRUTH - - METERM</td>\n",
       "      <td>True</td>\n",
       "    </tr>\n",
       "    <tr>\n",
       "      <th>3</th>\n",
       "      <td>https://www.politifact.com/california/statemen...</td>\n",
       "      <td>\"California is growing a hell of a lot faster ...</td>\n",
       "      <td>POLITIF TRUTH-O - TER'M</td>\n",
       "      <td>True</td>\n",
       "    </tr>\n",
       "    <tr>\n",
       "      <th>4</th>\n",
       "      <td>https://www.politifact.com/california/statemen...</td>\n",
       "      <td>California's Proposition 63 would \"CRIMINALIZE...</td>\n",
       "      <td>LITIFACT TRUT - O-METER'M</td>\n",
       "      <td>False</td>\n",
       "    </tr>\n",
       "  </tbody>\n",
       "</table>\n",
       "</div>"
      ],
      "text/plain": [
       "                                             Article  \\\n",
       "0  https://www.politifact.com/arizona/statements/...   \n",
       "1  https://www.politifact.com/arizona/statements/...   \n",
       "2  https://www.politifact.com/california/statemen...   \n",
       "3  https://www.politifact.com/california/statemen...   \n",
       "4  https://www.politifact.com/california/statemen...   \n",
       "\n",
       "                                               Claim  \\\n",
       "0  Says Hillary Clinton has been given tens of mi...   \n",
       "1  Says marijuana use among Colorado high school ...   \n",
       "2  Says Indiana Gov. Mike Pence \"advocated divert...   \n",
       "3  \"California is growing a hell of a lot faster ...   \n",
       "4  California's Proposition 63 would \"CRIMINALIZE...   \n",
       "\n",
       "                            Label Label_mapped  \n",
       "0  TRUE POLI ACT TRUTH - - METERM         True  \n",
       "1  TRUE POLI ACT TRUTH - - METERM         True  \n",
       "2  TRUE POLI ACT TRUTH - - METERM         True  \n",
       "3         POLITIF TRUTH-O - TER'M         True  \n",
       "4       LITIFACT TRUT - O-METER'M        False  "
      ]
     },
     "execution_count": 89,
     "metadata": {},
     "output_type": "execute_result"
    }
   ],
   "source": [
    "df_combined.head()"
   ]
  },
  {
   "cell_type": "code",
   "execution_count": 90,
   "metadata": {},
   "outputs": [
    {
     "data": {
      "text/html": [
       "<div>\n",
       "<style scoped>\n",
       "    .dataframe tbody tr th:only-of-type {\n",
       "        vertical-align: middle;\n",
       "    }\n",
       "\n",
       "    .dataframe tbody tr th {\n",
       "        vertical-align: top;\n",
       "    }\n",
       "\n",
       "    .dataframe thead th {\n",
       "        text-align: right;\n",
       "    }\n",
       "</style>\n",
       "<table border=\"1\" class=\"dataframe\">\n",
       "  <thead>\n",
       "    <tr style=\"text-align: right;\">\n",
       "      <th></th>\n",
       "      <th>Article</th>\n",
       "      <th>Claim</th>\n",
       "      <th>Label</th>\n",
       "      <th>Label_mapped</th>\n",
       "    </tr>\n",
       "  </thead>\n",
       "  <tbody>\n",
       "    <tr>\n",
       "      <th>2162</th>\n",
       "      <td>https://www.snopes.com/fact-check/yeti-nra-bus...</td>\n",
       "      <td>YETI told the NRA the brand no longer wishes t...</td>\n",
       "      <td>https://www.snopes.com/tachyon/2018/03/rating-...</td>\n",
       "      <td>Unknown</td>\n",
       "    </tr>\n",
       "    <tr>\n",
       "      <th>2163</th>\n",
       "      <td>https://www.snopes.com/fact-check/yoko-pro-bono/</td>\n",
       "      <td>Yoko Ono confirmed that she had an affair with...</td>\n",
       "      <td>https://www.snopes.com/tachyon/2018/03/rating-...</td>\n",
       "      <td>False</td>\n",
       "    </tr>\n",
       "    <tr>\n",
       "      <th>2164</th>\n",
       "      <td>https://www.snopes.com/fact-check/yosemite-sam...</td>\n",
       "      <td>Yosemite Sam has been banned from television b...</td>\n",
       "      <td>https://www.snopes.com/tachyon/2018/03/rating-...</td>\n",
       "      <td>False</td>\n",
       "    </tr>\n",
       "    <tr>\n",
       "      <th>2165</th>\n",
       "      <td>https://www.snopes.com/fact-check/you-had-a-hu...</td>\n",
       "      <td>A list shows documents that several prominent ...</td>\n",
       "      <td>https://www.snopes.com/tachyon/2018/03/rating-...</td>\n",
       "      <td>Unknown</td>\n",
       "    </tr>\n",
       "    <tr>\n",
       "      <th>2166</th>\n",
       "      <td>https://www.snopes.com/fact-check/zoo-employee...</td>\n",
       "      <td>A Florida zoo employee was killed while attemp...</td>\n",
       "      <td>https://www.snopes.com/tachyon/2018/03/rating-...</td>\n",
       "      <td>False</td>\n",
       "    </tr>\n",
       "  </tbody>\n",
       "</table>\n",
       "</div>"
      ],
      "text/plain": [
       "                                                Article  \\\n",
       "2162  https://www.snopes.com/fact-check/yeti-nra-bus...   \n",
       "2163   https://www.snopes.com/fact-check/yoko-pro-bono/   \n",
       "2164  https://www.snopes.com/fact-check/yosemite-sam...   \n",
       "2165  https://www.snopes.com/fact-check/you-had-a-hu...   \n",
       "2166  https://www.snopes.com/fact-check/zoo-employee...   \n",
       "\n",
       "                                                  Claim  \\\n",
       "2162  YETI told the NRA the brand no longer wishes t...   \n",
       "2163  Yoko Ono confirmed that she had an affair with...   \n",
       "2164  Yosemite Sam has been banned from television b...   \n",
       "2165  A list shows documents that several prominent ...   \n",
       "2166  A Florida zoo employee was killed while attemp...   \n",
       "\n",
       "                                                  Label Label_mapped  \n",
       "2162  https://www.snopes.com/tachyon/2018/03/rating-...      Unknown  \n",
       "2163  https://www.snopes.com/tachyon/2018/03/rating-...        False  \n",
       "2164  https://www.snopes.com/tachyon/2018/03/rating-...        False  \n",
       "2165  https://www.snopes.com/tachyon/2018/03/rating-...      Unknown  \n",
       "2166  https://www.snopes.com/tachyon/2018/03/rating-...        False  "
      ]
     },
     "execution_count": 90,
     "metadata": {},
     "output_type": "execute_result"
    }
   ],
   "source": [
    "df_combined.tail()"
   ]
  },
  {
   "cell_type": "code",
   "execution_count": 91,
   "metadata": {},
   "outputs": [
    {
     "name": "stdout",
     "output_type": "stream",
     "text": [
      "<class 'pandas.core.frame.DataFrame'>\n",
      "RangeIndex: 2167 entries, 0 to 2166\n",
      "Data columns (total 4 columns):\n",
      " #   Column        Non-Null Count  Dtype \n",
      "---  ------        --------------  ----- \n",
      " 0   Article       2167 non-null   object\n",
      " 1   Claim         2167 non-null   object\n",
      " 2   Label         2167 non-null   object\n",
      " 3   Label_mapped  2167 non-null   object\n",
      "dtypes: object(4)\n",
      "memory usage: 67.8+ KB\n"
     ]
    }
   ],
   "source": [
    "df_combined.info()"
   ]
  },
  {
   "cell_type": "code",
   "execution_count": 92,
   "metadata": {},
   "outputs": [
    {
     "data": {
      "text/plain": [
       "Label_mapped\n",
       "False      1468\n",
       "True        354\n",
       "Unknown     345\n",
       "Name: count, dtype: int64"
      ]
     },
     "execution_count": 92,
     "metadata": {},
     "output_type": "execute_result"
    }
   ],
   "source": [
    "df_combined['Label_mapped'].value_counts()"
   ]
  },
  {
   "cell_type": "code",
   "execution_count": 96,
   "metadata": {},
   "outputs": [
    {
     "name": "stdout",
     "output_type": "stream",
     "text": [
      "Dataframe saved to path - './politifact_claims.csv'\n",
      "Dataframe saved to path - './snopes_claims.csv'\n",
      "Dataframe saved to path - './politi_snop_combnined.csv'\n"
     ]
    },
    {
     "data": {
      "text/plain": [
       "1"
      ]
     },
     "execution_count": 96,
     "metadata": {},
     "output_type": "execute_result"
    }
   ],
   "source": [
    "save_csv(df, \"./politifact_claims.csv\")\n",
    "save_csv(df_snop, \"./snopes_claims.csv\")\n",
    "save_csv(df_combined, \"./politi_snop_combnined.csv\")"
   ]
  },
  {
   "cell_type": "markdown",
   "metadata": {},
   "source": [
    "# AVeriTeC "
   ]
  },
  {
   "cell_type": "code",
   "execution_count": 97,
   "metadata": {},
   "outputs": [],
   "source": [
    "averitec_data_folder = \"../../DataSets/AVeriTeC/data/\""
   ]
  },
  {
   "cell_type": "code",
   "execution_count": 98,
   "metadata": {},
   "outputs": [],
   "source": [
    "content_file_name = \"train.json\""
   ]
  },
  {
   "cell_type": "code",
   "execution_count": 99,
   "metadata": {},
   "outputs": [
    {
     "data": {
      "text/plain": [
       "True"
      ]
     },
     "execution_count": 99,
     "metadata": {},
     "output_type": "execute_result"
    }
   ],
   "source": [
    "averitec_file_path = averitec_data_folder+content_file_name\n",
    "os.path.exists(averitec_file_path)"
   ]
  },
  {
   "cell_type": "code",
   "execution_count": 115,
   "metadata": {},
   "outputs": [
    {
     "data": {
      "text/plain": [
       "3068"
      ]
     },
     "execution_count": 115,
     "metadata": {},
     "output_type": "execute_result"
    }
   ],
   "source": [
    "len(loadFILE(averitec_file_path))"
   ]
  },
  {
   "cell_type": "code",
   "execution_count": 101,
   "metadata": {},
   "outputs": [
    {
     "data": {
      "text/plain": [
       "{'claim': 'Hunter Biden had no experience in Ukraine or in the energy sector when he joined the board of Burisma.',\n",
       " 'required_reannotation': False,\n",
       " 'label': 'Supported',\n",
       " 'justification': 'No former experience stated.',\n",
       " 'claim_date': '25-8-2020',\n",
       " 'speaker': 'Pam Bondi',\n",
       " 'original_claim_url': None,\n",
       " 'fact_checking_article': 'https://web.archive.org/web/20210111003633/https://www.politifact.com/article/2020/aug/26/fact-checking-second-night-2020-rnc/',\n",
       " 'reporting_source': 'Speech at The Republican National Convention',\n",
       " 'location_ISO_code': 'US',\n",
       " 'claim_types': ['Position Statement'],\n",
       " 'fact_checking_strategies': ['Written Evidence'],\n",
       " 'questions': [{'question': 'Did Hunter Biden have any experience in the energy sector at the time he joined the board of the  Burisma energy company in 2014',\n",
       "   'answers': [{'answer': 'No',\n",
       "     'answer_type': 'Boolean',\n",
       "     'source_url': 'https://en.wikipedia.org/wiki/Hunter_Biden',\n",
       "     'source_medium': 'Web text',\n",
       "     'boolean_explanation': \"Hunter bidens previous career history does not include work for energy company's.\",\n",
       "     'cached_source_url': 'https://web.archive.org/web/20230323135844/https://en.wikipedia.org/wiki/Hunter_Biden'}]},\n",
       "  {'question': 'Did Hunter Biden have any experience in Ukraine at the time he joined the board of the  Burisma energy company in 2014',\n",
       "   'answers': [{'answer': 'No',\n",
       "     'answer_type': 'Boolean',\n",
       "     'source_url': 'https://en.wikipedia.org/wiki/Hunter_Biden',\n",
       "     'source_medium': 'Web text',\n",
       "     'boolean_explanation': \"Hunter Bidens previous career history does not include working with Ukrainian company's.\",\n",
       "     'cached_source_url': 'https://web.archive.org/web/20230323135844/https://en.wikipedia.org/wiki/Hunter_Biden'}]}],\n",
       " 'cached_original_claim_url': None}"
      ]
     },
     "execution_count": 101,
     "metadata": {},
     "output_type": "execute_result"
    }
   ],
   "source": [
    "loadFILE(averitec_file_path)[0]"
   ]
  },
  {
   "cell_type": "code",
   "execution_count": 102,
   "metadata": {},
   "outputs": [],
   "source": [
    "averitec_dataa = loadFILE(averitec_file_path)"
   ]
  },
  {
   "cell_type": "code",
   "execution_count": 103,
   "metadata": {},
   "outputs": [],
   "source": [
    "# Filter data where \"required_reannotation\" is False, then select required keys\n",
    "filtered_data = [{\"Article\": entry[\"fact_checking_article\"], \n",
    "                  \"Claim\": entry[\"claim\"], \n",
    "                  \"Label\": entry[\"label\"]} for entry in averitec_dataa if not entry[\"required_reannotation\"]]\n"
   ]
  },
  {
   "cell_type": "code",
   "execution_count": 104,
   "metadata": {},
   "outputs": [],
   "source": [
    "\n",
    "# Convert filtered data to DataFrame\n",
    "df_averi = pd.DataFrame(filtered_data)"
   ]
  },
  {
   "cell_type": "code",
   "execution_count": 105,
   "metadata": {},
   "outputs": [
    {
     "data": {
      "text/html": [
       "<div>\n",
       "<style scoped>\n",
       "    .dataframe tbody tr th:only-of-type {\n",
       "        vertical-align: middle;\n",
       "    }\n",
       "\n",
       "    .dataframe tbody tr th {\n",
       "        vertical-align: top;\n",
       "    }\n",
       "\n",
       "    .dataframe thead th {\n",
       "        text-align: right;\n",
       "    }\n",
       "</style>\n",
       "<table border=\"1\" class=\"dataframe\">\n",
       "  <thead>\n",
       "    <tr style=\"text-align: right;\">\n",
       "      <th></th>\n",
       "      <th>Article</th>\n",
       "      <th>Claim</th>\n",
       "      <th>Label</th>\n",
       "    </tr>\n",
       "  </thead>\n",
       "  <tbody>\n",
       "    <tr>\n",
       "      <th>0</th>\n",
       "      <td>https://web.archive.org/web/20210111003633/htt...</td>\n",
       "      <td>Hunter Biden had no experience in Ukraine or i...</td>\n",
       "      <td>Supported</td>\n",
       "    </tr>\n",
       "    <tr>\n",
       "      <th>1</th>\n",
       "      <td>https://web.archive.org/web/20210111003633/htt...</td>\n",
       "      <td>Donald Trump delivered the largest tax cuts in...</td>\n",
       "      <td>Refuted</td>\n",
       "    </tr>\n",
       "    <tr>\n",
       "      <th>2</th>\n",
       "      <td>https://web.archive.org/web/20210307003741/htt...</td>\n",
       "      <td>In Nigeria … in terms of revenue share, 20% go...</td>\n",
       "      <td>Supported</td>\n",
       "    </tr>\n",
       "    <tr>\n",
       "      <th>3</th>\n",
       "      <td>https://web.archive.org/web/20210111003633/htt...</td>\n",
       "      <td>Biden has pledged to stop border wall construc...</td>\n",
       "      <td>Supported</td>\n",
       "    </tr>\n",
       "    <tr>\n",
       "      <th>4</th>\n",
       "      <td>https://web.archive.org/web/20210428162642/htt...</td>\n",
       "      <td>After the police shooting of Jacob Blake, Gov....</td>\n",
       "      <td>Refuted</td>\n",
       "    </tr>\n",
       "  </tbody>\n",
       "</table>\n",
       "</div>"
      ],
      "text/plain": [
       "                                             Article  \\\n",
       "0  https://web.archive.org/web/20210111003633/htt...   \n",
       "1  https://web.archive.org/web/20210111003633/htt...   \n",
       "2  https://web.archive.org/web/20210307003741/htt...   \n",
       "3  https://web.archive.org/web/20210111003633/htt...   \n",
       "4  https://web.archive.org/web/20210428162642/htt...   \n",
       "\n",
       "                                               Claim      Label  \n",
       "0  Hunter Biden had no experience in Ukraine or i...  Supported  \n",
       "1  Donald Trump delivered the largest tax cuts in...    Refuted  \n",
       "2  In Nigeria … in terms of revenue share, 20% go...  Supported  \n",
       "3  Biden has pledged to stop border wall construc...  Supported  \n",
       "4  After the police shooting of Jacob Blake, Gov....    Refuted  "
      ]
     },
     "execution_count": 105,
     "metadata": {},
     "output_type": "execute_result"
    }
   ],
   "source": [
    "df_averi.head()"
   ]
  },
  {
   "cell_type": "code",
   "execution_count": 106,
   "metadata": {},
   "outputs": [
    {
     "data": {
      "text/plain": [
       "{'Conflicting Evidence/Cherrypicking',\n",
       " 'Not Enough Evidence',\n",
       " 'Refuted',\n",
       " 'Supported'}"
      ]
     },
     "execution_count": 106,
     "metadata": {},
     "output_type": "execute_result"
    }
   ],
   "source": [
    "set(df_averi['Label'])"
   ]
  },
  {
   "cell_type": "markdown",
   "metadata": {},
   "source": [
    "| Label in Datafile | Label |\n",
    "| --- | --- |\n",
    "| 'Conflicting Evidence/Cherrypicking' | Unknown |\n",
    "| 'Not Enough Evidence' | Unknown |\n",
    "| 'Refuted' | False |\n",
    "| 'Supported' | True | \n",
    "\n",
    "'Supported' - True \\\n",
    "'Refuted' - False "
   ]
  },
  {
   "cell_type": "code",
   "execution_count": 107,
   "metadata": {},
   "outputs": [],
   "source": [
    "def map_label(label):\n",
    "    false_labels = ['Refuted']\n",
    "    true_labels = ['Supported']\n",
    "    \n",
    "    if label in false_labels:\n",
    "        return \"False\"\n",
    "    elif label in true_labels:\n",
    "        return \"True\"\n",
    "    else:\n",
    "        return \"Unknown\""
   ]
  },
  {
   "cell_type": "code",
   "execution_count": 108,
   "metadata": {},
   "outputs": [],
   "source": [
    "df_averi['Label_mapped'] = df_averi['Label'].apply(map_label)"
   ]
  },
  {
   "cell_type": "code",
   "execution_count": 109,
   "metadata": {},
   "outputs": [
    {
     "data": {
      "text/html": [
       "<div>\n",
       "<style scoped>\n",
       "    .dataframe tbody tr th:only-of-type {\n",
       "        vertical-align: middle;\n",
       "    }\n",
       "\n",
       "    .dataframe tbody tr th {\n",
       "        vertical-align: top;\n",
       "    }\n",
       "\n",
       "    .dataframe thead th {\n",
       "        text-align: right;\n",
       "    }\n",
       "</style>\n",
       "<table border=\"1\" class=\"dataframe\">\n",
       "  <thead>\n",
       "    <tr style=\"text-align: right;\">\n",
       "      <th></th>\n",
       "      <th>Article</th>\n",
       "      <th>Claim</th>\n",
       "      <th>Label</th>\n",
       "      <th>Label_mapped</th>\n",
       "    </tr>\n",
       "  </thead>\n",
       "  <tbody>\n",
       "    <tr>\n",
       "      <th>0</th>\n",
       "      <td>https://web.archive.org/web/20210111003633/htt...</td>\n",
       "      <td>Hunter Biden had no experience in Ukraine or i...</td>\n",
       "      <td>Supported</td>\n",
       "      <td>True</td>\n",
       "    </tr>\n",
       "    <tr>\n",
       "      <th>1</th>\n",
       "      <td>https://web.archive.org/web/20210111003633/htt...</td>\n",
       "      <td>Donald Trump delivered the largest tax cuts in...</td>\n",
       "      <td>Refuted</td>\n",
       "      <td>False</td>\n",
       "    </tr>\n",
       "    <tr>\n",
       "      <th>2</th>\n",
       "      <td>https://web.archive.org/web/20210307003741/htt...</td>\n",
       "      <td>In Nigeria … in terms of revenue share, 20% go...</td>\n",
       "      <td>Supported</td>\n",
       "      <td>True</td>\n",
       "    </tr>\n",
       "    <tr>\n",
       "      <th>3</th>\n",
       "      <td>https://web.archive.org/web/20210111003633/htt...</td>\n",
       "      <td>Biden has pledged to stop border wall construc...</td>\n",
       "      <td>Supported</td>\n",
       "      <td>True</td>\n",
       "    </tr>\n",
       "    <tr>\n",
       "      <th>4</th>\n",
       "      <td>https://web.archive.org/web/20210428162642/htt...</td>\n",
       "      <td>After the police shooting of Jacob Blake, Gov....</td>\n",
       "      <td>Refuted</td>\n",
       "      <td>False</td>\n",
       "    </tr>\n",
       "  </tbody>\n",
       "</table>\n",
       "</div>"
      ],
      "text/plain": [
       "                                             Article  \\\n",
       "0  https://web.archive.org/web/20210111003633/htt...   \n",
       "1  https://web.archive.org/web/20210111003633/htt...   \n",
       "2  https://web.archive.org/web/20210307003741/htt...   \n",
       "3  https://web.archive.org/web/20210111003633/htt...   \n",
       "4  https://web.archive.org/web/20210428162642/htt...   \n",
       "\n",
       "                                               Claim      Label Label_mapped  \n",
       "0  Hunter Biden had no experience in Ukraine or i...  Supported         True  \n",
       "1  Donald Trump delivered the largest tax cuts in...    Refuted        False  \n",
       "2  In Nigeria … in terms of revenue share, 20% go...  Supported         True  \n",
       "3  Biden has pledged to stop border wall construc...  Supported         True  \n",
       "4  After the police shooting of Jacob Blake, Gov....    Refuted        False  "
      ]
     },
     "execution_count": 109,
     "metadata": {},
     "output_type": "execute_result"
    }
   ],
   "source": [
    "df_averi.head()"
   ]
  },
  {
   "cell_type": "code",
   "execution_count": 110,
   "metadata": {},
   "outputs": [
    {
     "data": {
      "text/plain": [
       "Label_mapped\n",
       "False      1307\n",
       "True        617\n",
       "Unknown     282\n",
       "Name: count, dtype: int64"
      ]
     },
     "execution_count": 110,
     "metadata": {},
     "output_type": "execute_result"
    }
   ],
   "source": [
    "df_averi['Label_mapped'].value_counts()"
   ]
  },
  {
   "cell_type": "code",
   "execution_count": 111,
   "metadata": {},
   "outputs": [
    {
     "name": "stdout",
     "output_type": "stream",
     "text": [
      "<class 'pandas.core.frame.DataFrame'>\n",
      "RangeIndex: 2206 entries, 0 to 2205\n",
      "Data columns (total 4 columns):\n",
      " #   Column        Non-Null Count  Dtype \n",
      "---  ------        --------------  ----- \n",
      " 0   Article       2206 non-null   object\n",
      " 1   Claim         2206 non-null   object\n",
      " 2   Label         2206 non-null   object\n",
      " 3   Label_mapped  2206 non-null   object\n",
      "dtypes: object(4)\n",
      "memory usage: 69.1+ KB\n"
     ]
    }
   ],
   "source": [
    "df_averi.info()"
   ]
  },
  {
   "cell_type": "code",
   "execution_count": 112,
   "metadata": {},
   "outputs": [
    {
     "data": {
      "text/plain": [
       "2206"
      ]
     },
     "execution_count": 112,
     "metadata": {},
     "output_type": "execute_result"
    }
   ],
   "source": [
    "lengths = [len(i.split()) for i in df_averi['Claim']]\n",
    "len(lengths)"
   ]
  },
  {
   "cell_type": "code",
   "execution_count": 113,
   "metadata": {},
   "outputs": [
    {
     "data": {
      "text/plain": [
       "2158"
      ]
     },
     "execution_count": 113,
     "metadata": {},
     "output_type": "execute_result"
    }
   ],
   "source": [
    "len([i for i in lengths if i > 5])"
   ]
  },
  {
   "cell_type": "code",
   "execution_count": 114,
   "metadata": {},
   "outputs": [
    {
     "name": "stdout",
     "output_type": "stream",
     "text": [
      "Dataframe saved to path - './averitec_claims.csv'\n"
     ]
    },
    {
     "data": {
      "text/plain": [
       "1"
      ]
     },
     "execution_count": 114,
     "metadata": {},
     "output_type": "execute_result"
    }
   ],
   "source": [
    "save_csv(df_averi, \"./averitec_claims.csv\")"
   ]
  },
  {
   "cell_type": "code",
   "execution_count": 117,
   "metadata": {},
   "outputs": [],
   "source": [
    "df_combined = pd.concat([df_combined, df_averi], ignore_index = True)"
   ]
  },
  {
   "cell_type": "code",
   "execution_count": 119,
   "metadata": {},
   "outputs": [
    {
     "name": "stdout",
     "output_type": "stream",
     "text": [
      "<class 'pandas.core.frame.DataFrame'>\n",
      "RangeIndex: 4373 entries, 0 to 4372\n",
      "Data columns (total 4 columns):\n",
      " #   Column        Non-Null Count  Dtype \n",
      "---  ------        --------------  ----- \n",
      " 0   Article       4373 non-null   object\n",
      " 1   Claim         4373 non-null   object\n",
      " 2   Label         4373 non-null   object\n",
      " 3   Label_mapped  4373 non-null   object\n",
      "dtypes: object(4)\n",
      "memory usage: 136.8+ KB\n"
     ]
    }
   ],
   "source": [
    "df_combined.info()"
   ]
  },
  {
   "cell_type": "code",
   "execution_count": 120,
   "metadata": {},
   "outputs": [
    {
     "data": {
      "text/plain": [
       "Label_mapped\n",
       "False      2775\n",
       "True        971\n",
       "Unknown     627\n",
       "Name: count, dtype: int64"
      ]
     },
     "execution_count": 120,
     "metadata": {},
     "output_type": "execute_result"
    }
   ],
   "source": [
    "df_combined['Label_mapped'].value_counts()"
   ]
  },
  {
   "cell_type": "code",
   "execution_count": 121,
   "metadata": {},
   "outputs": [
    {
     "name": "stdout",
     "output_type": "stream",
     "text": [
      "Dataframe saved to path - './politi_snop_averi_combnined.csv'\n"
     ]
    },
    {
     "data": {
      "text/plain": [
       "1"
      ]
     },
     "execution_count": 121,
     "metadata": {},
     "output_type": "execute_result"
    }
   ],
   "source": [
    "save_csv(df_combined, \"./politi_snop_averi_combnined.csv\")"
   ]
  }
 ],
 "metadata": {
  "kernelspec": {
   "display_name": "nineSemEnv",
   "language": "python",
   "name": "python3"
  },
  "language_info": {
   "codemirror_mode": {
    "name": "ipython",
    "version": 3
   },
   "file_extension": ".py",
   "mimetype": "text/x-python",
   "name": "python",
   "nbconvert_exporter": "python",
   "pygments_lexer": "ipython3",
   "version": "3.11.6"
  }
 },
 "nbformat": 4,
 "nbformat_minor": 2
}
